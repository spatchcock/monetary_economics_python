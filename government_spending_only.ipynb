{
 "metadata": {
  "name": ""
 },
 "nbformat": 3,
 "nbformat_minor": 0,
 "worksheets": [
  {
   "cells": [
    {
     "cell_type": "markdown",
     "metadata": {},
     "source": [
      "Whole economies are (obviously, very) complex. They involve the aggregate economic decisions and actions of individuals, businesses, banks and governments and include concepts such as prices (or inflation), interest rates, government spending levels and tax rates, levels of national income and public and/or private debt, as well as foreign trade and capital flows. Ultimately, a sufficiently detailed model might seek to represent each of these concepts (and more), but if we don't already know what they mean and how they fit together then we'd better pick a simpler starting point  and try to build up the model complexity incrementally.\n",
      "\n",
      "So, what is the simplest model of a monetary economy that can be conceived? What definitely needs to be represented, and what could potentially be left out. Well, one thing that seems pretty critical in a monetary economy is source of money. So, where will the money come from in our simple economy? There are two obvious candidates: a government, or a bank. Both can be considered to create money in modern economies but for the sake of simplicity, lets start with one of them. For now, let's imagine that the government is the source of money and see where it takes us."
     ]
    },
    {
     "cell_type": "markdown",
     "metadata": {},
     "source": [
      "So, in this model there is a government sector and a non-government sector. The government spends by creating money which is then available to circulate in the economy.\n",
      "\n",
      "The non-government sector engages in consumer spending. There are no firms explicitly represented: the model simply assumes that the income of businesses is entirely spent on the wages of its workers and is therefore ultimately household income. This makes things nice and simple.\n",
      "\n",
      "Here, we'll write a simple model in Python to advance through time and keep track of the flows (government spending, consumer spending, national income) and stocks (non-government wealth, the money stock) of money. We're using discrete timesteps and so will derive *difference equations* linking flows of money in one time period with flows or stocks of money from the same or the previous time period."
     ]
    },
    {
     "cell_type": "markdown",
     "metadata": {},
     "source": [
      "The income of the non-government sector is based on the familiar *national income identity*, which states that total income is equal to consumption spending plus government spending:\n",
      "\n",
      "$$Y = C + G$$\n",
      "\n",
      "Since we're dealing with discrete timesteps we'll define income ($Y$) in one time period ($t$) as being the result of spending in the previous time period ($t-1$), that is:\n",
      "\n",
      "$$Y_t = C_{t-1} + G_{t-1}$$\n",
      "\n",
      "where $C$ is consumer spending and $G$ is government spending. So now we need to define how $C$ and $G$ arise. Well, $G$ is easy. We'll simply say that the government sets a spending level arbitrarily, presumably based on what level of services it wants to provide. And since the government creates the money, there is no constraint, at least yet. SO the government simply spends a constant amount each time period. And, for now, lets assume that the non-government sector - the @private@ sector - simply spends its entire income on consumption goods and services,that is:\n",
      "\n",
      "$$C_t = Y_{t}$$\n",
      "\n",
      "Okay, let's code it up...\n"
     ]
    },
    {
     "cell_type": "markdown",
     "metadata": {},
     "source": [
      "We're going to use the Python libraries <code>numpy</code> and <code>matplotlib</code>, so we import them first. <code>numpy</code> might be a little overkill for our purposes here but we'll get used to it now as it might be useful in more complex models. <code>matplotlib</code> will allow us to produce graphs of our model solution."
     ]
    },
    {
     "cell_type": "code",
     "collapsed": false,
     "input": [
      "import matplotlib.pyplot as plt\n",
      "import numpy as np\n",
      "%matplotlib inline  "
     ],
     "language": "python",
     "metadata": {},
     "outputs": [],
     "prompt_number": 1
    },
    {
     "cell_type": "markdown",
     "metadata": {},
     "source": [
      "Next, we'll define the number of timesteps we want to propagate our model through. Let's go for 100. These are arbitrary anyway. We'll use a variable called $N$."
     ]
    },
    {
     "cell_type": "code",
     "collapsed": false,
     "input": [
      "N = 100"
     ],
     "language": "python",
     "metadata": {},
     "outputs": [],
     "prompt_number": 2
    },
    {
     "cell_type": "markdown",
     "metadata": {},
     "source": [
      "Now we'll set up the system parameters and variables. We have *exogenous* variables - those which are set outside of the model - and *endogenous* variables - determined by the model as it evolves through time. In this formulation, government spending, is the only variable set externally at the outset and is not dependent on the value of any other variables. It does not change (unless we choose to change it).\n",
      "\n",
      "All of the other variables, in this case $Y$ and $C$, are contingent on the other variables and may change during the propagation of the model."
     ]
    },
    {
     "cell_type": "markdown",
     "metadata": {},
     "source": [
      "Since we don't know the values of the endogenous variables yet, we just need to set up some arrays to hold their values as we solve the model at each time step. So for each endogenous variable we want an array of size $N$. This way we'll record their values through time and can inspect the history of the economy as it evolved. We can use the *numpy* library to create arrays of this size populated - for now - by zeros. This conveniently sets the initial condition of each of these variables - the value at $t=0$, the first value in each array - to zero, as they should be given that no activity has yet taken place. The subsequent values will be overwritten as we propagate our model."
     ]
    },
    {
     "cell_type": "code",
     "collapsed": false,
     "input": [
      "Y    = np.zeros(N) # income\n",
      "C    = np.zeros(N) # consumption"
     ],
     "language": "python",
     "metadata": {},
     "outputs": [],
     "prompt_number": 3
    },
    {
     "cell_type": "markdown",
     "metadata": {},
     "source": [
      "Now for the exogeneous variables. Government spending is going to be constant but let's treat it as a variable and create a value for it for each time step. We'll set each value to be constant for now, but this structure will allow us to vary government spending later. Let's go for an arbitrary government spend of 20 in each time period. \n",
      "\n",
      "We first initialize an array of zeros of length $N$. We then set each value in the array to 20 using the handy <code>range</code> function to generate a sequence of $t$ values from $0$ to $N$ to iterate through."
     ]
    },
    {
     "cell_type": "code",
     "collapsed": false,
     "input": [
      "G  = np.zeros(N) # government spending\n",
      "\n",
      "for i in range(0,N): \n",
      "    G[i] = 20"
     ],
     "language": "python",
     "metadata": {},
     "outputs": [],
     "prompt_number": 4
    },
    {
     "cell_type": "markdown",
     "metadata": {},
     "source": [
      "Now were in a position to iterate through each time step and solve the equations, populating our arrays as we go.\n",
      "\n",
      "We'll use a <code>for</code> loop to iterate. Since we have difference equations that reference the previous timestep, we cannot start at $t=0$ as there'd be no previous values to use (remember, Python arrays are zero-indexed). So we start at $t=1$. This means that the zeros in the first cell (index = 0) of each of our arrays become our initial conditions. The $G$ array is the exception in having a non-zero initial condition (<code>G[0]=20</code>).\n",
      "\n",
      "In this case we use the <code>range</code> function to generate a sequence of $t$ values from $1$ to $N$."
     ]
    },
    {
     "cell_type": "code",
     "collapsed": false,
     "input": [
      "for t in range(1, N):\n",
      "    # Determine income for this period based on spending in last period\n",
      "    Y[t] = G[t-1] + C[t-1] \n",
      "    \n",
      "    C[t]   = Y[t]"
     ],
     "language": "python",
     "metadata": {},
     "outputs": [],
     "prompt_number": 6
    },
    {
     "cell_type": "markdown",
     "metadata": {},
     "source": [
      "That's it! We've solved the entire history of our economy."
     ]
    },
    {
     "cell_type": "code",
     "collapsed": false,
     "input": [
      "\n",
      "fig = plt.figure()\n",
      "\n",
      "income_plot = fig.add_subplot(111, xlim=(0, N), ylim=(0, np.max(Y)*1.5))\n",
      "income_plot.plot(range(N), Y, lw=3)\n",
      "income_plot.plot(range(N), C, lw=3)\n",
      "income_plot.plot(range(N), G, lw=3)\n",
      "income_plot.grid()\n"
     ],
     "language": "python",
     "metadata": {},
     "outputs": [
      {
       "metadata": {},
       "output_type": "display_data",
       "png": "[encoded data removed]",
       "text": [
        "<matplotlib.figure.Figure at 0x7fe1377aeed0>"
       ]
      }
     ],
     "prompt_number": 7
    },
    {
     "cell_type": "markdown",
     "metadata": {},
     "source": [
      "growth rate is 20 per t\n",
      "\n",
      "shows that consumption drives growth\n",
      "\n",
      "government spending is getting multiplied up, ultimately 100 times\n",
      "\n",
      "But realistic? We can see some flaws. Its unlikely that real produciton of goods and services could grow so fast. And, although we haven't formally built up the logic yet, our instinct might make us conclude that this economy would therefore be inflationary. It is a monetary model only.\n",
      "\n",
      "Tax. Curbs spending. Curbs inflation?\n",
      "\n",
      "Saving. Curbs spending. Curbs inflation in lieu of taxation"
     ]
    }
   ],
   "metadata": {}
  }
 ]
}