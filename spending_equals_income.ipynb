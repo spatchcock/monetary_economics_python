{
 "metadata": {
  "name": ""
 },
 "nbformat": 3,
 "nbformat_minor": 0,
 "worksheets": [
  {
   "cells": [
    {
     "cell_type": "markdown",
     "metadata": {},
     "source": [
      "Whole economies are (obviously, very) complex. They involve the aggregate economic decisions and actions of individuals, businesses, banks and governments. They include concepts such as prices (or inflation), interest rates, government spending levels and tax rates, levels of national income and public and/or private debt, as well as foreign trade and capital flows. Ultimately, a sufficiently detailed model might seek to represent each of these concepts (and more). But understanding such complexity is easiest when it is broken down into simpler units. Therefore, we'd better pick a simpler starting point and try to build up the complexity incrementally.\n",
      "\n",
      "So, what is the simplest model of a monetary economy that can be conceived? What definitely needs to be represented, and what could potentially be left out? Here, we'll attempt to omit as much as possible. We'll assume no government and no banks exist. We'll assume that there is a fixed amount of money in existence. And we'll also assume that nobody is interested in saving or trading with external economies. What can we learn from such an economy?."
     ]
    },
    {
     "cell_type": "heading",
     "level": 2,
     "metadata": {
      "slideshow": {
       "slide_type": "-"
      }
     },
     "source": [
      "A very simple economy"
     ]
    },
    {
     "cell_type": "markdown",
     "metadata": {},
     "source": [
      "Okay, so we have some money. We don't know where it came from. Perhaps the money is gold or some other precious metal. Someone discovered it at some point and made it into coins. In any case, it doesn't matter for our purposes. We simply assume it exists and is distributed across the population in some fashion. \n",
      "\n",
      "So, what happens with this money? Well, in this scenario, we're going for something incredibly simple. We're going to assume that people simply consume. That is, they spend all of their income. We can formalise this by using some algebra. Let's identify consumption with the label $C$, and income as $Y$. Now we can make a mathematical statement about consumption in our economy:\n",
      "\n",
      "$$C = Y$$\n",
      "\n",
      "This is our first *consumption function* - a mathematical expression describing the spending behaviour of our citizens. This expression could be more complicated if we wanted to describe more sophisticated behaviour, but for now they simply spend whatever their income is. The equation could be thought of as describing the spending behaviour of an individual (*average*) citizen. But the intention is really to represent the *aggregate* spending decisions of everybody together.\n",
      "\n",
      "But, as is obvious from the equation, we need to know something about income in order to understand spending. This is where we need to use a bit of thought. Lets imagine that we spend \u00a310 on something. We can immediately make at least one logical deduction about the wider effect of that spending on the economy: *someone else just gained an income of \u00a310*. This is true by virtue of the simple and obvious fact that spending is a two-way street, involving a buyer and seller, a spender and an earner. No transaction involves one person alone. In general, whenever there is an act of spending, we know that an equal amount of income has been generated in the economy. And when many separate transactions occur over the whole economy, the total amount of income will be equal to the total amount spent. \n",
      "\n",
      "We've already defined spending ($C$) and income ($Y$) mathematically, so let's write down what we've just logically derived:\n",
      "\n",
      "$$Y = C$$\n",
      "\n",
      "Total income is equal to total spending. \n",
      "\n",
      "So now we have two expressions which describe how money flows in our economy. One which describes income and one which describes spending (consumption). Now, the two equations are \"coupled\" in the sense that both equations refer to the same variables and require the other in order to be solved. But more than that, the two equations are almost identical, and imply pretty much circular definitions for income and spending. Well, the point of this model, if nothing else, is to show that money *circulates*: your spending becomes my income, which becomes my spending, which becomes someone else's income, and so on... So the apparent circularity actually reflects a basic insight. \n",
      "\n",
      "But it's worth pointing out that these definitions of spending and income aren't really circular: they *do* represent distinct concepts and *could* be different. The consumption function is a statement of human behaviour, intended to convey what we believe our citizens are choosing to do with their money (on average). We could have defined it differently, for example:\n",
      "\n",
      "$$C = \\frac{Y}{2}$$\n",
      "\n",
      "would state that people spend only half of their income (presumably saving the rest). On the other hand, the income equation does not represent an assumption about behaviour in our economy. It is more precise than that. It is an accounting identity describing the two relations in a(ll) transaction(s). We happen to have defined the only type of transaction in our economy as being consumption spending, but we might conceivably include something else, for example, government spending:\n",
      "\n",
      "$$Y = C + G$$\n",
      "\n",
      "So the, the reason that the consumption and income equations in our model resemble one another so closely is simply that we have stripped out as much complexity as possible and essentially reduced it to just private citizens exchanging consumption goods and service with one another: consuption spending and income become completely aligned under these conditions. This gives us some useful insights and is a fundamental building block for more complex models."
     ]
    },
    {
     "cell_type": "heading",
     "level": 2,
     "metadata": {},
     "source": [
      "A model in Python"
     ]
    },
    {
     "cell_type": "markdown",
     "metadata": {},
     "source": [
      "It might easy to see what will (or rather, what won't) happen in this simple economy without resorting to a computer simulation. But we'll do it anyway as it will form the basis for the more interesting models that will follow.\n",
      "\n",
      "We want to create a model that represents the evolution of our economy through time. We'll step through time, simulate any flows of money which are impied by our rules above, and see where it takes us. We're going to deal with with discrete timesteps and so we need to define how spending occurs *across time periods*. Given the justification given above we'll say that income is earned concurrently with spending, i.e. in the same timestep - when spending occurs, income is earned. Mathematically, we can state this by writing *difference equations* which use subscripts to denote the time period under consideration $t$:\n",
      "\n",
      "$$Y_t = C_t$$\n",
      "\n",
      "So the income in, say, the 5th time period, $Y_5$, would be, according tot he equation above, equal to the spending in that same time period, $C_5$. Next we'll say that citizens in our economy spend their income in the *next* time step, that is, *after* their income is earned in the current time step. Therefore, we can relate spending in *one* time period is equal to the income earned in the *previous* one:\n",
      "\n",
      "$$C_t = Y_{t-1}$$\n",
      "\n",
      "The spending in the 5th time period, $C_5$, would be equal to the income earned in the 4th time period, $Y_4$.\n",
      "\n",
      "So now we have difference equations which relate spending and income and time. The only other thing we need in this model is to state what spending occurs in the first time step. Without this, the model would never get going, since spending is dependent on the income of a previous time step. This type of information is usually termed an *initial condition*. Let's go with 100, so:\n",
      "\n",
      "$$C_0 = 100$$\n",
      "\n",
      "and therefore, by accounting identity:\n",
      "\n",
      "$$Y_0 = 100$$\n",
      "\n",
      "Okay, we've got our equations and out initial condition. Let's code something."
     ]
    },
    {
     "cell_type": "markdown",
     "metadata": {},
     "source": [
      "We're going to use the Python libraries <code>numpy</code> and <code>matplotlib</code>, so we import them first. <code>numpy</code> might be a little overkill for our purposes here but we'll get used to it now as it might be useful in more complex models. <code>matplotlib</code> will allow us to produce graphs of our model solution."
     ]
    },
    {
     "cell_type": "code",
     "collapsed": false,
     "input": [
      "import matplotlib.pyplot as plt\n",
      "import numpy as np\n",
      "%matplotlib inline  "
     ],
     "language": "python",
     "metadata": {},
     "outputs": [],
     "prompt_number": 34
    },
    {
     "cell_type": "markdown",
     "metadata": {},
     "source": [
      "Next, we'll define the number of timesteps we want to propagate our model through. Let's go for 100. These are arbitrary anyway. We'll use a variable called $N$."
     ]
    },
    {
     "cell_type": "code",
     "collapsed": false,
     "input": [
      "N = 100"
     ],
     "language": "python",
     "metadata": {},
     "outputs": [],
     "prompt_number": 35
    },
    {
     "cell_type": "markdown",
     "metadata": {},
     "source": [
      "$Y$ and $C$ are determined by the model as it evolves through time (they are *endogenous* variables). Since we don't know the values of these variables for every time period yet, we just need to set up some containers to hold their values as we solve the model at each time step. We'll use arrays, which are basically just lists of numbers that we can add to and read later. So for both $Y$ and $C$ we want an array of size $N$. This way we'll record their values through time and afterwards we can inspect the history of the economy as it evolved. We can use the <code>.zeros()</code> function from the <code>numpy</code> library to create arrays of this size populated - for now - by zeros. "
     ]
    },
    {
     "cell_type": "code",
     "collapsed": false,
     "input": [
      "C = np.zeros(N) # consumption\n",
      "Y = np.zeros(N) # income"
     ],
     "language": "python",
     "metadata": {},
     "outputs": [],
     "prompt_number": 36
    },
    {
     "cell_type": "markdown",
     "metadata": {},
     "source": [
      "And to satisfy our initial condition, we just need to set the first value for both consumption and income to 100. The values in arrays can be set (or read) by using square brackets and the number of the position we're interested in. Python arrays are \"zero-indexed\", so the first value has a position, or \"index\", of <code>0</code>."
     ]
    },
    {
     "cell_type": "code",
     "collapsed": false,
     "input": [
      "C[0] = 100\n",
      "Y[0] = 100"
     ],
     "language": "python",
     "metadata": {},
     "outputs": [],
     "prompt_number": 37
    },
    {
     "cell_type": "markdown",
     "metadata": {},
     "source": [
      "We can use the <code>print</code> function to inspect these variables and check they are doing what we think. For example,"
     ]
    },
    {
     "cell_type": "code",
     "collapsed": false,
     "input": [
      "print(C)"
     ],
     "language": "python",
     "metadata": {},
     "outputs": [
      {
       "output_type": "stream",
       "stream": "stdout",
       "text": [
        "[ 100.    0.    0.    0.    0.    0.    0.    0.    0.    0.    0.    0.\n",
        "    0.    0.    0.    0.    0.    0.    0.    0.    0.    0.    0.    0.\n",
        "    0.    0.    0.    0.    0.    0.    0.    0.    0.    0.    0.    0.\n",
        "    0.    0.    0.    0.    0.    0.    0.    0.    0.    0.    0.    0.\n",
        "    0.    0.    0.    0.    0.    0.    0.    0.    0.    0.    0.    0.\n",
        "    0.    0.    0.    0.    0.    0.    0.    0.    0.    0.    0.    0.\n",
        "    0.    0.    0.    0.    0.    0.    0.    0.    0.    0.    0.    0.\n",
        "    0.    0.    0.    0.    0.    0.    0.    0.    0.    0.    0.    0.\n",
        "    0.    0.    0.    0.]\n"
       ]
      }
     ],
     "prompt_number": 38
    },
    {
     "cell_type": "markdown",
     "metadata": {},
     "source": [
      "Now were in a position to iterate through each time step and solve the equations, populating our arrays as we go. We'll use a <code>for</code> loop to iterate. This is a type of structure provided in most (all?) programming languages for repeating a particular procedure some number of times. In this case, we're going to solve our spending and income equations for our 100 time steps. Since we have difference equations that reference the previous timestep, we cannot start at $t=0$ as there'd be no previous values to use. So we start at $t=1$ and our initial conditions defined at $t=0$ give the required starting information. \n",
      "\n",
      "The <code>range</code> function provides a handy way to generate a sequence of $t$ values from $1$ to $N$."
     ]
    },
    {
     "cell_type": "code",
     "collapsed": false,
     "input": [
      "for t in range(1, N):\n",
      "    C[t] = Y[t-1] # calculate spending based on earlier income\n",
      "    Y[t] = C[t]   # calculcate income earned in this time period\n"
     ],
     "language": "python",
     "metadata": {},
     "outputs": [],
     "prompt_number": 40
    },
    {
     "cell_type": "markdown",
     "metadata": {},
     "source": [
      "That's it! We've solved the entire history of our economy. Let's make some plots of how spending and income varied through time in our economy. We'll use the <code>matplotlib</code> library here."
     ]
    },
    {
     "cell_type": "code",
     "collapsed": false,
     "input": [
      "# create a figure\n",
      "fig = plt.figure()\n",
      "\n",
      "# create a subplot for consumption\n",
      "consumption_plot = fig.add_subplot(121)\n",
      "# plot consumption (C) versus time step (N)\n",
      "consumption_plot.plot(range(N), C, lw=3)\n",
      "# add gridlines\n",
      "consumption_plot.grid()\n",
      "# label axes\n",
      "plt.xlabel('time')\n",
      "plt.ylabel('consumption')\n",
      "\n",
      "# create a second subplot for income\n",
      "income_plot = fig.add_subplot(122)\n",
      "# plot income (Y) versus time step (N)\n",
      "income_plot.plot(range(N), Y, lw=3)\n",
      "# add gridlines\n",
      "income_plot.grid()\n",
      "# label axes\n",
      "plt.xlabel('time')\n",
      "plt.ylabel('income')\n",
      "\n",
      "# space subplots neatly\n",
      "plt.tight_layout()"
     ],
     "language": "python",
     "metadata": {},
     "outputs": [
      {
       "metadata": {},
       "output_type": "display_data",
       "png": "[encoded data removed]",
       "text": [
        "<matplotlib.figure.Figure at 0x7f795303cb50>"
       ]
      }
     ],
     "prompt_number": 41
    },
    {
     "cell_type": "markdown",
     "metadata": {},
     "source": [
      "You'll be forgiven for not being overly excited by these results. But in any case, let's walk through what happened. We started with 100 pounds being spent in the first time step. This immediately became 100 pounds of income. In the second timestep, the 100 pounds of income earned in the first time step was spent by those \"recipients\" and immediately became 100 pounds of income for \"others\" in the economy. This process was repeated another 97 times. The upshot is that during every time step the total amount of spending in the economy was 100 pounds, and the total amount of income was 100 pounds."
     ]
    },
    {
     "cell_type": "heading",
     "level": 2,
     "metadata": {},
     "source": [
      "Stocks, flows and the \"velocity\" of money"
     ]
    },
    {
     "cell_type": "markdown",
     "metadata": {},
     "source": [
      "We started out by postulating a fixed amount of money in our economy but we haven't really said any more about that. Do we know how much that amount is? And what is the difference between the amount of money and the amounts of income that we have just modelled?\n",
      "\n",
      "Well, given the assumptions that we have used in our economy, we can quite easily deduce what the total amount of money is. We have insisted that the only use for money in this model is consumption spending. Further, we have assumed that all earned income is spent on every time step, and that there is only one round of spending in each time step. It follows that the entire quanity of money must be spent exactly once in each timestep. There cannot be any *more* money in existence than what is spent in each time step, otherwise some of it would have to be unspent (i.e. saved) which contradicts our assumptions. And there cannot be any *less* money than the amount of spending in each timestep otherwise some of it would have to be spent twice, which again contradicts the structure of our model. Therefore, since the amount spent in each time step is 100 pounds, we can conclude that the total money supply is 100 pounds. \n",
      "\n",
      "So the value of the money supply is the same as the value of income in our economy. Is that a general rule? *No*. Again, it is simply an artifact of our incredibly simple model. To generalise this we have to consider a fundamental difference between money and income. The quantity of money is *stock* quantity, which means that it can be measured at a *single point in time* and represents a specific absolute value, in this case in the unit of pounds. Income is a *flow* quantity, which means that it is measured *over a period of time* and represents a rate over time, in this case the rate of pounds earned per time step. Stocks are related to flows in that flows can cause a given stock (e.g. wealth) to be increased (income) or decreased (spending) through time.\n",
      "\n",
      "What we have (hopefully) seen, is that a given stock of money continually changes hands and that these flows are called spending and income. In our very simple example economy, the entire stock of money changes hands once a timestep. Viewed another way, we happen to have timesteps which perfectly coincide with the rate at which the entire stock of money turns over. This results in income levels in each time step that that precisely match the quantity of money in circulation. This begs the question: how long is a time step in the model? Or, put another way, how long does the money stock take to turnover?\n",
      "\n",
      "Well the time steps are completely arbitrary in our model. They could represent days, weeks, months, years or something else entirely. But for arguments sake, let's say that each time step is a quarter of year, i.e. 3 months. We therefore conclude that our economy is spending all of it's income over a 3 month period, earning the associated income, and spending that amount again over the next 3 month period. Equally, the entire money supply turns over every 3 months. How, then, does quarterly income relate to that over a different time period, say a year?\n",
      "\n",
      "We can probably do this in our heads but let's do it the long way for the sake of understanding how to manipulate the data. We need to convert our quarterly time series of income data into a yearly time series. Basically we need to group our income data into groups of 4 representing the quarters of each successive year in our 100 quarter experiment. And for each group of 4 quarters we simply want to add the incomes together to get annual income for that period. In other words, annual is just the sum of 4 quarters of income.\n",
      "\n",
      "At present, our income array is 100 x 1 items in size."
     ]
    },
    {
     "cell_type": "code",
     "collapsed": false,
     "input": [
      "print(Y)"
     ],
     "language": "python",
     "metadata": {},
     "outputs": [
      {
       "output_type": "stream",
       "stream": "stdout",
       "text": [
        "[ 100.  100.  100.  100.  100.  100.  100.  100.  100.  100.  100.  100.\n",
        "  100.  100.  100.  100.  100.  100.  100.  100.  100.  100.  100.  100.\n",
        "  100.  100.  100.  100.  100.  100.  100.  100.  100.  100.  100.  100.\n",
        "  100.  100.  100.  100.  100.  100.  100.  100.  100.  100.  100.  100.\n",
        "  100.  100.  100.  100.  100.  100.  100.  100.  100.  100.  100.  100.\n",
        "  100.  100.  100.  100.  100.  100.  100.  100.  100.  100.  100.  100.\n",
        "  100.  100.  100.  100.  100.  100.  100.  100.  100.  100.  100.  100.\n",
        "  100.  100.  100.  100.  100.  100.  100.  100.  100.  100.  100.  100.\n",
        "  100.  100.  100.  100.]\n"
       ]
      }
     ],
     "prompt_number": 42
    },
    {
     "cell_type": "markdown",
     "metadata": {},
     "source": [
      "We can explicitly check the size using the <code>.size()</code> function."
     ]
    },
    {
     "cell_type": "code",
     "collapsed": false,
     "input": [
      "Y.size"
     ],
     "language": "python",
     "metadata": {},
     "outputs": [
      {
       "metadata": {},
       "output_type": "pyout",
       "prompt_number": 44,
       "text": [
        "100"
       ]
      }
     ],
     "prompt_number": 44
    },
    {
     "cell_type": "markdown",
     "metadata": {},
     "source": [
      "So we definitely have 100 quarters of income information. We can figure out how many years that represents by simply dividing it by 4."
     ]
    },
    {
     "cell_type": "code",
     "collapsed": false,
     "input": [
      "Y.size/4"
     ],
     "language": "python",
     "metadata": {},
     "outputs": [
      {
       "metadata": {},
       "output_type": "pyout",
       "prompt_number": 23,
       "text": [
        "25"
       ]
      }
     ],
     "prompt_number": 23
    },
    {
     "cell_type": "markdown",
     "metadata": {},
     "source": [
      "So we have 25 years represented in our model. We'll use the <code>.reshape()</code> function to reorganise the data into 25 groups of 4, effectively creating a table with 4 rows and 25 columns. We then use the <code>.sum()</code> function to sum across the rows, leaving just 25 values represent the sum totals for each year. Just to check, we'll print out the result."
     ]
    },
    {
     "cell_type": "code",
     "collapsed": false,
     "input": [
      "Y_annual = Y.reshape((4,25)).sum(axis=0)"
     ],
     "language": "python",
     "metadata": {},
     "outputs": [],
     "prompt_number": 45
    },
    {
     "cell_type": "markdown",
     "metadata": {},
     "source": [
      "Okay, so we've converted out quarterly income data into annual income data. let's plot it like before."
     ]
    },
    {
     "cell_type": "code",
     "collapsed": false,
     "input": [
      "# create a figure\n",
      "fig = plt.figure()\n",
      "\n",
      "# create a subplot\n",
      "annual_income_plot = fig.add_subplot(111)\n",
      "# plot annual income versus year\n",
      "annual_income_plot.plot(range(25), Y_annual, lw=3)\n",
      "# add gridlines\n",
      "annual_income_plot.grid()\n",
      "# label axes\n",
      "plt.xlabel('time (yrs)')\n",
      "plt.ylabel('income')\n",
      "\n",
      "# space subplots neatly\n",
      "plt.tight_layout()"
     ],
     "language": "python",
     "metadata": {},
     "outputs": [
      {
       "metadata": {},
       "output_type": "display_data",
       "png": "[encoded data removed]",
       "text": [
        "<matplotlib.figure.Figure at 0x7f7950914750>"
       ]
      }
     ],
     "prompt_number": 53
    },
    {
     "cell_type": "markdown",
     "metadata": {},
     "source": [
      "So we have calculated that our constant quarterly income of 100 pounds translates into annual income of 400 pounds. Not surprising really, but useful to go through the calculation formally. But with a small amount of reflection, what this implies is quite revealing. \n",
      "\n",
      "In our case, we have a money supply of 100 pounds which is spent in its entirety every 3 months. This means the total money supply turns over 4 times a year. And the consequence is that the total yearly income is 4 times the value of money in existence. It follows that we can consider income as being the product of both a stock of money as well as the rate at which it changes hands. We call this rate the *velocity of money*. So, for a given stock of money, income is determined by the rate at which it circulates through the economy via spending.  "
     ]
    },
    {
     "cell_type": "markdown",
     "metadata": {},
     "source": [
      "\n"
     ]
    }
   ],
   "metadata": {}
  }
 ]
}