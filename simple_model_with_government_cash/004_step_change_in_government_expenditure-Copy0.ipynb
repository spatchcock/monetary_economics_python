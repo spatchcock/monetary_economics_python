{
 "metadata": {
  "name": "",
  "signature": "sha256:2c09d205e8db710748c5b8967343d61f90e9444d662465feab93d84ca20f4847"
 },
 "nbformat": 3,
 "nbformat_minor": 0,
 "worksheets": [
  {
   "cells": [
    {
     "cell_type": "code",
     "collapsed": false,
     "input": [
      "import matplotlib.pyplot as plt\n",
      "import numpy as np\n",
      "%matplotlib inline  "
     ],
     "language": "python",
     "metadata": {},
     "outputs": [],
     "prompt_number": 1
    },
    {
     "cell_type": "markdown",
     "metadata": {},
     "source": [
      "Set up numerical scheme"
     ]
    },
    {
     "cell_type": "code",
     "collapsed": false,
     "input": [
      "N = 100"
     ],
     "language": "python",
     "metadata": {},
     "outputs": [],
     "prompt_number": 2
    },
    {
     "cell_type": "markdown",
     "metadata": {},
     "source": [
      "Exogenous variables\n",
      "Government spending"
     ]
    },
    {
     "cell_type": "code",
     "collapsed": false,
     "input": [
      "G = 20\n",
      "\n",
      "a_1 = np.zeros(N)\n",
      "\n",
      "for i in range(0,N):\n",
      "    a_1[i] = 0.8\n",
      "    \n",
      "    if i > N/2:\n",
      "        a_1[i] = 0.6"
     ],
     "language": "python",
     "metadata": {},
     "outputs": [],
     "prompt_number": 14
    },
    {
     "cell_type": "markdown",
     "metadata": {},
     "source": [
      "Exogenous variables\n",
      "Parameters"
     ]
    },
    {
     "cell_type": "code",
     "collapsed": false,
     "input": [
      "theta = 0.2\n",
      "#a_1   = 0.6\n",
      "a_2   = 0.0"
     ],
     "language": "python",
     "metadata": {},
     "outputs": [],
     "prompt_number": 15
    },
    {
     "cell_type": "markdown",
     "metadata": {},
     "source": [
      "Endogenous variables"
     ]
    },
    {
     "cell_type": "code",
     "collapsed": false,
     "input": [
      "\n",
      "Y    = np.zeros(N)\n",
      "YD   = np.zeros(N)\n",
      "T    = np.zeros(N)\n",
      "C    = np.zeros(N)\n",
      "H_h  = np.zeros(N)\n",
      "H_g  = np.zeros(N)"
     ],
     "language": "python",
     "metadata": {},
     "outputs": [],
     "prompt_number": 16
    },
    {
     "cell_type": "code",
     "collapsed": false,
     "input": [],
     "language": "python",
     "metadata": {},
     "outputs": [],
     "prompt_number": 16
    },
    {
     "cell_type": "code",
     "collapsed": false,
     "input": [
      "\n",
      "for t in range(1, N):\n",
      "    # Determine income for this period based on spending in last period\n",
      "    Y[t] = G + C[t-1]\n",
      "    \n",
      "    # Now calculate taxation, spending and saving in this period\n",
      "    T[t]   = theta * Y[t]\n",
      "    YD[t]  = Y[t]  - T[t]\n",
      "    C[t]   = a_1[t] * YD[t] + a_2 * H_h[t-1]\n",
      "    H_h[t] = H_h[t-1] + YD[t] - C[t]\n",
      "    H_g[t] = H_g[t-1] + T[t]  - G\n",
      "   "
     ],
     "language": "python",
     "metadata": {},
     "outputs": [],
     "prompt_number": 17
    },
    {
     "cell_type": "code",
     "collapsed": false,
     "input": [
      "\n",
      "fig = plt.figure()\n",
      "\n",
      "income_plot = fig.add_subplot(111, xlim=(0, N), ylim=(0, np.max(Y)*1.5))\n",
      "income_plot.plot(range(N), Y, lw=3)\n",
      "income_plot.plot(range(N), C, lw=3)\n",
      "income_plot.grid()\n"
     ],
     "language": "python",
     "metadata": {},
     "outputs": [
      {
       "metadata": {},
       "output_type": "display_data",
       "png": "[encoded data removed]",
       "text": [
        "<matplotlib.figure.Figure at 0x7faf1d803d50>"
       ]
      }
     ],
     "prompt_number": 18
    },
    {
     "cell_type": "code",
     "collapsed": false,
     "input": [
      "\n",
      "fig = plt.figure()\n",
      "\n",
      "gov_plot = fig.add_subplot(111, xlim=(0, N), ylim=(0, np.max(G)*1.5))\n",
      "#gov_plot.plot(range(N), G, lw=3)\n",
      "gov_plot.plot(range(N), T, lw=3)\n",
      "gov_plot.grid()\n"
     ],
     "language": "python",
     "metadata": {},
     "outputs": [
      {
       "metadata": {},
       "output_type": "display_data",
       "png": "[encoded data removed]",
       "text": [
        "<matplotlib.figure.Figure at 0x7faf1db18190>"
       ]
      }
     ],
     "prompt_number": 19
    },
    {
     "cell_type": "code",
     "collapsed": false,
     "input": [
      "fig = plt.figure()\n",
      "\n",
      "cash_plot = fig.add_subplot(111, xlim=(0, N), ylim=(np.min(H_g)*1.5, np.max(H_h)*1.5))\n",
      "cash_plot.plot(range(N), H_h, lw=3)\n",
      "cash_plot.plot(range(N), H_g, lw=3)\n",
      "cash_plot.grid()"
     ],
     "language": "python",
     "metadata": {},
     "outputs": [
      {
       "metadata": {},
       "output_type": "display_data",
       "png": "[encoded data removed]",
       "text": [
        "<matplotlib.figure.Figure at 0x7faf1d6469d0>"
       ]
      }
     ],
     "prompt_number": 20
    },
    {
     "cell_type": "code",
     "collapsed": false,
     "input": [],
     "language": "python",
     "metadata": {},
     "outputs": []
    }
   ],
   "metadata": {}
  }
 ]
}