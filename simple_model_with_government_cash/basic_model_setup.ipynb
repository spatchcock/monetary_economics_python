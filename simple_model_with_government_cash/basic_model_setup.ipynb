{
 "metadata": {
  "name": "",
  "signature": "sha256:945c8acaa7ddbc6b8c486ff1e471a469a3be962ac2fc6c55befe29cb05373401"
 },
 "nbformat": 3,
 "nbformat_minor": 0,
 "worksheets": [
  {
   "cells": [
    {
     "cell_type": "heading",
     "level": 1,
     "metadata": {},
     "source": [
      "Simple economy with government money"
     ]
    },
    {
     "cell_type": "markdown",
     "metadata": {},
     "source": [
      "Andrew Berkeley"
     ]
    },
    {
     "cell_type": "markdown",
     "metadata": {
      "slideshow": {
       "slide_type": "-"
      }
     },
     "source": [
      "\n",
      "\n",
      "In this model there is a government sector and a non-government sector. The government spends by creating money which is then available to circulate in the economy. The government also collects an *income tax*, that is it taxes at a fixed rate relative to the income of the non-government sector.  \n",
      "\n",
      "The non-government sector pays taxes, engages in consumer spending and saves. There are no firms explicitly represented: the model simply assumes that the income of businesses is entirely spent on the wages of its workers and is therefore ultimately  household income. This makes things nice and simple.\n",
      "\n",
      "Here, we'll write a simple model in Python to advance through time and keep track of the flows (government spending, consumer spending, taxation, saving) and stocks (non-government wealth, government debt) of money. We're using discrete timesteps and so will derive *difference equations* linking flows of money in one time period with flows or stocks of money from the same or the previous time period."
     ]
    },
    {
     "cell_type": "heading",
     "level": 2,
     "metadata": {},
     "source": [
      "Model equations"
     ]
    },
    {
     "cell_type": "markdown",
     "metadata": {},
     "source": [
      "The income of the non-government sector is based on the familiar *national income identity*, which states that total income is equal to consumption spending plus government spending:\n",
      "\n",
      "$$Y = C + G$$\n",
      "\n",
      "Since we're dealing with discrete timesteps we'll define income ($Y$) in one time period ($t$) as being the result of spending in the previous time period ($t-1$), that is:\n",
      "\n",
      "$$Y_t = C_{t-1} + G_{t-1}$$\n",
      "\n",
      "where $C$ is consumer spending and $G$ is government spending. This income is taxed by the government at a rate $\\theta$ and so the tax take ($T$) during any given time period ($t$) is:\n",
      "\n",
      "$$T_t = \\theta Y_t$$\n",
      "\n",
      "Once households have paid their taxes, the remainder is their *disposable income* ($Y_d$), i.e.:\n",
      "\n",
      "$$Y_{d,t} = Y_t - T_t $$\n",
      "\n",
      "This is the quantity which is available for consumer spending. Actual consumer spending will, like taxation, be based on a specific proprtion of disposable income. Since the income which is not spent in any given time period is saved, this consumption rate also defines the *savings rate*. Any savings made during a particular time period are added to the previous stock of non-government wealth ($H_h$, 'h' for 'household'). For now, we assume that the non-government sector also spends some fraction of their existing wealth on consumption in any given time period. So the *consumption function* we're going to use is:\n",
      "\n",
      "$$C_t = \\alpha_1 * Y_{d,t} + \\alpha_2 * H_{h,t-1}$$\n",
      "\n",
      "where $\\alpha_1$ is the *propensity to consume out of current income* and $\\alpha_2$ is the *propensity to consume out of current wealth*. This function is called the *Modigliani function*. We can experiment with other types of consumption functions later.\n",
      "\n",
      "There is one last stock which we must keep track of: the government debt. This is simply the net quantity of money issued to the non-government sector. For any given time period it is simply the debt from the previous time period plus the government's present deficit: \n",
      "\n",
      "$$H_{g,t} = H_{g,t-1} + T_t - G_t$$\n",
      "\n",
      "Okay, let's code it up...\n"
     ]
    },
    {
     "cell_type": "heading",
     "level": 2,
     "metadata": {},
     "source": [
      "The code"
     ]
    },
    {
     "cell_type": "markdown",
     "metadata": {},
     "source": [
      "We're going to use the Python libraries <code>numpy</code> and <code>matplotlib</code>, so we import them first. <code>numpy</code> might be a little overkill for our purposes here but we'll get used to it now as it might be useful in more complex models. <code>matplotlib</code> will allow us to produce graphs of our model solution."
     ]
    },
    {
     "cell_type": "code",
     "collapsed": false,
     "input": [
      "import matplotlib.pyplot as plt\n",
      "import numpy as np\n",
      "%matplotlib inline  "
     ],
     "language": "python",
     "metadata": {},
     "outputs": [],
     "prompt_number": 5
    },
    {
     "cell_type": "markdown",
     "metadata": {},
     "source": [
      "Next, we'll define the number of timesteps we want to propagate our model through. Let's go for 100. These are arbitrary anyway. We'll use a variable called $N$."
     ]
    },
    {
     "cell_type": "code",
     "collapsed": false,
     "input": [
      "N = 100"
     ],
     "language": "python",
     "metadata": {},
     "outputs": [],
     "prompt_number": 6
    },
    {
     "cell_type": "markdown",
     "metadata": {},
     "source": [
      "Now we'll set up the system parameters and variables. We have *exogenous* variables - those which are set outside of the model - and *endogenous* variables - determined by the model as it evolves through time. In this formulation, government spending, the taxation rate, and the two consumption rate parameters are all set externally at the outset and are not dependent on the value of any other variables. They do not change (unless we choose to change them).\n",
      "\n",
      "All of the other variables are contingent the other variables and may change during the propagation of the model."
     ]
    },
    {
     "cell_type": "markdown",
     "metadata": {},
     "source": [
      "Since we don't know the values of the endogenous variables yet, we just need to set up some arrays to hold their values as we solve the model at each time step. So for each endogenous variable we want an array of size $N$. This way we'll record their values through time and can inspect the history of the economy as it evolved. We can use the *numpy* library to create arrays of this size populated - for now - by zeros. This conveniently sets the initial condition of each of these variables - the value at $t=0$, the first value in each array - to zero, as they should be given that no activity has yet taken place. The subsequent values will be overwritten as we propagate our model."
     ]
    },
    {
     "cell_type": "code",
     "collapsed": false,
     "input": [
      "Y    = np.zeros(N) # income\n",
      "YD   = np.zeros(N) # disposable income\n",
      "T    = np.zeros(N) # tax revenue\n",
      "C    = np.zeros(N) # consumption\n",
      "H_h  = np.zeros(N) # non-government wealth\n",
      "H_g  = np.zeros(N) # government debt"
     ],
     "language": "python",
     "metadata": {},
     "outputs": [],
     "prompt_number": 7
    },
    {
     "cell_type": "markdown",
     "metadata": {},
     "source": [
      "Now for the exogeneous variables. Government spending is going to be constant but let's treat it as a variable and create a value for it for each time step. We'll set each value to be constant for now, but this structure will allow us to vary government spending later. Let's go for an arbitrary government spend of 20 in each time period. \n",
      "\n",
      "We first initialize an array of zeros of length $N$. We then set each value in the array to 20 using the handy <code>range</code> function to generate a sequence of $t$ values from $0$ to $N$ to iterate through."
     ]
    },
    {
     "cell_type": "code",
     "collapsed": false,
     "input": [
      "G  = np.zeros(N) # government spending\n",
      "\n",
      "for i in range(0,N): \n",
      "    G[i] = 20"
     ],
     "language": "python",
     "metadata": {},
     "outputs": [],
     "prompt_number": 8
    },
    {
     "cell_type": "markdown",
     "metadata": {},
     "source": [
      "For the tax rate, $\\theta$, the propensity to consume from current income, $\\alpha_1$, and the propensity to consume from current wealth, $\\alpha_2$, we will simply set each as constants. "
     ]
    },
    {
     "cell_type": "code",
     "collapsed": false,
     "input": [
      "theta = 0.2\n",
      "a_1   = 0.6\n",
      "a_2   = 0.4"
     ],
     "language": "python",
     "metadata": {},
     "outputs": [],
     "prompt_number": 9
    },
    {
     "cell_type": "markdown",
     "metadata": {},
     "source": [
      "Now were in a position to iterate through each time step and solve the equations, populating our arrays as we go.\n",
      "\n",
      "We'll use a <code>for</code> loop to iterate. Since we have difference equations that reference the previous timestep, we cannot start at $t=0$ as there'd be no previous values to use (remember, Python arrays are zero-indexed). So we start at $t=1$. This means that the zeros in the first cell (index = 0) of each of our arrays become our initial conditions. The $G$ array is the exception in having a non-zero initial condition (<code>G[0]=20</code>).\n",
      "\n",
      "In this case we use the <code>range</code> function to generate a sequence of $t$ values from $1$ to $N$."
     ]
    },
    {
     "cell_type": "code",
     "collapsed": false,
     "input": [
      "for t in range(1, N):\n",
      "    # Determine income for this period based on spending in last period\n",
      "    Y[t] = G[t-1] + C[t-1] \n",
      "    \n",
      "    # Now calculate taxation, spending and saving in this period\n",
      "    T[t]   = theta * Y[t]\n",
      "    YD[t]  = Y[t] - T[t]\n",
      "    C[t]   = a_1 * YD[t] + a_2 * H_h[t-1]\n",
      "    H_h[t] = H_h[t-1] + YD[t] - C[t]\n",
      "    H_g[t] = H_g[t-1] + T[t]- G[t]\n",
      "   "
     ],
     "language": "python",
     "metadata": {},
     "outputs": [],
     "prompt_number": 10
    },
    {
     "cell_type": "markdown",
     "metadata": {},
     "source": [
      "That's it! We've solved the entire history of our economy."
     ]
    },
    {
     "cell_type": "code",
     "collapsed": false,
     "input": [
      "\n",
      "fig = plt.figure()\n",
      "\n",
      "income_plot = fig.add_subplot(111, xlim=(0, N), ylim=(0, np.max(Y)*1.5))\n",
      "income_plot.plot(range(N), Y, lw=3)\n",
      "income_plot.plot(range(N), C, lw=3)\n",
      "income_plot.plot(range(N), G, lw=3)\n",
      "income_plot.grid()\n"
     ],
     "language": "python",
     "metadata": {},
     "outputs": [
      {
       "metadata": {},
       "output_type": "display_data",
       "png": "[encoded data removed]",
       "text": [
        "<matplotlib.figure.Figure at 0x7fd4f5097750>"
       ]
      }
     ],
     "prompt_number": 11
    },
    {
     "cell_type": "code",
     "collapsed": false,
     "input": [
      "\n",
      "fig = plt.figure()\n",
      "\n",
      "gov_plot = fig.add_subplot(111, xlim=(0, N), ylim=(0, np.max(G)*1.5))\n",
      "gov_plot.plot(range(N), G, lw=3)\n",
      "gov_plot.plot(range(N), T, lw=3)\n",
      "gov_plot.grid()\n"
     ],
     "language": "python",
     "metadata": {},
     "outputs": [
      {
       "metadata": {},
       "output_type": "display_data",
       "png": "[encoded data removed]",
       "text": [
        "<matplotlib.figure.Figure at 0x7f02ee5a9bd0>"
       ]
      }
     ],
     "prompt_number": 58
    },
    {
     "cell_type": "code",
     "collapsed": false,
     "input": [
      "fig = plt.figure()\n",
      "\n",
      "cash_plot = fig.add_subplot(111, xlim=(0, N), ylim=(np.min(H_g)*1.5, np.max(H_h)*1.5))\n",
      "cash_plot.plot(range(N), H_h, lw=3)\n",
      "cash_plot.plot(range(N), H_g, lw=3)\n",
      "cash_plot.grid()"
     ],
     "language": "python",
     "metadata": {},
     "outputs": [
      {
       "metadata": {},
       "output_type": "display_data",
       "png": "[encoded data removed]",
       "text": [
        "<matplotlib.figure.Figure at 0x7f02ee13aed0>"
       ]
      }
     ],
     "prompt_number": 59
    },
    {
     "cell_type": "markdown",
     "metadata": {},
     "source": []
    },
    {
     "cell_type": "code",
     "collapsed": false,
     "input": [
      "Multiplier - income greater than money stock"
     ],
     "language": "python",
     "metadata": {},
     "outputs": []
    },
    {
     "cell_type": "code",
     "collapsed": false,
     "input": [
      "Steady state"
     ],
     "language": "python",
     "metadata": {},
     "outputs": []
    },
    {
     "cell_type": "code",
     "collapsed": false,
     "input": [
      "income/wealth ratio"
     ],
     "language": "python",
     "metadata": {},
     "outputs": []
    },
    {
     "cell_type": "code",
     "collapsed": false,
     "input": [
      "government debt/income ratio"
     ],
     "language": "python",
     "metadata": {},
     "outputs": []
    },
    {
     "cell_type": "code",
     "collapsed": false,
     "input": [],
     "language": "python",
     "metadata": {},
     "outputs": []
    }
   ],
   "metadata": {}
  }
 ]
}