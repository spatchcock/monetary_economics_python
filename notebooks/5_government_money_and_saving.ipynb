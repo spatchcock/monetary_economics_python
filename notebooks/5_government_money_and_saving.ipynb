{
 "metadata": {
  "name": ""
 },
 "nbformat": 3,
 "nbformat_minor": 0,
 "worksheets": [
  {
   "cells": [
    {
     "cell_type": "markdown",
     "metadata": {},
     "source": [
      "In the [last post](http://misunderheard.org/monetary_economics/2016/11/20/circular-flow-of-government-money/) we looked at they way in which government spending and taxation interacts with the circular flow of money. In particular, we found that, in an economy with no saving, money introduced by the government is repeatedly spent creating additional income beyond that created by the initial government spending. Since the government collects an income tax on each transaction, the money introduced by the government spending is gradually withdrawn as it is re-spent. This \"leakage\" of money out of circulation places a limit on the total amount of spending and income that can ultimately arise. The eventual total level of aggregate income was shown to be a multiple, $\\frac {1}{\\theta}$, of the initial government spend (where $\\theta$ is the tax rate). Here we'll consider what changes in this story when the population decide to save some of their income.\n",
      "\n",
      "In order to incorporate the effects of saving we just need to make one change to our setup from before. Instead of assuming that folk spend all of their disposable (i.e. after-tax) income we will assume that they spend only some fraction of it, saving the rest. The fraction that they spend is commonly described as *the propensity to consume* and we can denote it with the symbol $\\alpha$. The fraction saved is therefore $1-\\alpha$.\n",
      "\n",
      "Let's put a figure of $0.9$ on $\\alpha$ for illustrative purposes - i.e. 90% of income is spent onwards, the remaining 10% being saved. When we consider the previous scenario of 100 pounds of government spending we find that, of the 80 pounds of initial government spending that remains as disposable income after 20% tax is paid, 72 pounds is spent (90% of 80 pounds) and 8 pounds is saved. As this 72 pounds of consumption spending creates 72 pounds of income, a further 14.40 pounds is paid in tax to the government and therefore 57.6 pounds is retained as disposable income from this second round of spending. Of this 57.6 pounds, 51.84 pounds is spent with 5.76 saved. And so on. \n",
      "\n",
      "|round|spending|income|tax|disposable income|income saved|income spent|\n",
      "|---|---|---|---|---|---|---|\n",
      "|0|100|100|20|80|8|72|\n",
      "|1|72|72|14|58|6|52|\n",
      "|2|52|52|10|42|4|38|\n",
      "|3|38|38|8|30|3|27|\n",
      "|4|27|27|5|22|2|20|\n",
      "\n",
      "Notice, in the table above, that we are retaining the term *disposable income* to denote what is left after tax but before any spending and saving choices have been made. Two extra columns are introduced into this table to show what is done with the disposable income: how much is saved and how much is spent. The final column of each row describes the income after taxation *and* saving and which becomes the spending in the next round, shown at the start of the next row.\n",
      "\n",
      "Now, let's give this a similar mathematical treatment to [before](http://misunderheard.org/monetary_economics/2016/11/20/circular-flow-of-government-money/) to see where it ultimately heads. The initial income, $Y_0$ is simply equal to $G$, the initial government spend. On this income, $\\theta G$ tax is paid and $(1-\\theta)G$ remains as disposable income. In this case, however, the amount spent in consumption is a further fraction, $\\alpha$, of this disposable income. Therefore we can state the income from the second round of spending as:\n",
      "\n",
      "$$Y_1 = \\alpha(1-\\theta)G$$\n",
      "\n",
      "But if this income, $Y_1$, is used to pay taxes, save and spend according to the rules we've specfied, then the next round of income can be described as:\n",
      "\n",
      "$$Y_2 = \\alpha(1-\\theta)\\alpha(1-\\theta)G $$\n",
      "\n",
      "or, more succinctly:\n",
      "\n",
      "$$Y_2 = (\\alpha(1-\\theta))^2G$$\n",
      "\n",
      "As before, we can generalise this to the *n*th spending round:\n",
      "\n",
      "$$Y_n = (\\alpha(1-\\theta))^nG \\hspace{1cm} (1)$$\n",
      "\n",
      "And if we add all of the spend rounds together we get another [geometric series](https://en.wikipedia.org/wiki/Geometric_series) describing the total income which arises through the repeated cycle of spending, taxing and saving of the money injected by the government:\n",
      "\n",
      "$$\\sum_{n=0}^{\\infty} Y_{n} = G + (\\alpha(1-\\theta))G + (\\alpha(1-\\theta))^2 G + ... + (\\alpha(1-\\theta))^2G $$\n",
      "\n",
      "This time the common ratio of the geometric series is $\\alpha(1-\\theta)$. As before we can plug our common ratio into the general solution for the sum of a geometric series:\n",
      "\n",
      "$$\\sum_{n=0}^{m-1} Y_{n} = \\frac {1-a^m}{1 - a}G$$\n",
      "\n",
      "where $a$ is the generic common ratio, giving:\n",
      "\n",
      "$$\\sum_{n=0}^{m-1} Y_{n} = \\frac {1-(\\alpha(1-\\theta))^m}{1-\\alpha(1-\\theta)}G \\hspace{1cm} (2)$$\n",
      "\n",
      "Not quite as neat and tidy as before but we do have a more complicated scenario so fair enough. Let's plot out equations 1 and 2, the individual spending round income and the cumulative income through successive spending rounds:"
     ]
    },
    {
     "cell_type": "code",
     "collapsed": false,
     "input": [
      "import matplotlib.pyplot as plt\n",
      "import numpy as np\n",
      "%matplotlib inline \n",
      "\n",
      "G     = 100 # government spending\n",
      "theta = 0.2 # tax rate\n",
      "alpha = 0.9 # propensity to consume\n",
      "\n",
      "n_rounds = 30 # number of rounds we'll consider\n",
      "\n",
      "# create an array of numbers from 0-30, one for each spending round\n",
      "r = np.arange(0,n_rounds) \n",
      "\n",
      "# solve equation 1 for each individual round\n",
      "y_n = G*(alpha*(1-theta))**r\n",
      "\n",
      "# solve equation 2 for each individual round\n",
      "sum_y = G*(1-(alpha*(1-theta))**(r+1))/(1-alpha*(1-theta))\n",
      "\n",
      "# plot\n",
      "plt.bar(r,sum_y, color='r',label='cumulative income')\n",
      "plt.bar(r,y_n, label='spending round income')\n",
      "plt.grid()\n",
      "plt.legend(loc='center right')\n",
      "plt.xlabel('Spending round, n')\n",
      "plt.ylabel('Income')\n",
      "\n",
      "plt.tight_layout()\n",
      "plt.show()"
     ],
     "language": "python",
     "metadata": {},
     "outputs": [
      {
       "metadata": {},
       "output_type": "display_data",
       "png": "[encoded data removed]",
       "text": [
        "<matplotlib.figure.Figure at 0x7f4f84040290>"
       ]
      }
     ],
     "prompt_number": 2
    },
    {
     "cell_type": "markdown",
     "metadata": {},
     "source": [
      "A similar type of pattern as before, except this time, instead of aggregate income converging to 500 pounds it converges to 357 pounds. This is because there are now two \"leakages\" of money out of circulation - taxation and saving - and so less money remains in the cycle of spending and re-spending which supports incomes.\n",
      "\n",
      "If we consider a sufficiently large number of spending rounds then the numerator in equation 2 converges to 1 (because $\\theta$ and $\\alpha$ are both between $0-1$) and we can write the total income more simply as function of the fiscal policy settings ($G, \\theta$) and the private sector spending propensity ($\\alpha$):\n",
      "\n",
      "$$Y = \\frac {G}{1-\\alpha(1-\\theta)} \\hspace{1cm} (3)$$\n",
      "\n",
      "And sure enough, if we evaluate that expression using the variables we defined earlier:"
     ]
    },
    {
     "cell_type": "code",
     "collapsed": false,
     "input": [
      "Y = G/(1-alpha*(1-theta))\n",
      "print(Y)"
     ],
     "language": "python",
     "metadata": {},
     "outputs": [
      {
       "output_type": "stream",
       "stream": "stdout",
       "text": [
        "357.142857143\n"
       ]
      }
     ],
     "prompt_number": 3
    },
    {
     "cell_type": "markdown",
     "metadata": {},
     "source": [
      "we get the value shown in the plot. And as before, we can shift $G$ over to identify the *fiscal multiplier* - the size of aggregate income *relative to the government spend*:\n",
      "\n",
      "$$\\frac {Y}{G} = \\frac {1}{1-\\alpha(1-\\theta)}$$\n",
      "\n",
      "In this case, the fiscal multiplier evaluates to:"
     ]
    },
    {
     "cell_type": "code",
     "collapsed": false,
     "input": [
      "print(1/(1-alpha*(1-theta)))"
     ],
     "language": "python",
     "metadata": {},
     "outputs": [
      {
       "output_type": "stream",
       "stream": "stdout",
       "text": [
        "3.57142857143\n"
       ]
      }
     ],
     "prompt_number": 4
    },
    {
     "cell_type": "markdown",
     "metadata": {},
     "source": [
      "The fiscal multiplier is smaller in this case ($3.57 \\lt 5$) because of the desire of the private sector to save. As shown in an [earlier post](http://misunderheard.org/monetary_economics/2016/06/05/the-paradox-of-thrift/), saving always brings about a reduction in income, all other things being equal."
     ]
    },
    {
     "cell_type": "markdown",
     "metadata": {},
     "source": [
      "Simple, so far. But the really interesting insight comes when we look at where those leakages have gone. On the one hand we have the tax collected by the government and on the other the money saved by the public. Let's look at the tax revenue ($T$) first. As we know:\n",
      "\n",
      "$$T = \\theta Y$$\n",
      "\n",
      "The tax paid is simply the total income multiplied by the tax rate. Equation 3 gives us the total income, so all we need to do is multiply this value by the tax rate, as in the equation above, to arrive at the final tax revenue of the government."
     ]
    },
    {
     "cell_type": "code",
     "collapsed": false,
     "input": [
      "T = theta * Y\n",
      "print(T)"
     ],
     "language": "python",
     "metadata": {},
     "outputs": [
      {
       "output_type": "stream",
       "stream": "stdout",
       "text": [
        "71.4285714286\n"
       ]
      }
     ],
     "prompt_number": 6
    },
    {
     "cell_type": "markdown",
     "metadata": {},
     "source": [
      "So the government has collected ~71 pounds in tax. If the drop in aggregate income was the first significant difference from the non-saving scenario described in the last post, then this is the second one. The government has collected less tax than before and has therefore *not* balanced it's budget. If we subtract the original government spend  from the tax revenue we can establish what the shortfall is:"
     ]
    },
    {
     "cell_type": "code",
     "collapsed": false,
     "input": [
      "print(T - G)"
     ],
     "language": "python",
     "metadata": {},
     "outputs": [
      {
       "output_type": "stream",
       "stream": "stdout",
       "text": [
        "-28.5714285714\n"
       ]
      }
     ],
     "prompt_number": 7
    },
    {
     "cell_type": "markdown",
     "metadata": {},
     "source": [
      "So the government now has a ~29 pound *budget deficit*. To understand why we need to look at the savings. We know that savings were made as a fraction, $1 - \\alpha$, of *disposable income*, which itself is a fraction, $1 - \\theta$, of gross income ($Y$). Therefore we can write the total accumulated savings, $S$, as a function of gross income:\n",
      "\n",
      "$$S = (1-\\alpha)(1-\\theta)Y$$\n",
      "\n",
      "This basically describes the fraction of income that is *not* taxed ($1-\\theta$) and then *not* spent ($1-\\alpha$). Now we can solve this equation using our calculated final income (equation 3) to determine the value of $S$:"
     ]
    },
    {
     "cell_type": "code",
     "collapsed": false,
     "input": [
      "S = (1-alpha) * (1-theta) * Y\n",
      "print(S)"
     ],
     "language": "python",
     "metadata": {},
     "outputs": [
      {
       "output_type": "stream",
       "stream": "stdout",
       "text": [
        "28.5714285714\n"
       ]
      }
     ],
     "prompt_number": 9
    },
    {
     "cell_type": "markdown",
     "metadata": {},
     "source": [
      "The public have managed 29 pounds in saving. Notice anything? It is exactly the amount of the government's budget deficit. Is that a coincidence? Definitely not.\n",
      "\n",
      "What is happening here is a fairly simple extension of the previous scenario when no saving occured. Previously the rate of spending gradually decreased as money was withrawn from circulation by taxation, and ultimately stopped when all the money had been withdrawn. Since taxation was the only leakage of money from circulation it was a logical inevitability that the government would recoup all of its spending and balance its budget: taxation was the only game in town and spending simply delayed the inevitable. In this case, though, there are two leakages - taxation and savings. Both of these leakages work in tandem to draw down the circulating stock of money, and once it has been entirely withdrawn it is therefore split between the government's tax haul and the private sector's pot of savings. It is straighforward to the see that the amount which was *saved* out of circulation is the amount which was *not* able to be taxed. Hence, the government's budget shortfall is identically equal to the private sectors savings. This is a rather profound discovery which tells us something about why government budget deficits arise in general.\n",
      "\n",
      "So, in summary: the interaction of government spending, taxation, private consumption and private saving results in a cycle of spending which ultimately stops when all of the money has either been taxed or saved. This results in an overall aggregate income which is smaller than the case where no saving occurs. It also results in a government budget deficit which matches, to the penny, the savings of the private sector.\n"
     ]
    }
   ],
   "metadata": {}
  }
 ]
}