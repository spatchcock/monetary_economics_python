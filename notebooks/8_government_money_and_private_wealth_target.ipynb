{
 "metadata": {
  "name": ""
 },
 "nbformat": 3,
 "nbformat_minor": 0,
 "worksheets": [
  {
   "cells": [
    {
     "cell_type": "markdown",
     "metadata": {},
     "source": [
      "This post will describe another complete - but simple - model economy. It follows directly from the [previous model](http://misunderheard.org/monetary_economics/2017/06/03/simple-economy-with-government-money/) and introduces one fairly simple innovation. In the last model the private sector spent a certain proportion of it's disposable income, saving the rest. In this model the private sector spend out of both income and saved wealth. The introduction of spending out of wealth in the only difference. This model is the starting point for the stock-flow consistent models described in [Monetary Economics](http://www.palgrave.com/br/book/9780230301849) by Wynne Godley & Marc Lavoie (model \"SIM\").\n",
      "\n",
      "Okay, we'll assume the exact same sectoral setup as in the previous model. \n",
      "\n",
      "||households|business|government||balance|\n",
      "|---|---|---|---|---|---|\n",
      "|**flows**||||||\n",
      "|Government spending||G|-G||0|\n",
      "|Payment of taxes|-T||T||0|\n",
      "|Income (wages)|Y|-Y|||0|\n",
      "|Consumption spending|-C|C|||0|\n",
      "|||||||\n",
      "|**stocks**||||||\n",
      "|Change in money|$-\\Delta H_h$||$\\Delta H_g$||0|\n",
      "|||||||\n",
      "|**balance**|0|0|0||0|\n",
      "\n",
      "That is, we have a government sector and a household sector that both pay the business sector for goods and services. Government spending is termed $G$ whereas household spending is called $C$ (consumption). The household sector receives income (i.e. wages) from the business sector with which it pays taxes, makes its consumption purchases and saves the rest.\n",
      "\n",
      "We modelled this economy previously using the following set of equations in which each unknown variable is defined:\n",
      "\n",
      "|||\n",
      "|---|---|\n",
      "|1|$Y = G + C$|\n",
      "|2|$G = G$|\n",
      "|3|$T = \\theta Y$|\n",
      "|4|$C = \\alpha (1 - \\theta)Y$|\n",
      "|5|$H_{h,t} = H_{h, t-1} + Y_t - T_t - C_t$|\n",
      "|6|$H_{g,t} = H_{g, t-1} + G_t - T_t$|\n",
      "\n",
      "We'll make one simple modification to this model. We'll change the *consumption function* - equation 4 - to include a term for *spending out of savings*.\n",
      "\n",
      "$$C = \\alpha_Y(1 - \\theta)Y + \\alpha_H H_h$$\n",
      "\n",
      "So now consumption spending is made of: (1) some spending out of (disposable, after-tax) income ($\\alpha_Y(1 - \\theta)Y $); and (2) some spending out of previously saved wealth ($\\alpha_H H_h$). We have two parameters in this function now: $\\alpha_Y$, the propensity to consume out of income; and $\\alpha_H$, the propensity to consume out of saved wealth. These parameters simply describe the *fractions* of income and saved wealth that are used for consumption spending in any given time period. Both parameters take a value between 0 and 1.\n",
      "\n",
      "In order to model using this new equation we just need to iron out one final detail. The term $H_h$ represents the *current* quantity of private, saved wealth. What we want to describe in our model is that, at the start of any time period, the private sector spends some fraction of it's *current* wealth. In the [system of accounting that we have established](http://misunderheard.org/monetary_economics/2017/06/03/simple-economy-with-government-money/), this means the wealth that held at the end of the *previous* time period. So we need to augment our consumption function with some suffixes to indicate which time period each component refers to:\n",
      "\n",
      "$$C_t = \\alpha_Y(1 - \\theta)Y_t + \\alpha_H H_{h,t-1}$$\n",
      "\n",
      "So, consumption spending ($C_t$) in *this* ($_t$) time period is equal to spending out of the income received ($\\alpha_Y(1 - \\theta)Y_t$) in *this* ($_t$) time period, plus the spending out of the wealth accumulated ($\\alpha_H H_{h,t-1}$) up to the *previous* ($_{t-1}$) time period.\n",
      "\n",
      "So we can summarise our model equations as:\n",
      "\n",
      "|||\n",
      "|---|---|\n",
      "|1|$Y_t = G + C_t$|\n",
      "|2|$G = G$|\n",
      "|3|$T_t = \\theta Y_t$|\n",
      "|4|$C_t = \\alpha_Y(1 - \\theta)Y_t + \\alpha_H H_{t-1}$|\n",
      "|5|$H_{h,t} = H_{h, t-1} + Y_t - T_t - C_t$|\n",
      "|6|$H_{g,t} = H_{g, t-1} + G_t - T_t$|\n",
      "\n",
      "Notice all equations have been given subscripts now, for the sake of completeness, though in most cases the subscripts are a bit redundant as all the terms simply reference the same time step.\n",
      "\n",
      "As before, equations 1 and 4 are self-referencing. We need to figure out a solution to either of them that doesn't contain a reference to the other. And as before, this is straightforward. We simply substitute equation 4 in to equation 1:\n",
      "\n",
      "$Y_t = G + \\alpha_Y(1 - \\theta)Y_t + \\alpha_H H_{t-1} $\n",
      "\n",
      "collect together the terms involving $Y$:\n",
      "\n",
      "$$Y_t - \\alpha_Y(1 - \\theta)Y_t = G + \\alpha_H H_{t-1}$$\n",
      "\n",
      "factor out the $Y$:\n",
      "\n",
      "$$Y_t(1 - \\alpha_Y(1 - \\theta)) = G + \\alpha_H H_{t-1}$$\n",
      "\n",
      "and rearrange:\n",
      "\n",
      "$$Y_t = \\frac {G + \\alpha_H H_{t-1}}{1 - \\alpha_Y(1 - \\theta)}$$\n",
      "\n",
      "Notice that this is only slightly different from the solution for $Y$ that we arrived at [last time](http://misunderheard.org/monetary_economics/2017/06/03/simple-economy-with-government-money/). The previous formulation was:\n",
      "\n",
      "$$Y_t = \\frac {G}{1 - \\alpha_Y(1 - \\theta)}$$\n",
      "\n",
      "and so we can see that our new expression includes the *spending out of current wealth* term, $\\alpha_H H_{t-1}$ in the numerator.\n",
      "\n",
      "We can understand this expression (and the previous one) in terms of *autonomous* spending and *induced* spending. The autonomous spending is in the numerator. These terms - $G$ and $\\alpha_H H_{h,t-1}$ - are entirely specified at the *start* of any time period, and represent an injection of spending into the economy.\n",
      "\n",
      "The term $\\frac {1}{1 - \\alpha_Y(1 - \\theta)}$, on the other hand, represents *induced* spending. It describes the extent to which the autonomous spending brings about further spending due to the circular flow of money. In earlier posts (e.g. [here](http://misunderheard.org/monetary_economics/2016/11/20/government-money-and-saving/) and [here](http://misunderheard.org/monetary_economics/2017/04/10/modelling-the-fiscal-multiplier/)) this term was described as the *fiscal multiplier* as it denoted the factor by which aggregate income grows beyond an (autonomous) government spend. In the present case, we see that the concept of the \"multiplier\" is more general than simply pertaining to fiscal policy. We now have two autonomous injections of money into the economy - government spending ($G$) and spending out of savings ($\\alpha_H H_{h,t-1}$). Both of these injections provide income directly to the private sector but also serve to cause a chain of subsequent spending that compounds these incomes. As with the [basic fiscal multiplier](http://misunderheard.org/monetary_economics/2016/11/20/government-money-and-saving/), this compounding effect converges to a limit when all of the money has been either saved or taxed out of circulation.\n",
      "\n",
      "The set of final equations that we'll use to solve our model are:\n",
      "\n",
      "|||\n",
      "|---|---|\n",
      "|1|$Y_t = \\frac {G + \\alpha_H H_{t-1}}{1 - \\alpha_Y(1 - \\theta)}$|\n",
      "|2|$G = G$|\n",
      "|3|$T_t = \\theta Y_t$|\n",
      "|*4*|*$C_t = \\alpha_Y(1 - \\theta)Y_t + \\alpha_H H_{h,t-1}$*|\n",
      "|5|$H_{h,t} = H_{h, t-1} + Y_t - T_t - C_t$|\n",
      "|6|$H_{g,t} = H_{g, t-1} + G_t - T_t$|\n"
     ]
    },
    {
     "cell_type": "markdown",
     "metadata": {},
     "source": [
      "## A model in Python\n",
      "Okay, let's code this up, just like last time. First, include required libraries."
     ]
    },
    {
     "cell_type": "code",
     "collapsed": false,
     "input": [
      "import matplotlib.pyplot as plt\n",
      "import numpy as np\n",
      "%matplotlib inline  "
     ],
     "language": "python",
     "metadata": {},
     "outputs": [],
     "prompt_number": 87
    },
    {
     "cell_type": "markdown",
     "metadata": {},
     "source": [
      "Set the number of time steps."
     ]
    },
    {
     "cell_type": "code",
     "collapsed": false,
     "input": [
      "N = 100"
     ],
     "language": "python",
     "metadata": {},
     "outputs": [],
     "prompt_number": 88
    },
    {
     "cell_type": "markdown",
     "metadata": {},
     "source": [
      "Set the fiscal policy settings."
     ]
    },
    {
     "cell_type": "code",
     "collapsed": false,
     "input": [
      "G     = 20  # government spending\n",
      "theta = 0.2 # tax rate"
     ],
     "language": "python",
     "metadata": {},
     "outputs": [],
     "prompt_number": 89
    },
    {
     "cell_type": "markdown",
     "metadata": {},
     "source": [
      "Set the spending propensities. This is where this model deviates from the last one. We'll retain a 90% spending out of income rule, and go for 20% spending out of saved wealth during any given time period."
     ]
    },
    {
     "cell_type": "code",
     "collapsed": false,
     "input": [
      "alpha_Y = 0.9\n",
      "alpha_H = 0.2"
     ],
     "language": "python",
     "metadata": {},
     "outputs": [],
     "prompt_number": 90
    },
    {
     "cell_type": "markdown",
     "metadata": {},
     "source": [
      "As before, initialize some containers to hold our results."
     ]
    },
    {
     "cell_type": "code",
     "collapsed": false,
     "input": [
      "Y   = np.zeros(N) # income\n",
      "T   = np.zeros(N) # tax revenue\n",
      "C   = np.zeros(N) # consumption\n",
      "H_h = np.zeros(N) # private savings\n",
      "H_g = np.zeros(N) # government balance"
     ],
     "language": "python",
     "metadata": {},
     "outputs": [],
     "prompt_number": 91
    },
    {
     "cell_type": "markdown",
     "metadata": {},
     "source": [
      "And finally, run the model. Notice that the equations for <code>Y[t]</code> and <code>C[t]</code> have changed to include the spending-out-of-wealth term (<code>alpha_H*H_h[t-1]</code>)."
     ]
    },
    {
     "cell_type": "code",
     "collapsed": false,
     "input": [
      "for t in range(0, N):\n",
      "    \n",
      "    # calculate total income for this time step (equation 1)\n",
      "    Y[t] = (G + alpha_H*H_h[t-1])/(1 - alpha_Y*(1-theta))\n",
      "    \n",
      "    # calculate the tax paid on income for this time step (3)\n",
      "    T[t] = theta * Y[t]\n",
      "    \n",
      "    # calculate the consumption spending for this time step (4)\n",
      "    C[t] = alpha_Y*(1 - theta)*Y[t] + alpha_H*H_h[t-1]\n",
      "    \n",
      "    # calculate the new level of private savings for this time step (5)\n",
      "    H_h[t] = H_h[t-1] + Y[t] - T[t] - C[t]\n",
      "    \n",
      "    # calculate the new level of government money balance (6)\n",
      "    H_g[t] = H_g[t-1] + T[t]- G\n",
      "   "
     ],
     "language": "python",
     "metadata": {},
     "outputs": [],
     "prompt_number": 92
    },
    {
     "cell_type": "markdown",
     "metadata": {},
     "source": [
      "Okay, done. Let's make some plots."
     ]
    },
    {
     "cell_type": "code",
     "collapsed": false,
     "input": [
      "# initialise plot figure\n",
      "fig = plt.figure(figsize=(12, 4))\n",
      "\n",
      "# plot government spending (G) through time\n",
      "gov_plot = fig.add_subplot(131, xlim=(0, N), ylim=(0, 100))         # set axis limits\n",
      "gov_plot.plot(range(N), np.repeat(G,N), lw=3)                       # plot constant G versus time\n",
      "gov_plot.grid()                                                     # add gridlines\n",
      "plt.xlabel('time')                                                  # label x axis\n",
      "plt.ylabel('government spending')                                   # label y axis\n",
      "\n",
      "# plot consumption spending (C) through time\n",
      "consumption_plot = fig.add_subplot(132, xlim=(0, N), ylim=(0, 100)) # set axis limits\n",
      "consumption_plot.plot(range(N), C, lw=3)                            # plot C versus time\n",
      "consumption_plot.grid()                                             # add gridlines\n",
      "plt.xlabel('time')                                                  # label x axis\n",
      "plt.ylabel('consumption')                                           # label y axis\n",
      "\n",
      "# plot aggregate income (Y) through time\n",
      "income_plot = fig.add_subplot(133, xlim=(0, N), ylim=(0, 100))      # set axis limits\n",
      "income_plot.plot(range(N), Y, lw=3)                                 # plot Y versus time\n",
      "income_plot.grid()                                                  # add gridlines\n",
      "plt.xlabel('time')                                                  # label x axis\n",
      "plt.ylabel('income')                                                # label y axis\n",
      "\n",
      "plt.tight_layout() # space subplots neatly"
     ],
     "language": "python",
     "metadata": {},
     "outputs": [
      {
       "metadata": {},
       "output_type": "display_data",
       "png": "[encoded data removed]",
       "text": [
        "<matplotlib.figure.Figure at 0x7f02e268c1d0>"
       ]
      }
     ],
     "prompt_number": 93
    },
    {
     "cell_type": "markdown",
     "metadata": {},
     "source": [
      "Well this looks a bit more interesting than [last time](http://misunderheard.org/monetary_economics/2017/06/03/simple-economy-with-government-money/). We have an economy which is changing through time. More specifically, consumption spending and aggregate incomes are growing through time, at least initially before levelling off. Let's check the values from the first time period."
     ]
    },
    {
     "cell_type": "code",
     "collapsed": false,
     "input": [
      "print(G)    # this is a constant\n",
      "print(C[0]) # first time period - index 0\n",
      "print(Y[0]) # first time period - index 0"
     ],
     "language": "python",
     "metadata": {},
     "outputs": [
      {
       "output_type": "stream",
       "stream": "stdout",
       "text": [
        "20\n",
        "51.4285714286\n",
        "71.4285714286\n"
       ]
      }
     ],
     "prompt_number": 94
    },
    {
     "cell_type": "markdown",
     "metadata": {},
     "source": [
      "Same as before. And the final time period"
     ]
    },
    {
     "cell_type": "code",
     "collapsed": false,
     "input": [
      "print(G)     # this is a constant\n",
      "print(C[-1]) # last time period - index -1\n",
      "print(Y[-1]) # last time period - index -1"
     ],
     "language": "python",
     "metadata": {},
     "outputs": [
      {
       "output_type": "stream",
       "stream": "stdout",
       "text": [
        "20\n",
        "79.9999932671\n",
        "99.9999932671\n"
       ]
      }
     ],
     "prompt_number": 95
    },
    {
     "cell_type": "markdown",
     "metadata": {},
     "source": [
      "Larger. The economy has grown, in terms of income, from 71 pounds in the first time period to 100 pounds later on. Recall that the last model - [without spending out of savings](http://misunderheard.org/monetary_economics/2017/06/03/simple-economy-with-government-money/) - maxed out at 71 pounds and so the final income achieved here is greater. Notice that both sets of numbers are consistent with $Y = G + C$.\n",
      "\n",
      "Let's check the sector balances."
     ]
    },
    {
     "cell_type": "code",
     "collapsed": false,
     "input": [
      "# initialise plot figure\n",
      "fig = plt.figure(figsize=(8, 4))\n",
      "\n",
      "budget_plot = fig.add_subplot(121, xlim=(0, N), ylim=(-10, 10))                     # set axis limits\n",
      "budget_plot.plot(range(N), T-np.repeat(G,N), lw=3)                                  # plot gov budget versus time\n",
      "budget_plot.plot(range(N), Y-T-C, lw=3)                                             # plot private budget versus time\n",
      "budget_plot.grid()                                                                  # add gridlines\n",
      "plt.xlabel('time')                                                                  # label x axis\n",
      "plt.ylabel('budget position')                                                       # label y axis\n",
      "\n",
      "balance_plot = fig.add_subplot(122, xlim=(0, N), ylim=(np.min(H_g), np.max(H_h)))   # set axis limits\n",
      "balance_plot.plot(range(N), H_g, lw=3)                                              # plot gov balance versus time\n",
      "balance_plot.plot(range(N), H_h, lw=3)                                              # plot private balance versus time\n",
      "balance_plot.grid()                                                                 # add gridlines\n",
      "plt.xlabel('time')                                                                  # label x axis\n",
      "plt.ylabel('money balance')                                                         # label y axis\n",
      "\n",
      "plt.tight_layout() # space subplots neatly"
     ],
     "language": "python",
     "metadata": {},
     "outputs": [
      {
       "metadata": {},
       "output_type": "display_data",
       "png": "[encoded data removed]",
       "text": [
        "<matplotlib.figure.Figure at 0x7f02e2a2ff10>"
       ]
      }
     ],
     "prompt_number": 96
    },
    {
     "cell_type": "markdown",
     "metadata": {},
     "source": [
      "In green is shown the private sector budget (a *flow*, left) and cumulative, saved wealth (a *stock*, right). The sector starts of in a position of budget surplus which means that money is left over after taxation and consumption that is used to build savings. Correspondingly, saved wealth increases quickly during the first few time periods (green line, right plot). Subsequently, the amount of money saved by the private sector falls to zero, meaning that the level of saved wealth plateaus.\n",
      "\n",
      "As we've established previously ([here](http://misunderheard.org/monetary_economics/2016/11/20/government-money-and-saving/) and [here](http://misunderheard.org/monetary_economics/2017/06/03/simple-economy-with-government-money/)), the budget postion of the government is the mirror-image of the private sectors'. This model is no exception. In this case, the government's budget starts off in deficit (blue line, left plot) caused by the desire of the private sector to save: money which isn't *spent* in this model is not *taxed*. As the private sector savings rate falls to zero (green, left), so the government's budget moves into balance (blue, left). As such, the level of the government debt (blue line, right plot) levels off to a maximum, constant (negative) value.\n",
      "\n",
      "## The dynamics of saving\n",
      "To elucidate what is going on here it is useful to look at the individual flows in and out of saved wealth. Remember, in each given period, there is a flow *into* saved wealth from saving out of income, and a flow *out* of saved wealth due to consumption spending out of savings. Let's plot these flows, as well as their difference - the *net* saving rate. We just need to figure out a few manipulations to get what we want.\n",
      "\n",
      "Let's call the amount saved out of income in any time period $S_Y$. Now, this amount is related to income. Specifically the amount saved out of income is what is left over from income after taxation and consumption spending. So we can describe this as: \n",
      "\n",
      "$$S_{Y,t} = (1-\\theta)(1-\\alpha_Y)Y_t $$\n",
      "\n",
      "That is, the amount saved is equal to the fraction of income ($Y$) that is not taxed ($1-\\theta$) and not spent ($1-\\alpha_Y$). Lets calculate these values for each time period."
     ]
    },
    {
     "cell_type": "code",
     "collapsed": false,
     "input": [
      "S_Y = (1-theta)*(1-alpha_Y)*Y"
     ],
     "language": "python",
     "metadata": {},
     "outputs": [],
     "prompt_number": 97
    },
    {
     "cell_type": "markdown",
     "metadata": {},
     "source": [
      "Lets call spending out of wealth $C_H$. This amount in each time period is trival to define. It is just one of the terms in the consumption function:\n",
      "\n",
      "$$C_H = \\alpha_H H_{h, t-1}$$\n",
      " \n",
      "Since spending out of savings depends on the value of saved wealth from the *previous* time period, we need to shift our results by one place in order to get the time periods lined up correctly. This involves adding a zero to the start of the <code>H_h</code> array to represent the value of saved wealth at the start of the first time period, which is was not included in the original results (because we only recorded the wealth at the *end* of each period). This line of code gets us what we need."
     ]
    },
    {
     "cell_type": "code",
     "collapsed": false,
     "input": [
      "C_H = (np.append(0, H_h[0:-1]))*alpha_H"
     ],
     "language": "python",
     "metadata": {},
     "outputs": [],
     "prompt_number": 98
    },
    {
     "cell_type": "markdown",
     "metadata": {},
     "source": [
      "So we have produced data describing the amount saved out of income and the amount spent out of savings in each time period. Obviously these flows go in opposite directions to the actual *net* amount saved in each time period is the difference between these values. Let's plot all 3."
     ]
    },
    {
     "cell_type": "code",
     "collapsed": false,
     "input": [
      "# initialise plot figure\n",
      "fig = plt.figure(figsize=(8, 4))\n",
      "\n",
      "saving_plot = fig.add_subplot(111, xlim=(0, N), ylim=(0, 10))               # set axis limits\n",
      "\n",
      "saving_plot.plot(range(N), S_Y,       lw=3, label='saving out of income')   # plot saving from income\n",
      "saving_plot.plot(range(N), C_H,       lw=3, label='spending out of wealth') # plot spending from savings\n",
      "saving_plot.plot(range(N), S_Y - C_H, lw=3, label='net saving')             # plot net saving\n",
      "\n",
      "saving_plot.grid()                                                          # add gridlines\n",
      "\n",
      "plt.xlabel('time')                                                          # label x axis\n",
      "plt.ylabel('saving / dissaving per time period')                            # label y axis\n",
      "\n",
      "legend = saving_plot.legend(loc='lower right', shadow=True)\n",
      "\n",
      "plt.tight_layout() # space subplots neatly"
     ],
     "language": "python",
     "metadata": {},
     "outputs": [
      {
       "metadata": {},
       "output_type": "display_data",
       "png": "[encoded data removed]",
       "text": [
        "<matplotlib.figure.Figure at 0x7f02e2a97290>"
       ]
      }
     ],
     "prompt_number": 99
    },
    {
     "cell_type": "markdown",
     "metadata": {},
     "source": [
      "The blue line, above, represents the rate of saving out of income. The green line is the spending out of saved wealth. And the red line is net saving which describes the decreasing difference between blue and green through time. \n",
      "\n",
      "Okay, let's figure out what's changed in this model. In the first period the private sector began with no accumulated, saved wealth. The government spent money into the economy and this created incomes which were used for repeated cycles of consumption spending, taxation and saving (the basic fiscal multiplier effect). A total of ~71 pounds of aggregate income was achieved. Since there was no pre-existing wealth, spending out of saved wealth was zero ($\\alpha_H \\times 0 = 0$). This means that net saving was simply equal to the saving out of income (5.71 pounds). So far, this is identical to the previous model.\n",
      "\n",
      "In the next time period, this is where things change. The government spends into the economy once again, but the private sector now have some accumulated wealth from the first time period (~5.71 pounds), out of which they spend 20% (1.14 pounds). This means that the total injection of initial spending in the second period is *larger* than the first period (21.14 > 20). But the same compounding process of induced consumption spending multiplies this larger autonomous spending into a *larger* aggregate income (75.5 pounds).\n",
      "\n",
      "The larger overall income achieved in the second time period means that the saving *out of income* in that period is larger than in the first period (6.04 > 5.71). But now we have *spending out of wealth* too (1.14), meaning that the *net* amount of saving in the second period (6.04 - 1.14 = 4.90) is actually lower than in the first time period (4.90 < 5.71). So the pile of saved wealth grows some more, but at a slightly slower rate. \n",
      "\n",
      "This process continues into subsequent time periods with the increasing quantity of saved wealth driving increased autonomous spending and compounded aggregate income. This is a growing economy, and as incomes grow so does the quantity of those incomes which are saved, and the quantity of wealth that is spent. Crucially, however, the quantity of spending out of wealth increases at a *faster* rate than the quantity being saved out of income. This is for the simple reason that some of the saved wealth spent into the economy is taxed away and so it cannot all be re-saved (see the additional notes at the end). Eventually, the quantity being spent out of saved wealth reaches the same level as that being saved out of income. At this point there is now *no* net saving occuring (red line): the flow *out* of saved wealth is equal to the flow *into* saved wealth (blue and green lines). And since, under these conditions, saved wealth is no longer increasing, there is no subsequent increase in autonomous spending out of wealth and so no further increases in aggregate income. We have reached an equilibrium: stable incomes, stable wealth, stable government balance.\n",
      "\n",
      "## The steady-state\n",
      "When we have a model in which certain properties achieve some kind of steady or constant behaviour we can describe this condition as an *equlibrium* or as a *steady state*. In this model we have observed the attainment of steady state in all variables, but most notably the saved wealth of the private sector and the government debt, both of which grew without bound in the previous model.\n",
      "\n",
      "We can analyse the steady-state situation by exploiting the fact that certain flows are known to be equal under these conditions. First, let's set up a convention where we denote the steady-state value of a variable using the superscript $^*$. For example, the steady-state equation for aggregate income becomes:\n",
      "\n",
      "$$Y^* = \\frac {G + \\alpha_H H^*}{1 - \\alpha_Y(1 - \\theta)}$$\n",
      "\n",
      "Now, one thing we have established is that, at steady-state, the government's budget is balanced, that is to say that steady-state tax revenue is equal to government spending. We can write this as:\n",
      "\n",
      "$$G = \\theta Y^*$$\n",
      "\n",
      "since tax is collected as a fraction ($\\theta$) of steady-state income ($Y^*$). Trivally rearranging this, we get:\n",
      "\n",
      "$$Y^*  = \\frac {G}{\\theta} $$\n",
      "\n",
      "Steady-state income is equal to the ratio of the government spending level and the tax rate. And it is an interesting result as it states that the ultimate level of aggregate income is completely independent of the propensities to consume out of both income and wealth ($\\alpha_Y$, $\\alpha_H$). If we alter $\\alpha_Y$ and/or $\\alpha_H$ we will still get the same steady-state aggregate income. One way to understand why this is the case is to recognise that the steady-state arrives at the point at which there is *no net saving* going on - that is, when spending out of saved wealth and saving out of income are exactly balanced. If we recall our [previous analysis of the fiscal multiplier with no private sector saving](http://misunderheard.org/monetary_economics/2016/11/20/circular-flow-of-government-money/) we'll notice that $Y^*  = G / \\theta $ is exactly the aggregate income we'd expect under these conditions.\n",
      "\n",
      "What the propensities to consume out of income ($\\alpha_Y$) and wealth ($\\alpha_H$) *do* alter, however, is the level of saved wealth that is required to bring about the steady-state condition. To see this, consider equation 5 from the system of equations in our model:\n",
      "\n",
      "$H_{h,t} = H_{h, t-1} + Y_t - T_t - C_t$\n",
      "\n",
      "Now, rearranging, we can get:\n",
      "\n",
      "$H_{h,t} - H_{h, t-1} = Y_t - T_t - C_t$\n",
      "\n",
      "with the left hand side representing the *change* in $H_h$ between consecutive time periods. Under steady-state, though, we know that consecutive time periods are *not* changing. That is:\n",
      "\n",
      "$$H_{h,t} = H_{h, t-1} = H_h^*$$\n",
      "\n",
      "and therefore\n",
      "\n",
      "$$H_{h,t} - H_{h, t-1} = H_h^* - H_h^* = 0$$\n",
      "\n",
      "So, under steady-state, we can replace $H_{h,t} - H_{h, t-1}$ in the rearranged equation 5 with $0$, giving:\n",
      "\n",
      "$0 = Y^* - T^* - C^*$\n",
      "\n",
      "or\n",
      "\n",
      "$$Y^* = T^* + C^*$$\n",
      "\n",
      "This tells us what we already know: at steady-state income is used entirely for tax payments and consumption spending - nothing is left over for (net) saving. Now we can substitute equations 3 and 4 into this expression:\n",
      "\n",
      "$$Y^* = \\theta Y^* + \\alpha_Y(1 - \\theta)Y^* + \\alpha_H H^*$$\n",
      "\n",
      "and rearrange to get\n",
      "\n",
      "$$H^* = \\frac {(1 - \\alpha_Y)(1 - \\theta)}{\\alpha_H} Y^*$$\n",
      "\n",
      "So we have produced an expression for steady-state saved wealth ($H^*$) in terms of steady-state income ($Y^*$). Total saved wealth is seen to differ in magnitude from income by a factor correspondng to the term $\\frac {(1 - \\alpha_Y)(1 - \\theta)}{\\alpha_H}$. If we shift the $Y^*$ over to the other side we can isolate this term and expliclty express the size of saved wealth *relative* to income:\n",
      "\n",
      "$$\\frac {H^*}{Y^*} = \\frac {(1 - \\alpha_Y)(1 - \\theta)}{\\alpha_H}$$\n",
      "\n",
      "So the ratio of steady-state wealth to steady-state income is determined by the parameters $\\alpha_Y$, $\\alpha_H$ and $\\theta$. \n",
      "\n",
      "We can see how this operates intuitively by considering the numerator and denominator terms in the expression. The numerator $(1 - \\alpha_Y)(1 - \\theta)$ describes the fraction of income which is not taxed ($1-\\theta$) and not spent ($1-\\alpha_Y$). That is to say the fraction of income which is saved in each time period. The denominator ($\\alpha_H$) straighforwardly describes the fraction of wealth which is spent in each time period. So if the rate of saving out of income was, say, 10% and the rate of spending out of saved wealth was 5% then their ratio would be 2, meaning that saved wealth needs to be twice as larger as income in order for the opposing flows of saving and spending to be equal. In our case we have a fractional saving rate of:"
     ]
    },
    {
     "cell_type": "code",
     "collapsed": false,
     "input": [
      "(1 - alpha_Y)*(1 - theta)"
     ],
     "language": "python",
     "metadata": {},
     "outputs": [
      {
       "metadata": {},
       "output_type": "pyout",
       "prompt_number": 83,
       "text": [
        "0.07999999999999999"
       ]
      }
     ],
     "prompt_number": 83
    },
    {
     "cell_type": "markdown",
     "metadata": {},
     "source": [
      "Basically 8%. And a spending out wealth fractional rate of 20% (which we specified directly ourselves). So their ratio is: "
     ]
    },
    {
     "cell_type": "code",
     "collapsed": false,
     "input": [
      "((1 - alpha_Y)*(1 - theta))/alpha_H"
     ],
     "language": "python",
     "metadata": {},
     "outputs": [
      {
       "metadata": {},
       "output_type": "pyout",
       "prompt_number": 84,
       "text": [
        "0.3999999999999999"
       ]
      }
     ],
     "prompt_number": 84
    },
    {
     "cell_type": "markdown",
     "metadata": {},
     "source": [
      "And therefore, in this case, we expect our steady-state saved wealth to be ~40% of steady-state income. Let's see."
     ]
    },
    {
     "cell_type": "code",
     "collapsed": false,
     "input": [
      "print(H_h[-1])\n",
      "print(Y[-1])\n",
      "print(H_h[-1]/Y[-1])"
     ],
     "language": "python",
     "metadata": {},
     "outputs": [
      {
       "output_type": "stream",
       "stream": "stdout",
       "text": [
        "39.9999919206\n",
        "99.9999932671\n",
        "0.399999946137\n"
       ]
      }
     ],
     "prompt_number": 85
    },
    {
     "cell_type": "markdown",
     "metadata": {},
     "source": [
      "Sure enough, steady-state income is ~100 pounds and saved wealth is ~40 pounds. Because the fractional saving rate is smaller than the fractional spending-from-wealth-rate, income needs to be proportionately higher than wealth for the opposing flows to balance and cause a steady-state situation.\n",
      "\n",
      "We can think of the private sector spending and saving behaviours ($\\alpha_Y$, $\\alpha_H$) as individual, distinct processes if we like. But we can also consider their combined affect - encapsulated by the term $\\frac {(1 - \\alpha_Y)(1 - \\theta)}{\\alpha_H}$ - in producing a particular wealth-income ratio. In this sense $\\alpha_Y$ and $\\alpha_H$ (as well as $\\theta$) can be thought of as defining the private sector's *target* for saved wealth relative to income. Once this target is achieved a steady state is established and no further saving is performed. Altering either $\\alpha_Y$ and $\\alpha_H$ has the effect of implicitly changing the steady-state size of accumulated wealth. It is arguably more plausible to consider folk having a target size for their saved wealth, rather than preferred, fixed and specific behaviours relating to spending out of income and saved wealth respectively.\n",
      "\n",
      "As we recognised in the [last post](http://misunderheard.org/monetary_economics/2017/06/03/simple-economy-with-government-money/), the total accumulated saved wealth in these model economies is mirrored by the government's \"debt\". This arises from the fact that the money that is in circulation and which represents the accumulated assets of the private sector is an IOU of the government. The quantity accumulated by the private sector is therefore, by definition, the net quantity of money issued by the government."
     ]
    },
    {
     "cell_type": "markdown",
     "metadata": {},
     "source": [
      "## Summary\n",
      "So we've introduced a simple change over and above the previous model - the private sector spends out of its saved wealth in addition to spending out of income. This has had a profound effect on the dynamics of the model economy. Instead of the economy maintaining a constant aggregate income, this economy exhibited growing aggregate incomes. And instead of constant saving and government deficit levels, saving in this model is more dynamic than that. Saving occurs only up to the point that the private sector has satisfied it's preferred wealth-income ratio. And the consequence of this is that the government's budget eventually becomes balanced. Notice that the government did not need to cut its spending or raise taxes to balance it's budget. This was an automatic feature of the dynamics in the model. \n",
      "\n",
      "Because net saving converges to zero, the size of accumulated saved wealth reaches a limit. Correspondingly, the government \"debt\" also reaches a stable limit. This contrasts significantly with the previous model where both private savings and government debt increased without bound.\n",
      "\n",
      "In effect, the introduction of spending out of savings allows consumption spending to be *smoothed out* through time. There can now be a lag between earning and spending. In more complicated models, with variations through time in earned income, this ability to smooth and maintain consumption spending through time and through varying economic conditions is likely to be important in describing realistically the response of economies to certain economic conditions.\n",
      "\n",
      "## Additional notes\n",
      "\n",
      "### Deriving steady-state income\n",
      "Above we derived an expression for steady-state income ($Y^* = G/\\theta$) by exploiting the fact that, at steady-state, the government's budget is balanced - that is government spending is equal to tax revenue. We can equally arrive at the same result by considering the balance of saving out of income and spending out of wealth, which are also equal at steady-state. We can express this equality as:\n",
      "\n",
      "$\\alpha_H H^* = S_Y^*$\n",
      "\n",
      "or, using the definition of $S_Y$ described above:\n",
      "\n",
      "$\\alpha_H H^* = (1 - \\alpha_Y)(1 - \\theta)Y^*$\n",
      "\n",
      "Substituting this right-hand side into our general equation for steady-state income, we get:\n",
      "\n",
      "$$Y^* = \\frac {G + (1 - \\alpha_Y)(1 - \\theta)Y^*}{1 - \\alpha_Y(1 - \\theta)}$$\n",
      "\n",
      "which can be rearranged:\n",
      "\n",
      "$$G = Y^*(1 - \\alpha_Y(1 - \\theta) - (1 - \\alpha_Y)(1 - \\theta))$$\n",
      "\n",
      "$$G = Y^*(1 - 1 + \\alpha_Y - \\alpha_Y + \\alpha_Y \\theta - \\alpha_Y \\theta  + \\theta)$$\n",
      "\n",
      "$$G = Y^* \\theta$$\n",
      "\n",
      "$$Y^*  = \\frac {G}{\\theta} $$\n",
      "\n",
      "So, same result, different method.\n",
      "\n",
      "### What affects the wealth-income ratio?\n",
      "Recall that the private sector's wealth-income ratio converges towards:\n",
      "\n",
      "$$\\frac {H^*}{Y^*} = \\frac {(1-\\theta)(1-\\alpha_Y)}{\\alpha_H} $$\n",
      "\n",
      "that is, it is dependent on 3 parameters: $\\alpha_Y$, $\\alpha_H$ and $\\theta$.\n",
      "\n",
      "If we differentiate this expression with respect to each of these parameters we can understand their affect on the wealth-income ratio.\n",
      "\n",
      "$$\\frac {d [H^*/Y^*]}{d \\theta} = \\frac {\\alpha_Y - 1}{\\alpha_H} $$\n",
      "\n",
      "$$\\frac {d[H^*/Y^*]}{d \\alpha_Y} = \\frac {\\theta - 1}{\\alpha_H} $$\n",
      "\n",
      "$$\\frac {d[H^*/Y^*]}{d \\alpha_H} = -\\frac {(1-\\theta)(1-\\alpha_Y)}{\\alpha_H^2} $$\n",
      "\n",
      "What is noticeable about these is that each of them is negative, meaning that *increasing* any of the 3 parameters results in a *lower* steady-state wealth-income ratio. Since steady-state income is fixed ($G/\\theta$) this basically means that increasing any of these parameters reduces the *absolute size* of steady-state saved wealth.\n",
      "\n",
      "Increasing either the extent to which folk are required to pay tax or choose to consume out of disposable income reduces the flow into savings. This means that, for any given propensity to spend out of wealth, a smaller pile of saved wealth is required to balance the flow out of income into savings and thus establish steady-state. Hence the the steady-state wealth-income ratio is smaller in such cases. Equally, increasing the propensity to spend out of wealth has the same affect: for any given tax rate and propensity to save out of income, a larger propensity to spend out of wealth means a smaller pile of wealth is need to balance the flow into savings. \n",
      "\n",
      "### Taxation is necessary for steady-state\n",
      "We can show that it is the tax rate that controls the difference between rates at which saving out of income and spending out of savings grows in this model. It is this difference in growth rates that results in the rate of spending out of saving \"catching up\" to the rate of saving out of income and thereby equilibrating the private sector saving behaviour and economy more generally. Let's start with our original income equation.\n",
      "\n",
      "$$Y_t = \\frac {G + \\alpha_H H_{t-1}}{1 - \\alpha_Y(1 - \\theta)}$$\n",
      "\n",
      "And remember that we derived saving out of income as being:\n",
      "\n",
      "$$S_{Y,t} = (1-\\theta)(1-\\alpha_Y)Y_t $$\n",
      "\n",
      "Substituting the income equation into this savings equation gives:\n",
      "\n",
      "$$S_{Y,t} = \\frac {(1-\\theta)(1-\\alpha_Y)(G + \\alpha_H H_{t-1})}{1 - \\alpha_Y(1 - \\theta)}$$\n",
      "\n",
      "Now, let's differentiate this with respect to $H_h$ - that is, let's derive an expression which describes how the savings rate changes with the size of saved wealth.\n",
      "\n",
      "$$\\frac{d S_Y}{d H_{t-1}} = \\frac {(1-\\alpha_Y)(1-\\theta) }{1 - \\alpha_Y(1 - \\theta)} \\alpha_H$$\n",
      "\n",
      "and rearranging:\n",
      "\n",
      "$$\\frac{d S_Y}{d H_{t-1}} = \\frac {1 - \\alpha_Y(1 - \\theta) - \\theta }{1 - \\alpha_Y(1 - \\theta)} \\alpha_H$$\n",
      "\n",
      "Now, the rate at which spending out of savings changes with the size of saved wealth is more trivially:\n",
      "\n",
      "$$\\frac {d C_H}{d H_{t-1}} = \\alpha_H$$\n",
      "\n",
      "So we have expressions for the rate at which saving from income and spending from wealth change as the stock of saved wealth grows. Now, the term:\n",
      "\n",
      "$$\\frac {1 - \\alpha_Y(1 - \\theta) - \\theta }{1 - \\alpha_Y(1 - \\theta)}$$\n",
      "\n",
      "must evaluate to a number between 0 and 1. We know it will be greater than zero because both the numerator and denominator must be positive as they both involve numbers between 0 and 1 being subtracted from 1. Furthermore, the numerator and denominator are identical except for the subtraction of an extra $\\theta$ term in the numerator. This means that the numerator is smaller than the denominator and therefore the whole term is less than one.\n",
      "\n",
      "So, we can say:\n",
      "\n",
      "$$\\alpha_H > \\frac {1 - \\alpha_Y(1 - \\theta) - \\theta }{1 - \\alpha_Y(1 - \\theta)} \\alpha_H$$\n",
      "\n",
      "and therefore:\n",
      "\n",
      "$$\\frac {d C_H}{d H_{t-1}} > \\frac{d S_Y}{d H_{t-1}}$$\n",
      "\n",
      "The rate at which spending out of saving grows with the size of saved wealth is faster than the rate at which saving out of income grows. And the parameter which stops these rates of change being equal is the tax rate term in the numerator of the saving derivative. With a tax rate of zero these derivatives would be identical and the economy would not equilibrate - spending out of saving would never catch up to saving out of income. \n",
      "\n",
      "The intuition here is that the money that is spent out of savings is partially taxed as it circulates to it can never be re-saved in its entirety. So spending out of savings always catches up with saving out of income, because of taxation, leading the economy to equilibrate.\n",
      "\n",
      "### Coding idiosyncracy\n",
      "There's an interesting idiosyncracy in the code used to execute the model. Consider the way this <code>for</code> loop has been implemented."
     ]
    },
    {
     "cell_type": "code",
     "collapsed": false,
     "input": [
      "for t in range(0, N):\n",
      "    \n",
      "    # calculate total income for this time step (equation 1)\n",
      "    Y[t] = (G + alpha_H*H_h[t-1])/(1 - alpha_Y*(1-theta))\n",
      "    "
     ],
     "language": "python",
     "metadata": {},
     "outputs": [],
     "prompt_number": 86
    },
    {
     "cell_type": "markdown",
     "metadata": {},
     "source": [
      "The loop is instructed to iterate through numbers 0..N and on each step assign the respective number to the <code>t</code> variable. Inside the loop, the <code>t</code> variable is used as an index to locate the appropriate value in the <code>H_h</code> array. Specifically, we want to locate the value of <code>H_h</code> from the *previous* time period, so we subtract 1 from the value of <code>t</code> to get <code>t-1</code> (i.e. <code>H_h[t-1]</code>). So, on the 10th iteration of the loop, the variable <code>t</code> is equal to 9 (remember we start from 0). Therefore we end up retrieving the *8th* value from the <code>H_h</code> array, since 9 - 1 = 8. \n",
      "\n",
      "This is all well and good. However, it might be less clear how this approach deals with the *first* iteration of this loop? On the first iteration, the loop iteration variable <code>t</code> is equal to 0 and therefore the index used to recover the \"previous\" <code>H_h</code> value is 0 - 1 = -1. But the first value in any array is indexed as 0. So how can we recover a value from *before* the first element of the <code>H_h</code> array? \n",
      "\n",
      "Remember that what we want here is the value of saved wealth from the previous time period in order to act as autonomous spending in the current time period. In the first time period, we know that there is no existing wealth and therefore what we want is for this value to be zero. The reason our code works is that, in Python (and some other programming languages), the <code>-1</code> index of an array is a shorthand for the *last* element in the array. In effect, the minus sign is telling the code to start indexing from the end of the array. So in our first loop iteration, when the iteration variable (<code>t</code>) is equal to 0, and the required \"previous\" <code>H_h</code> index is -1, we are actually retrieving the *last* value of the <code>H_h</code> array. And, at this stage we haven't populated the last value of the <code>H_h</code> array according to the dynamics of our model - we're only just enumerating the first time period. But we did initialise the entire array with zeros. So the value we retrieve here is zero, exactly what we need. \n",
      "\n",
      "This syntax makes the code nice and tidy. It means we don't have to add any extras clauses to our code handle the inherent difficulty with using a backwards difference equation reference (i.e. <code>H_h[t-1]</code>) at the *start* of a sequence. This only works in our case, though, because we haven't yet populated the array with anything other than the zeros we happen to need. In other cases we might need a more complicated approach."
     ]
    }
   ],
   "metadata": {}
  }
 ]
}