{
 "metadata": {
  "name": ""
 },
 "nbformat": 3,
 "nbformat_minor": 0,
 "worksheets": [
  {
   "cells": [
    {
     "cell_type": "markdown",
     "metadata": {},
     "source": [
      "# the circular flow of government money\n",
      "\n",
      "The term *fiscal policy* describes the spending and taxation decisions taken by government and is used to differentiate these policies from other economic policies of government such as the setting of interest rates (*monetary policy*). The impact of the [circular flow of money](http://misunderheard.org/monetary_economics/2016/06/04/spending-income-and-the-circular-flow-of-money/) on incomes is complicated by government spending and taxation and the effect is encapsulated in a concept called *the fiscal multiplier* which is the focus of this post.\n",
      " \n",
      "To start with, let's call government spending $G$. When the government spends it is hiring folk to do productive work or buying things from private businesses. The spending therefore constitutes an income of $G$ for the \"private\" or \"non-governmental\" sector. We can state that:\n",
      "\n",
      "$$Y_0 = G$$\n",
      "\n",
      "that is, aggregate income (so far) is simply equal to government spending. The subscript $_0$ tells us that this is the *initial* income and the reason for using it will become clear soon. Next, we'll say that the government imposes a tax on income at a rate $\\theta$, which is a number between 0 and 1 corresponding to a percentage. For example, if the tax rate is 20%, $\\theta = 0.2$. So on the initial income, $Y_0$, we can say that the initial amount of tax paid is $\\theta Y_0$. A simple but useful corollary to this is that the amount of income left over after tax is paid is $(1 - \\theta) Y_0$. This amount can be described as \"disposable income\" and the cruicial consideration is what happens with it next. \n",
      "\n",
      "Assume that the government initially spends 100 pounds and sets an income tax rate of 20%. The private sector gains an income of 100 pounds but pays 20 pounds back to the government immediately as tax. The holders of the remaining disposable income now have two choices: they can spend it or not spend it, and *not spending* is simply what we refer to as *saving*. For now we'll assume that the 80 pounds of disposable income is entirely spent on consumption goods and services - i.e. no saving (yet). This additional consumption spending becomes an additional 80 pounds of income for the economy of which 20% - 16 pounds - is paid to the government as tax. Total income so far is therefore 180 pounds: 100 from the initial government spend, and 80 pounds from the subsequent consumption spending. The total amount of tax paid to the government is 36 pounds (20 plus 16). And the private sector *now* holds 64 pounds as disposable income (80 pounds income - 16 pounds tax = 64 pounds) which also entirely spent and a similar pattern of further income and tax receipts ensues.\n",
      "\n",
      "|round|spending|income|tax|disposable income|\n",
      "|---|---|---|---|---|\n",
      "|0|100|100|20|80|\n",
      "|1|80|80|16|64|\n",
      "|2|64|64|13|51|\n",
      "|3|51|51|10|41|\n",
      "|4|41|41|8|33|\n",
      "\n",
      "The table describes 5 such rounds of spending as the money injected by the initial government spend of 100 pounds circulates. There are a few things to note: \n",
      "\n",
      "1. income in each round is exactly equal to spending. This is simply down to the fact that spending and income are the two sides of any transaction\n",
      "2. tax is levied on the income of each round at 20%\n",
      "3. the disposable income from any round is what is available for spending in the next round (so the first column of each row is identical to last column of the row above it). \n",
      "4.  On each successive round of spending, more new income is generated and more new tax is paid, though each is smaller than in the previous round. \n",
      "\n",
      "Now, we can discover exactly where this is heading with a bit of fairly simple maths. Remember, the initial income, $Y_0$, is equal to the initial government spend, $G$. The tax paid on this income is $\\theta Y_0$ and the income left over for subsequent spending is $(1-\\theta) Y_0$. If this disposable income is spent in its entirety then the next round of income, $Y_1$, has the same value:\n",
      "\n",
      "$$Y_1 = (1-\\theta)Y_0$$\n",
      "\n",
      "The amount of tax paid on *this* round of income is $\\theta Y_1$ and the amount remaining is $(1 - \\theta) Y_1$. Therefore, as before, we can describe the *next* round of income:\n",
      "\n",
      "$$ Y_2 = (1-\\theta)Y_1$$\n",
      "\n",
      "In general, we can see that:\n",
      "\n",
      "$$ Y_n = (1-\\theta)Y_{n-1}$$\n",
      "\n",
      "i.e. the income earned in the *n*th spending round is equal to the income earned on the previous round *less the tax paid* on that income. \n",
      "\n",
      "Now, here's where we can use a bit of ingenuity. We know that $Y_0$ is equal to $G$. So substituing $G$ for $Y_0$ in the expression for $Y_1$ we get:\n",
      "\n",
      "$$Y_1 = (1-\\theta)G$$\n",
      "\n",
      "But now we can substitute this expression for $Y_1$ into the expression for $Y_2$:\n",
      "\n",
      "$$Y_2 = (1-\\theta)(1-\\theta)G$$\n",
      "\n",
      "or, more succinctly:\n",
      "\n",
      "$$Y_2 = (1-\\theta)^2G$$\n",
      "\n",
      "We've managed to express the first 3 rounds of income ($Y_0, Y_1, Y_2$) entirely in terms of only the initial government spend and the tax rate. We can keep going with this, or just generalise to the *n*th round of spending:\n",
      "\n",
      "$$Y_n = (1-\\theta)^nG \\hspace{1cm} (1)$$\n",
      "\n",
      "So now that we can express the income arising from any single round of spending simply in terms of the \"fiscal policy\" parameters only: the government spending and tax rate choices, $G$ and $\\theta$. \n",
      "\n",
      "If we know the income for each individual round of spending then the total amount of income over all spending rounds is simply the sum total of the individual spending rounds:\n",
      "\n",
      "$$\\sum_{n=0}^{\\infty} Y_{n} = Y_0 + Y_1 + Y_2 + Y_3 + ... $$\n",
      "\n",
      "or\n",
      "\n",
      "$$\\sum_{n=0}^{\\infty} Y_{n} = G + (1-\\theta)G + (1-\\theta)^2G + (1-\\theta)^3G + ...$$\n",
      "\n",
      "Note that $\\theta$ is a number between $0$ and $1$ (in our example $0.2$, i.e. 20%), and so the term $1-\\theta$ is also always between $0$ and $1$. As this term is raised to an increasing powers through successive terms in the sum above ($^{0,1,2,3...}$), we can see that it becomes smaller, and what is being added are therefore successively smaller fractions of the initial quantity $G$. The first term in the sum is just $G$ itself, the initial goverment spend which represents the initial flow of income. This term is equivalent to $(1 - \\theta)^0 G$ although we don't bother writing it out in full. The next term, with $\\theta = 0.2$ evaluates to $0.8 G$, and the subsequent terms to $0.64 G$, $0.51 G$, $0.41 G$ and so on.\n",
      "\n",
      "We can fairly easily add together many more terms because the last expression is known in mathematics as a [geometric series](https://en.wikipedia.org/wiki/Geometric_series) - a sum in which the successive terms share a *common ratio*. If we want to know the total income arising from a certain number, say $m$, of spending rounds, we can use this standard solution:\n",
      "\n",
      "$$\\sum_{n=0}^{m-1} Y_{n} = \\frac {1-a^m}{1 - a}G$$\n",
      "\n",
      "where $a$ is the common ratio, which in our case is $(1-\\theta)$, giving:\n",
      "\n",
      "$$\\sum_{n=0}^{m-1} Y_{n} = \\frac {1-(1-\\theta)^m}{\\theta}G \\hspace{1cm} (2)$$\n",
      "\n",
      "As an illustration, in the plot below the blue bars represent income associated with each individual spending round (based on equation 1) and the red bars show cumulative income across spending rounds (equation 2). Graphically, the size of the red bars is equal to all of the blue bars up to that point stacked on top of one another."
     ]
    },
    {
     "cell_type": "code",
     "collapsed": false,
     "input": [
      "import matplotlib.pyplot as plt\n",
      "import numpy as np\n",
      "%matplotlib inline \n",
      "\n",
      "G     = 100 # government spending\n",
      "theta = 0.2 # tax rate\n",
      "\n",
      "n_rounds = 30 # number of rounds we'll consider\n",
      "\n",
      "# create an array of numbers from 0-30, one for each spending round\n",
      "c = np.arange(0,n_rounds) \n",
      "\n",
      "# solve equation 1 for each individual round\n",
      "y = G*(1-theta)**c\n",
      "\n",
      "# solve equation 2 for each individual round\n",
      "sum_y = G*(1-(1-theta)**(c+1))/(1-(1-theta))\n",
      "\n",
      "# plot\n",
      "plt.bar(c,sum_y, color='r',label='cumulative income')\n",
      "plt.bar(c,y, color='b', label='spending round income')\n",
      "plt.grid()\n",
      "plt.legend(loc='center right')\n",
      "plt.xlabel('Spending round, n')\n",
      "plt.ylabel('Income')\n",
      "\n",
      "plt.tight_layout()\n",
      "plt.show()"
     ],
     "language": "python",
     "metadata": {},
     "outputs": [
      {
       "metadata": {},
       "output_type": "display_data",
       "png": "[encoded data removed]",
       "text": [
        "<matplotlib.figure.Figure at 0x7f05fde03ad0>"
       ]
      }
     ],
     "prompt_number": 1
    },
    {
     "cell_type": "markdown",
     "metadata": {},
     "source": [
      "If we consider a very large number of spending rounds equation 2 converges to:\n",
      "\n",
      "$$\\sum_{n=0}^{\\infty} Y_{n} = \\frac {G}{\\theta} \\hspace{1cm} (3)$$\n",
      "\n",
      "which represents the *total* income from *all* spending rounds. With $G = 100$ and $\\theta = 0.2$ equation (3) evaluates to $\\frac {100}{0.2} = 500$ and so we conclude that total amount of income achieved by the successive spending of 100 pounds with a 20% withdrawal rate due to taxation is 500 pounds. And the plot above corroborates this: the income converges to 500 pounds after ~20 rounds of spending.\n",
      "\n",
      "So the affect of government spending is to cause a cascade of repeated spending which ultimately generates incomes which are some multiple of the initial government spend. We can summarise this for our case above by omitting the subscripts and simply writing:\n",
      "\n",
      "$$Y = \\frac {G}{\\theta} \\hspace{1cm} (4)$$\n",
      "\n",
      "Now $Y$ simply represents total income from all spending. Equation 4 is basically an analytical solution for our simple economy, describing the income for any given pair of fiscal policy settings. It is clear that in this simple economy, incomes can be raised by either increasing the government spending ($G$) or decreasing the tax rate ($\\theta$), though these conclusions may not necessarily hold for more complicated scenarios.\n",
      "\n",
      "Rearranging equation 4 we can get:\n",
      "\n",
      "$$ \\frac {Y}{G} = \\frac {1}{\\theta}$$\n",
      "\n",
      "This expression represents the total income earned *per pound spent by the government*. The right-hand side $\\frac {1}{\\theta}$ is called the *fiscal multiplier* and can be considered to describe the stimulatory effect of government spending on aggregate incomes in the economy. In our case the multiplier is $\\frac {1}{0.2} = 5$ - the aggregate income attained is 5 times the size of the goverment spend. Another way of conceptualizing this is that each pound circulates 5 times on average before being collected in tax.\n",
      "\n",
      "One last thing worth looking at is the total amount of tax that has been paid. Let's call tax revenue $T$. We know that $T$ is paid as a fraction, $\\theta$, of income. In other words (well, symbols):\n",
      "\n",
      "$$T = \\theta Y$$\n",
      "\n",
      "Now, we can substitute our expression for $Y$ (equation 4):\n",
      "\n",
      "$$T = \\theta \\frac {G}{\\theta}$$\n",
      "\n",
      "which simplifies to $T = G$. Tax revenue for the government is exactly equal to the initial government outlay. The government has recouped all of its spending - it has a *balanced budget*. This explains why the cycle of spending and incomes slows down and ultimately stops: the money circulating is being withdrawn and is eventually entirely withdrawn. So tax acts as a \"leakage\" of money from the cycle of spending and this is seen in the decreasing size of the terms in the geometric sum. Essentially, the total amount of income that can be generated by the spending and re-spending of the government money is limited because the money is gradually recouped by the government through taxation. A simple but quite profound consequence of this model is that if the private sector reflexively spend all of their income, and the government levies an *income tax*, then it is an inevitability that *all* the money will end up back at government. There are only two uses of money - spending and paying tax - and spending simply results in income which is subject to the same two choices and therefore merely postpones the taxation. Eventually every pound is taxed and the tax rate determines how it occurs and therefore how much income can be generated in the interim.\n",
      "\n",
      "In summary, we've assumed a pretty simple scenario wherein the government spends an amount of money and taxes income at a certain rate, and where the private sector spend all of their income, i.e. no saving occurs. The upshot of this is that the private sector directly receives an income from the government spending and this income drives further cycles of spending and therefore more income. The total aggregate income generated by all spending is a multiple, $\\frac {1}{\\theta}$, of the initial government spending. And the government money is gradually withdrawn via income taxation meaning that the government eventually recoups *all* of its spending via taxation - that is, it has a balanced budget\n",
      "\n",
      "A number of questions emerge from this. What if the private sector *do* want to save some of their income? How many spending rounds do we need to consider? And what stops all the money being drained out of the economy by taxation? These will have to wait for another time."
     ]
    },
    {
     "cell_type": "markdown",
     "metadata": {},
     "source": [
      "# government money and savings\n",
      "\n",
      "In the last post we looked at they way in which government spending and taxation interacts with the circular flow of money. In particular, we found that, in an economy with no saving, money introduced by the government is repeatedly spent creating additional income beyond that created by the initial government spending. Since the government collects an income tax on each transaction, the money introduced by the government spending is gradually withdrawn as it is re-spent. This \"leakage\" of money out of circulation places a limit on the total amount of spending and income that can ultimately arise. The eventual total level of aggregate income was shown to be a multiple, $\\frac {1}{\\theta}$, of the initial government spend (where $\\theta$ is the tax rate). Here we'll consider what changes in this story when the population decide to save some of their income.\n",
      "\n",
      "In order to incorporate the effects of saving we just need to make one change to our setup from before. Instead of assuming that folk spend all of their disposable income we will assume that they spend only some fraction of it, saving the rest. The fraction that they spend is commonly described as *the propensity to consume* and we can denote it with the symbol $\\alpha$. The fraction saved is therefore $1-\\alpha$.\n",
      "\n",
      "Let's put a figure of $0.9$ on $\\alpha$ for illustrative purposes - i.e. 90% of income is spent onwards, the remaining 10% being saved. When we consider the previous scenario of 100 pounds of government spending we find that, of the 80 pounds of initial government spending that remains as disposable income after 20% tax is paid, 72 pounds is spent (90% of 80 pounds) and 8 pounds is saved. As this 72 pounds of consumption spending creates 72 pounds of income, a further 14.40 pounds is paid in tax to the government and therefore 57.6 pounds is retained as disposable income from this second round of spending. Of this 57.6 pounds, 51.84 pounds is spent with 5.76 saved. And so on. \n",
      "\n",
      "|round|spending|income|tax|disposable income|income saved|income spent|\n",
      "|---|---|---|---|---|---|---|\n",
      "|0|100|100|20|80|8|72|\n",
      "|1|72|72|14|58|6|52|\n",
      "|2|52|52|10|42|4|38|\n",
      "|3|38|38|8|30|3|27|\n",
      "|4|27|27|5|22|2|20|\n",
      "\n",
      "Notice, in the table above, that we are retaining the term *disposable income* to denote what is left after tax but before any spending and saving choices have been made. Two extra columns are introduced into this table to show what is done with the disposable income: how much is saved and how much is spent. The final column of each row describes the income after taxation *and* saving and which becomes the spending in the next round, shown at the start of the next row.\n",
      "\n",
      "Now, let's give this a similar mathematical treatment to see where it ultimately heads. The initial income, $Y_0$ is simply equal to $G$, the initial government spend. On this income, $\\theta G$ tax is paid and $(1-\\theta)G$ remains as disposable income. In this case, however, the amount spent in consumption is a further fraction, $\\alpha$, of this disposable income. Therefore we can state the income from the second round of spending as:\n",
      "\n",
      "$$Y_1 = \\alpha(1-\\theta)G$$\n",
      "\n",
      "But if this income, $Y_1$, is used to pay taxes, save and spend according to the rules we've specfied, then the next round of income can be described as:\n",
      "\n",
      "$$Y_2 = \\alpha(1-\\theta)\\alpha(1-\\theta)G $$\n",
      "\n",
      "or, more succinctly:\n",
      "\n",
      "$$Y_2 = (\\alpha(1-\\theta))^2G$$\n",
      "\n",
      "As before, we can generalise this to the *n*th spending rounds:\n",
      "\n",
      "$$Y_n = (\\alpha(1-\\theta))^nG \\hspace{1cm} (1)$$\n",
      "\n",
      "And if we add all of the spend rounds together we get another geometric series describing the total income which arise through the repeated cycle of spending:\n",
      "\n",
      "$$\\sum_{n=0}^{\\infty} Y_{n} = G + (\\alpha(1-\\theta))G + (\\alpha(1-\\theta))^2 G + ... + (\\alpha(1-\\theta))^2G $$\n",
      "\n",
      "This time with the common ratio of the geometric series is $\\alpha(1-\\theta)$. As before we can plug our common ratio into the general solution for the sum of a geometric series:\n",
      "\n",
      "$$\\sum_{n=0}^{m-1} Y_{n} = \\frac {1-a^m}{1 - a}G$$\n",
      "\n",
      "where $a$ is the generic common ratio, giving:\n",
      "\n",
      "$$\\sum_{n=0}^{m-1} Y_{n} = \\frac {1-(\\alpha(1-\\theta))^m}{1-\\alpha(1-\\theta)}G \\hspace{1cm} (2)$$\n",
      "\n",
      "Not quite as neat and tidy as before but we do have a more complicated scenario so fair enough. Let's plot out equations 1 and 2, the individual spending round incomes and the cumulative income across spending rounds:"
     ]
    },
    {
     "cell_type": "code",
     "collapsed": false,
     "input": [
      "import matplotlib.pyplot as plt\n",
      "import numpy as np\n",
      "%matplotlib inline \n",
      "\n",
      "G     = 100 # government spending\n",
      "theta = 0.2 # tax rate\n",
      "alpha = 0.9 # propensity to consume\n",
      "\n",
      "n_rounds = 30 # number of rounds we'll consider\n",
      "\n",
      "# create an array of numbers from 0-30, one for each spending round\n",
      "c = np.arange(0,n_rounds) \n",
      "\n",
      "# solve equation 1 for each individual round\n",
      "y_n = G*(alpha*(1-theta))**c\n",
      "\n",
      "# solve equation 2 for each individual round\n",
      "sum_y = G*(1-(alpha*(1-theta))**(c+1))/(1-alpha*(1-theta))\n",
      "\n",
      "# plot\n",
      "plt.bar(c,sum_y, color='r',label='cumulative income')\n",
      "plt.bar(c,y_n, label='spending round income')\n",
      "plt.grid()\n",
      "plt.legend(loc='center right')\n",
      "plt.xlabel('Spending round, n')\n",
      "plt.ylabel('Income')\n",
      "\n",
      "plt.tight_layout()\n",
      "plt.show()"
     ],
     "language": "python",
     "metadata": {},
     "outputs": [
      {
       "metadata": {},
       "output_type": "display_data",
       "png": "[encoded data removed]",
       "text": [
        "<matplotlib.figure.Figure at 0x7f05dddd9110>"
       ]
      }
     ],
     "prompt_number": 2
    },
    {
     "cell_type": "markdown",
     "metadata": {},
     "source": [
      "A similar type of pattern as before, except this time, instead of aggregate income converging to 500 pounds it converges to 357 pounds. This is because there are now two \"leakages\" of money out of circulation - taxation and saving - and so less money remains in the cycle of spending and re-spending which supports incomes.\n",
      "\n",
      "If we consider a sufficiently large number of spending rounds then the numerator in equation 2 converges to 1 (because $\\theta$ and $\\alpha$ are both between $0-1$) and we can write the total income more simply as function of the fiscal policy settings ($G, \\theta$) and the private sector spending propensity ($\\alpha$):\n",
      "\n",
      "$$Y = \\frac {G}{1-\\alpha(1-\\theta)} \\hspace{1cm} (3)$$\n",
      "\n",
      "And sure enough, if we evaluate that expression using the variables we defined earlier:"
     ]
    },
    {
     "cell_type": "code",
     "collapsed": false,
     "input": [
      "Y = G/(1-alpha*(1-theta))\n",
      "print(Y)"
     ],
     "language": "python",
     "metadata": {},
     "outputs": [
      {
       "output_type": "stream",
       "stream": "stdout",
       "text": [
        "357.142857143\n"
       ]
      }
     ],
     "prompt_number": 61
    },
    {
     "cell_type": "markdown",
     "metadata": {},
     "source": [
      "we get the value shown in the plot. And as before, we can shift $G$ over to identify the *fiscal multiplier* - the size of aggregate income *relative to the government spend*:\n",
      "\n",
      "$$\\frac {Y}{G} = \\frac {1}{1-\\alpha(1-\\theta)}$$\n",
      "\n",
      "In this case, the fiscal multiplier evaluates to:"
     ]
    },
    {
     "cell_type": "code",
     "collapsed": false,
     "input": [
      "print(1/(1-alpha*(1-theta)))"
     ],
     "language": "python",
     "metadata": {},
     "outputs": [
      {
       "output_type": "stream",
       "stream": "stdout",
       "text": [
        "3.57142857143\n"
       ]
      }
     ],
     "prompt_number": 53
    },
    {
     "cell_type": "markdown",
     "metadata": {},
     "source": [
      "The fiscal multiplier is smaller in this case ($3.57 \\lt 5$) because of the desire of the private sector to save. As shown in an earlier post, saving always brings about a reduction in income, all other things being equal."
     ]
    },
    {
     "cell_type": "markdown",
     "metadata": {},
     "source": [
      "\n",
      "\n",
      "Simple, so far. But the really interesting insight comes when we look at where those leakages have gone. On the one hand we have the tax collected by the government and on the other the money saved by the public. Let's look at the tax revenue ($T$) first. As we know:\n",
      "\n",
      "$$T = \\theta Y$$\n",
      "\n",
      "The tax paid is simply the total income multiplied by the tax rate. Equation 3 gives us the total income, so all we need to do is multiply this value by the tax rate, as in the equation above, to arrive at the final tax revenue of the government."
     ]
    },
    {
     "cell_type": "code",
     "collapsed": false,
     "input": [
      "T = theta * Y\n",
      "print(T)"
     ],
     "language": "python",
     "metadata": {},
     "outputs": [
      {
       "output_type": "stream",
       "stream": "stdout",
       "text": [
        "71.4285714286\n"
       ]
      }
     ],
     "prompt_number": 62
    },
    {
     "cell_type": "markdown",
     "metadata": {},
     "source": [
      "So the government has collected ~71 pounds in tax. If the drop in aggregate income was the first significant difference from the non-saving scenario described in the last post, then this is the second one. The government has collected less tax than before and has therefore *not* balanced it's budget. If we subtract the original government spend  from the tax revenue we can establish what the shortfall is:"
     ]
    },
    {
     "cell_type": "code",
     "collapsed": false,
     "input": [
      "print(T - G)"
     ],
     "language": "python",
     "metadata": {},
     "outputs": [
      {
       "output_type": "stream",
       "stream": "stdout",
       "text": [
        "-28.5714285714\n"
       ]
      }
     ],
     "prompt_number": 58
    },
    {
     "cell_type": "markdown",
     "metadata": {},
     "source": [
      "So the government now has a ~29 pound *budget deficit*. To understand why we need to look at the savings. We know that savings were made as a fraction, $1 - \\alpha$, of *disposable income*, which itself is a fraction, $1 - \\theta$, of gross income ($Y$). Therefore we can write the total accumulated savings, $S$, as a function of gross income:\n",
      "\n",
      "$$S = (1-\\alpha)(1-\\theta)Y$$\n",
      "\n",
      "This basically describes the fraction of income that is *not* taxed ($1-\\theta$) and then *not* spent ($1-\\alpha$). Now we can solve this equation using our calculated final income (equation 3) to determine the value of $S$:"
     ]
    },
    {
     "cell_type": "code",
     "collapsed": false,
     "input": [
      "S = (1-alpha) * (1-theta) * Y\n",
      "print(S)"
     ],
     "language": "python",
     "metadata": {},
     "outputs": [
      {
       "output_type": "stream",
       "stream": "stdout",
       "text": [
        "28.5714285714\n"
       ]
      }
     ],
     "prompt_number": 63
    },
    {
     "cell_type": "markdown",
     "metadata": {},
     "source": [
      "The public have managed 29 pounds in saving. Notice anything? It is exactly the amount of the government's budget deficit. Is that a coincidence? Definitely not.\n",
      "\n",
      "What is happening here is a fairly simple extension of the previous scenario when no saving occured. Previously the rate of spending gradually decreased as money was withrawn from circulation by taxation, and ultimately stopped when all the money had been withdrawn. Since taxation was the only leakage of money from circulation it was a logical inenvitability that the government would recoup all of its spending and balance its budget: taxation was the only game in town and spending simply delayed the inevitable. In this case, though, there are two leakages - taxation and savings. Both of these leakages work in tandem to draw down the circulating stock of money, and once it has been entirely withdrawn it is therefore split between the government's tax haul and the private sector's pot of savings. It is straighforward to the see that the amount which was *saved* out of circulation is the amount which was *not* able to be taxed. Hence, the government's budget shortfall is identically equal to the private sectors savings. This is a rather profound discovery which tells us something about why government budget deficits arise in general.\n",
      "\n",
      "So, in summary: the interaction of government spending, taxation, private consumption and private saving results in a cycle of spending which ultimately stops when all of the money has either been taxed or saved. This results in an overall aggregate income which is smaller than the case where no saving occurs. It also results in a government budget deficit which matches, to the penny, the savings of the private sector.\n"
     ]
    },
    {
     "cell_type": "markdown",
     "metadata": {},
     "source": [
      "\n",
      "\n"
     ]
    },
    {
     "cell_type": "markdown",
     "metadata": {},
     "source": [
      "## Keeping track of the accounting\n",
      "\n",
      "In looking at the fiscal multiplier we've considered successive and discrete rounds of spending. There are at least a few possible sources of confusion with this approach that are worth considering. \n",
      "\n",
      "For example, it is not clear how many rounds of spending we need to consider. The equations that we have developed allow us to consider *any number* of rounds. We even have equations that - mathematically, at least - represent an infinite number of spending rounds. So which is the most appropriate to utilise? On the face of it, this question depends on what time period we are considering. Surely more rounds of spending occur in one year than in, say, one day? Quite possibly, although it is still not clear how many rounds occur in either - how long does a spending round take anyway?\n",
      "\n",
      "More to the point though, it is dubious whether we should really be modelling a complex, modern economy on the basis of discrete successive spending exercises - is that really how money is spent en masse? The reality is that a modern economy doesn't work like that. It is far too complex and consists of thousands or millions of individual agents each with their own behaviour and spending habits. It is plausible that spending patterns do occur in an approximately discrete way following discrete, say monthly, income payments for many folk in the economy. But this is far too simplistic for describing all of the economic activity which occurs and which is more likely to reflect almost continuous flow of spending and income. \n",
      "\n",
      "The answer to these possible sources of confusion is that it doesn't really matter how many spending rounds occur and how and when. All we need to do is to define what time period we're interested in and we can make calculations work by understanding the accounting over that time period.\n",
      "\n",
      "Let's say we want to model weekly income. So, do we use some finite number of spending rounds in our calculations? Is there a number that is appropriate for one week? Or do we simply model it in its entirety\n",
      "\n",
      "\n",
      "\n"
     ]
    },
    {
     "cell_type": "code",
     "collapsed": false,
     "input": [
      "G = 1000000\n",
      "Y_n = 0.01\n",
      "alpha = 0.9\n",
      "theta = 0.2\n",
      "\n",
      "#Y_n = G*(alpha*(1-theta))**n\n",
      "#Y_n/G = (alpha*(1-theta))**n\n",
      "#log(Y_n/G) = n*log((alpha*(1-theta)))\n",
      "n = np.log10(Y_n/G) / np.log10((alpha*(1-theta)))\n",
      "\n",
      "n\n",
      "\n",
      "# typically les than 100 rounds even for 1m pound spend, so we never have to consider an infinite number of spends"
     ],
     "language": "python",
     "metadata": {},
     "outputs": []
    },
    {
     "cell_type": "markdown",
     "metadata": {},
     "source": [
      "Let's compare what happens when we trunctate the spending to, say, 5 rounds of spending. We'll assume the no-saving model for now. So we'll calculate the total, cumulative income through 5 rounds of spending ($Y_5$) using:\n",
      "\n",
      "$$Y_5 = \\sum_{n=0}^{4} Y_{n} = \\frac {1-(1-\\theta)^5}{\\theta}G $$\n",
      "\n",
      "Let's just evaludate that with some code:"
     ]
    },
    {
     "cell_type": "code",
     "collapsed": false,
     "input": [
      "G     = 100\n",
      "theta = 0.2\n",
      "\n",
      "Y_5 = G*(1-(1-theta)**5)/theta\n",
      "\n",
      "print(Y_5)"
     ],
     "language": "python",
     "metadata": {},
     "outputs": [
      {
       "output_type": "stream",
       "stream": "stdout",
       "text": [
        "336.16\n"
       ]
      }
     ],
     "prompt_number": 102
    },
    {
     "cell_type": "markdown",
     "metadata": {},
     "source": [
      "So we get a total of 336 pounds of income over 5 rounds of spending, including the initial government spend. We haven't yet, by considering only 5 rounds, achieved the total limit of 500 pounds of income which we expect with the non-saving scenario. But that makes sense as we've truncated the spending. Let's see how much tax has been paid by this stage:"
     ]
    },
    {
     "cell_type": "code",
     "collapsed": false,
     "input": [
      "T = theta*Y_5\n",
      "\n",
      "print(T)"
     ],
     "language": "python",
     "metadata": {},
     "outputs": [
      {
       "output_type": "stream",
       "stream": "stdout",
       "text": [
        "67.232\n"
       ]
      }
     ],
     "prompt_number": 103
    },
    {
     "cell_type": "markdown",
     "metadata": {},
     "source": [
      "Only 67 pounds have been collected in tax which means that the government has a deficit of 33 pounds (67-100). Now, if we inspect the income from *only* the last round of spending, that is the 5th round, then we can identify what is happening:"
     ]
    },
    {
     "cell_type": "code",
     "collapsed": false,
     "input": [
      "y_5 = G*(1-theta)**5\n",
      "\n",
      "print(y_5)"
     ],
     "language": "python",
     "metadata": {},
     "outputs": [
      {
       "output_type": "stream",
       "stream": "stdout",
       "text": [
        "32.768\n"
       ]
      }
     ],
     "prompt_number": 104
    },
    {
     "cell_type": "markdown",
     "metadata": {},
     "source": [
      "The final (5th) round of spending produced 33 pounds of income. If we choose to restrict our analysis to the 5 spending rounds, then from that vantage point we have left the private sector holding on to 33 pounds. Despite the fact that we defined our scenario as including no saving, when we check the accounting *for the period we're considering* (5 spending rounds) we see the private sector holding on to money and the government with an identically sized deficit. This scenario is actually equivalent to a scenario with some saving, and we can find out the value for $\\alpha$ that would be consistent with it.\n",
      "\n",
      "Remember that with private sector saving, aggregate income can be described as:\n",
      "\n",
      "$$Y = \\frac {G}{1-\\alpha(1-\\theta)}$$\n",
      "\n",
      "Rearranging this to solve for $\\alpha$ gives:\n",
      "\n",
      "$$\\alpha = \\Bigg (1 - \\frac {G}{Y} \\Bigg)\\frac {1}{1-\\theta}$$\n",
      "\n",
      "Now, substituting our value of 336 pounds for Y gives us the value of $\\alpha$ which is consistent with the truncated 5 spending round scenario:"
     ]
    },
    {
     "cell_type": "code",
     "collapsed": false,
     "input": [
      "alpha = (1 - G/Y_5)/(1-theta)\n",
      "\n",
      "print(alpha)"
     ],
     "language": "python",
     "metadata": {},
     "outputs": [
      {
       "output_type": "stream",
       "stream": "stdout",
       "text": [
        "0.878153260352\n"
       ]
      }
     ],
     "prompt_number": 110
    },
    {
     "cell_type": "markdown",
     "metadata": {},
     "source": [
      "So a spending propsentity of ~88% (saving, 12%) when propagated through many, many spending rounds (mathematically and infinite number) is equivalent to a 100% spending propensity truncated at 5 spending rounds. To check this we can plug in the value for $\\alpha$ into our general income, tax and saving equations: "
     ]
    },
    {
     "cell_type": "code",
     "collapsed": false,
     "input": [
      "Y = G/(1-alpha*(1-theta))\n",
      "T = theta*Y\n",
      "S = (1-alpha)*(1-theta)*Y\n",
      "\n",
      "print(Y)\n",
      "print(T)\n",
      "print(S)"
     ],
     "language": "python",
     "metadata": {},
     "outputs": [
      {
       "output_type": "stream",
       "stream": "stdout",
       "text": [
        "336.16\n",
        "67.232\n",
        "32.768\n"
       ]
      }
     ],
     "prompt_number": 112
    },
    {
     "cell_type": "markdown",
     "metadata": {},
     "source": [
      "And sure enough we get the same income, tax revenue and savings values. \n",
      "\n",
      "The point of this exercise is to show that we can disregard the idea of individual spending rounds. Any scenario with a finite number of spending rounds can be equivalently described on the basis of an infinite compounding of spending and incomes (i.e. through *all* spending rounds) by changing the value of $\\alpha$. The value of $\\alpha$ \n",
      "\n",
      "It is preferable to have the spending and saving propensities explicitly defined in our parameters than to have them emerging from our somewhat arbitrary choice to truncate the analysis, as in the scenario with 5 spending rounds. "
     ]
    },
    {
     "cell_type": "code",
     "collapsed": false,
     "input": [],
     "language": "python",
     "metadata": {},
     "outputs": []
    },
    {
     "cell_type": "markdown",
     "metadata": {},
     "source": [
      "## A more succinct approach\n",
      "Previously, we have considered a number of successive spending rounds and calculated the total, cumulative income as a geometric series. The derivation described above is very mechanistic. It considers each and every successive spending round individually, which is good for building an intuitive understanding of what is happening, but is quite long winded. So here we'll develop a more succinct and elegant approach which is more conducive to inclusion in more complex models.\n",
      "\n",
      "Recall that aggregate income represents the cumulative income of successive spending events via the circular flow of spending and incomes. Previously, we wrote this as:\n",
      "\n",
      "$$\\sum_{n=0}^{\\infty} Y_{n} = Y_0 + Y_1 + Y_2 + Y_3 + ... $$\n",
      "\n",
      "Now, we know that the initial income, $Y_0$ is due to government spending, $G$, and so we can rewrite this as:\n",
      "\n",
      "$$\\sum_{n=0}^{\\infty} Y_{n} = G + Y_1 + Y_2 + Y_3 + ... $$\n",
      "\n",
      "Now, all of the remaining $Y_n$ terms represent the income arising from private sector - i.e. non-government - spending. So total income is made up of two quite distinct forms of spending: government spending and private spending, the private spending being a more complicated phenomena in that it involves the circular flow of repeatedly spending incomes. \n",
      "\n",
      "We can call this private sector spending *consumption* and denote it as $C_n$, i.e. we have repeated rounds of *consumption* - as distinct from government spending $G$:\n",
      "\n",
      "$$\\sum_{n=0}^{\\infty} Y_{n} = G + C_1 + C_2 + C_3 + ... $$\n",
      "\n",
      "and writing this more succinctly, we can combine the consumption terms:\n",
      "\n",
      "$$\\sum_{n=0}^{\\infty} Y_{n} = G + \\sum_{n=1}^{\\infty} C_n $$\n",
      "\n",
      "This equation simply states that total income is equal to government spending plus the cumulative total of subsequent private consumption spending. The term $\\sum C_n$ is called *final consumption* which attests to the fact that it represents the compounding of spending and incomes through a repeated, circular process, as opposed to the flow of a single spending event.\n",
      "\n",
      "Being even more neat and tidy we can drop the $\\sum$ notation and simply write:\n",
      "\n",
      "$$Y = G + C \\hspace{1cm} (1)$$\n",
      "\n",
      "where $Y$ is understood to represent total aggregate income and $C$ is understood to represent *final consumption*, i.e.:\n",
      "\n",
      "$$C = \\sum_{n=1}^{\\infty} C_n $$\n",
      "\n",
      "This is now closer to the income equation that is more commonly used in models of the economy. But it looks too simple doesn't it? How can it possibly include the compounding effects of consumption spending cycle that we understood via geometric series? The answer is that we simply need to combine it with one other equation that describes the spending behaviour of the private sector. Let's, for now, go for the non-saving behaviour:\n",
      "\n",
      "$$C = (1-\\theta)Y \\hspace{1cm} (2a)$$\n",
      "\n",
      "So we've defined final consumption as being equal to aggregate income after tax, that is all disposable income is spent with nothing saved. We now ahve two equations that describe our economy. Notice that there are *no* subscripts in these equations. They do not describe individual spending rounds. And they do not relate spending in one time period to income in an earlier one - they are *not* difference equations. Rather these are a pair of coupled equations, both referring to $C$ and $Y$ and therefore implying exact solutions for each. \n",
      "\n",
      "If we substitute $(2)$ in to $(1)$:\n",
      "\n",
      "$$Y = G + (1-\\theta)Y$$\n",
      "\n",
      "And solving for $Y$ gives:\n",
      "\n",
      "$$Y = \\frac {G}{(1 - (1-\\theta))}$$\n",
      "\n",
      "which simplifies to:\n",
      "\n",
      "$$Y = \\frac {G}{\\theta}$$\n",
      "\n",
      "This is same result we obtained using the geometric series approach: the values of $C$ and $Y$ which simultaneously satisfy equations 1 and 2 are the same as those that we rather mechanistically derived earlier when considering the sequence of repeated spending and taxation cycles that occurs following government spending. \n",
      "\n",
      "If we want to include saving then we simply define the appropriate consumption function:\n",
      "\n",
      "$$C = \\alpha(1-\\theta)Y \\hspace{1cm} (2b)$$\n",
      "\n",
      "and again, substituting $C$ into equation 1:\n",
      "\n",
      "$$Y = G + \\alpha(1-\\theta)Y$$\n",
      "\n",
      "and solving for $Y$:\n",
      "\n",
      "$$Y = \\frac {G}{1 - \\alpha(1-\\theta)}$$\n",
      "\n",
      "Again, the same as we derived using the geometric series approach. When viewed separately, equations 1 and 2a/2b seem to state some rather trivial things about how spending relates to income. But taken together as a *system* of coupled equations they describe the full effects of the fiscal multiplier: the compounding of incomes and tax revenue through repeated but diminishing cycles of consumption spending. This is much more succinct and elegant than dealing with the geometric series equations, although geometric series apparoch perhaps does describe what's going on more intuitively.\n",
      "\n",
      "When compared with the geometric series approach, the coupled equations approach that we've derived here is mathematically equaivalent to an infinte number of spending rounds. Is this a fair description of what occurs in reality?  "
     ]
    },
    {
     "cell_type": "code",
     "collapsed": false,
     "input": [],
     "language": "python",
     "metadata": {},
     "outputs": []
    },
    {
     "cell_type": "code",
     "collapsed": false,
     "input": [],
     "language": "python",
     "metadata": {},
     "outputs": []
    },
    {
     "cell_type": "markdown",
     "metadata": {},
     "source": [
      "his means that the stock of circulating money is gradually decreased through taxation in a process which is in some sense analogous to the [paradox of thrift]() but does have some important contextual differences. \n",
      "\n",
      "\n",
      "FINAL CONSUMPTION\n",
      "\n",
      "\n",
      "multiple rounds of spending\n",
      "\n",
      "\n",
      "tax reduces money in circulation\n",
      "\n",
      "government has received entire original spend back as taxes\n",
      "but produced multiplied incomes\n",
      "\n",
      "geometric series\n",
      "\n",
      "with saving\n",
      "\n",
      "now two removals of money\n",
      "\n",
      "compounding stops when no money left\n",
      "\n",
      "saving is equal to tax not collected - i.e. government deficit\n",
      "\n",
      "with saving and spending out of income\n",
      "\n",
      "same steady state bt takes longer\n",
      "\n",
      "How long does compounding take? Does it matter?\n",
      "\n",
      "Even if finite number of spending rounds occurs, the accounting can be made consistent by simply defining the remaining money (last round of income) as savings at the end of the accounting period, in which case it matches (together with the intentional savings) the untaxed money and the government deficit. We've really just redefined the propensity to save. Or, in other words, the propensity to save is relative to the accounting period. The modigliani consumption function presumably helps to smooth this over.\n",
      "\n",
      "Similarity with paradox of thrift\n",
      "    leakage of money on successive spending rounds\n",
      "    difference is considering cumulative income before money disappears\n",
      "    difference is considering only single cohort of government spending. Government can repeatedly spend!\n",
      "    Nice segway into savings version\n",
      "    \n",
      "    \n",
      "Simultaneous equation form"
     ]
    },
    {
     "cell_type": "code",
     "collapsed": false,
     "input": [
      "import matplotlib.pyplot as plt\n",
      "import numpy as np\n",
      "%matplotlib inline \n",
      "\n",
      "G = 100\n",
      "theta = 0.2\n",
      "\n",
      "c = np.arange(0,30)\n",
      "y = G*(1-theta)**c\n",
      "y_sum = G*(1-(1-theta)**c)/(1-(1-theta))\n",
      "\n",
      "t = G*(theta)*(1-theta)**c\n",
      "t_sum = y_sum*theta\n",
      "\n",
      "#plt.plot(c,y)\n",
      "#plt.plot(c,t)\n",
      "plt.plot(c,y_sum,'r')\n",
      "#plt.plot(c,t_sum)\n",
      "plt.grid()\n",
      "#t\n",
      "#np.sum(t)\n",
      "\n",
      "plt.bar(c,y)"
     ],
     "language": "python",
     "metadata": {},
     "outputs": [
      {
       "metadata": {},
       "output_type": "pyout",
       "prompt_number": 10,
       "text": [
        "<Container object of 30 artists>"
       ]
      },
      {
       "metadata": {},
       "output_type": "display_data",
       "png": "[encoded data removed]",
       "text": [
        "<matplotlib.figure.Figure at 0x7fd46798fb50>"
       ]
      }
     ],
     "prompt_number": 10
    },
    {
     "cell_type": "code",
     "collapsed": false,
     "input": [
      "y[0:20]\n"
     ],
     "language": "python",
     "metadata": {},
     "outputs": [
      {
       "metadata": {},
       "output_type": "pyout",
       "prompt_number": 40,
       "text": [
        "array([ 100.        ,   80.        ,   64.        ,   51.2       ,\n",
        "         40.96      ,   32.768     ,   26.2144    ,   20.97152   ,\n",
        "         16.777216  ,   13.4217728 ,   10.73741824,    8.58993459,\n",
        "          6.87194767,    5.49755814,    4.39804651,    3.51843721,\n",
        "          2.81474977,    2.25179981,    1.80143985,    1.44115188])"
       ]
      }
     ],
     "prompt_number": 40
    },
    {
     "cell_type": "code",
     "collapsed": false,
     "input": [
      "t_sum[0:20]"
     ],
     "language": "python",
     "metadata": {},
     "outputs": [
      {
       "metadata": {},
       "output_type": "pyout",
       "prompt_number": 38,
       "text": [
        "array([  0.        ,  20.        ,  36.        ,  48.8       ,\n",
        "        59.04      ,  67.232     ,  73.7856    ,  79.02848   ,\n",
        "        83.222784  ,  86.5782272 ,  89.26258176,  91.41006541,\n",
        "        93.12805233,  94.50244186,  95.60195349,  96.48156279,\n",
        "        97.18525023,  97.74820019,  98.19856015,  98.55884812])"
       ]
      }
     ],
     "prompt_number": 38
    },
    {
     "cell_type": "code",
     "collapsed": false,
     "input": [
      "1/240.0"
     ],
     "language": "python",
     "metadata": {},
     "outputs": [
      {
       "metadata": {},
       "output_type": "pyout",
       "prompt_number": 7,
       "text": [
        "0.004166666666666667"
       ]
      }
     ],
     "prompt_number": 7
    },
    {
     "cell_type": "markdown",
     "metadata": {},
     "source": [
      "$$G = 100$$\n",
      "\n",
      "Provate sector income is 100:\n",
      "\n",
      "$$Y = 100$$\n",
      "\n",
      "Private sector pays 20% tax:\n",
      "\n",
      "$$T = \\theta Y = 0.2 * 100 = 20$$\n",
      "\n",
      "|cycle|spending|income|tax|disposable income|\n",
      "|---|---|---|---|---|---|\n",
      "|0|100 (government)|100|20|80||\n",
      "|1|80|80|16|66||\n",
      "|2|66|66|13|53||\n",
      "|3|53|53|10|43||\n",
      "|4|43|43|8.6|34.4||\n",
      "|5|34.4|34.4|6.88|27.52||\n",
      "|6||||||\n",
      "|7||||||\n",
      "|||||||\n",
      "|||||||\n",
      "\n",
      "$$Y = G + (1-\\theta)G + (1-\\theta)(1-\\theta)G + (1-\\theta)(1-\\theta)(1-\\theta)G ...$$\n",
      "$$Y = G + (1-\\theta)G + (1-\\theta)^2 G + (1-\\theta)^3 G ... \\hspace{1cm} (1) $$\n",
      "\n",
      "which is a geometric series that converges to:\n",
      "\n",
      "$$Y = \\frac {G}{1-(1-\\theta)}$$\n",
      "\n",
      "$$Y = \\frac {G}{1-1+\\theta}$$\n",
      "\n",
      "$$Y = \\frac {G}{\\theta}$$\n",
      "\n",
      "The method is to multiply equation (1) by $r = (1-\\theta)$\n",
      "\n",
      "$$(1-\\theta)Y = (1-\\theta)G + (1-\\theta)^2 G + (1-\\theta)^3 G + (1-\\theta)^4 G... \\hspace{1cm} (2)$$\n",
      "\n",
      "in which the right-hand side is the same as before with the omission of the leading $G$. Now subtract (2) from (1):\n",
      "\n",
      "$$Y - (1-\\theta)Y = G$$\n",
      "\n",
      "rearranging:\n",
      "\n",
      "$$Y(1 - (1-\\theta)) = G$$\n",
      "\n",
      "and\n",
      "\n",
      "$$Y = \\frac {G}{\\theta}$$\n",
      "\n",
      "\n"
     ]
    },
    {
     "cell_type": "markdown",
     "metadata": {},
     "source": [
      "## With saving...\n",
      "### Substitution approach\n",
      "\n",
      "$$Y = C + G \\hspace{1cm} (1)$$\n",
      "$$C = \\alpha Y(1 - \\theta) \\hspace{1cm} (2)$$\n",
      "\n",
      "Substitute (2) in (1):\n",
      "\n",
      "$$Y = \\alpha Y(1 - \\theta) + G $$\n",
      "$$Y - \\alpha Y(1 - \\theta) = G $$\n",
      "$$Y(1 - \\alpha(1 - \\theta)) = G $$\n",
      "$$Y = \\frac {G}{1 - \\alpha(1 - \\theta)} $$\n",
      "\n",
      "###Geometric series approach...\n",
      "\n",
      "$$Y = G + \\alpha(1-\\theta)G + (\\alpha(1-\\theta))(\\alpha(1-\\theta))G + (\\alpha(1-\\theta))(\\alpha(1-\\theta))(\\alpha(1-\\theta))G... \\hspace{1cm}$$\n",
      "$$Y = G + \\alpha(1-\\theta)G + (\\alpha(1-\\theta))^2G + (\\alpha(1-\\theta))^3G... \\hspace{1cm} (1)$$\n",
      "\n",
      "Manipulate as above: multiply by $r = (\\alpha(1-\\theta))$ and subtract from (1):\n",
      "\n",
      "$$Y - (\\alpha(1-\\theta))Y = G$$\n",
      "$$Y(1 - \\alpha(1-\\theta)) = G$$\n",
      "$$Y = \\frac {G}{1 - \\alpha(1-\\theta)}$$\n"
     ]
    },
    {
     "cell_type": "markdown",
     "metadata": {},
     "source": [
      "## With spending out of saving stock\n",
      "### Substitution approach\n",
      "\n",
      "$$Y = C + G \\hspace{1cm} (1)$$\n",
      "$$C = \\alpha_1 Y(1 - \\theta) + \\alpha_2 H_{t-1}\\hspace{1cm} (2)$$\n",
      "\n",
      "Substitute (2) in (1):\n",
      "\n",
      "$$Y = \\alpha_1 Y(1 - \\theta) + \\alpha_2 H_{t-1} + G $$\n",
      "$$Y - \\alpha_1 Y(1 - \\theta) = G + \\alpha_2 H_{t-1}$$\n",
      "$$Y(1 - \\alpha_1(1 - \\theta)) = G + \\alpha_2 H_{t-1}$$\n",
      "$$Y = \\frac {G + \\alpha_2 H_{t-1}}{1 - \\alpha_1(1 - \\theta)} $$\n",
      "\n",
      "###Geometric series approach...\n",
      "Consider autonomous spending to be $S_A = G + \\alpha_2 H_{t-1}$\n",
      "\n",
      "$$Y = S_A + \\alpha(1-\\theta)S_A + (\\alpha(1-\\theta))(\\alpha(1-\\theta))S_A + (\\alpha(1-\\theta))(\\alpha(1-\\theta))(\\alpha(1-\\theta))S_A... \\hspace{1cm}$$\n",
      "$$Y = S_A + \\alpha(1-\\theta)S_A + (\\alpha(1-\\theta))^2S_A + (\\alpha(1-\\theta))^3S_A... \\hspace{1cm} (1)$$\n",
      "\n",
      "Manipulate as above: multiply by $r = (\\alpha(1-\\theta))$ and subtract from (1):\n",
      "\n",
      "$$Y - (\\alpha(1-\\theta))Y = S_A$$\n",
      "$$Y(1 - \\alpha(1-\\theta)) = S_A$$\n",
      "$$Y = \\frac {S_A}{1 - \\alpha(1-\\theta)}$$\n",
      "$$Y = \\frac {G + \\alpha_2 H_{t-1}}{1 - \\alpha(1-\\theta)}$$\n",
      "\n",
      "So the substitution result is equivalent to considering the spending out of saving stock to be part of the intial autonomous spend along with government spending."
     ]
    },
    {
     "cell_type": "code",
     "collapsed": false,
     "input": [],
     "language": "python",
     "metadata": {},
     "outputs": []
    }
   ],
   "metadata": {}
  }
 ]
}