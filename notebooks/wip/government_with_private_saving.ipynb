{
 "metadata": {
  "name": ""
 },
 "nbformat": 3,
 "nbformat_minor": 0,
 "worksheets": [
  {
   "cells": [
    {
     "cell_type": "code",
     "collapsed": false,
     "input": [
      "import matplotlib.pyplot as plt\n",
      "import numpy as np\n",
      "%matplotlib inline  \n",
      "\n",
      "N = 100\n",
      "\n",
      "G     = 20\n",
      "theta = 0.2\n",
      "alpha = 0.95\n",
      "\n",
      "C   = np.zeros(N) # consumption\n",
      "Y   = np.zeros(N) # income\n",
      "Y_d = np.zeros(N) # disposable income\n",
      "T   = np.zeros(N) # tax revenue\n",
      "H_h = np.zeros(N) # private savings\n",
      "H_g = np.zeros(N) # government debt\n",
      "\n",
      "for t in range(0, N):\n",
      "    \n",
      "    # calculate consumer spending\n",
      "    C[t]   = alpha*Y_d[t-1] \n",
      "    \n",
      "    # calculate total income (consumer spending plus constant government spending)\n",
      "    Y[t]   = G + C[t] \n",
      "    \n",
      "    # calculate the tax take\n",
      "    T[t] = theta * Y[t]\n",
      "    \n",
      "    # calculate disposable income\n",
      "    Y_d[t] = Y[t] - T[t]\n",
      "    \n",
      "    # calculate the change in private savings\n",
      "    H_h[t] = H_h[t-1] + (1-alpha)*Y_d[t-1] \n",
      "    \n",
      "    # calculate the change in government debt\n",
      "    H_g[t] = H_g[t-1] + T[t]- G\n",
      "   "
     ],
     "language": "python",
     "metadata": {},
     "outputs": [],
     "prompt_number": 11
    },
    {
     "cell_type": "code",
     "collapsed": false,
     "input": [
      "import matplotlib.pyplot as plt\n",
      "import numpy as np\n",
      "%matplotlib inline  \n",
      "\n",
      "N = 200\n",
      "\n",
      "alpha = 0.95\n",
      "\n",
      "C   = np.zeros(N) # consumption\n",
      "Y   = np.zeros(N) # income\n",
      "Y_d = np.zeros(N) # disposable income\n",
      "T   = np.zeros(N) # tax revenue\n",
      "H_h = np.zeros(N) # private savings\n",
      "H_g = np.zeros(N) # government debt\n",
      "\n",
      "G   = np.zeros(N)\n",
      "theta   = np.zeros(N)\n",
      "\n",
      "G[0:75] = 20\n",
      "G[75:]  = 20\n",
      "\n",
      "theta[0:75] = 0.2\n",
      "theta[75:]  = 0.2\n",
      "\n",
      "for t in range(0, N):\n",
      "    \n",
      "    # calculate consumer spending\n",
      "    C[t]   = alpha*Y_d[t-1] \n",
      "    \n",
      "    # calculate total income (consumer spending plus constant government spending)\n",
      "    Y[t]   = G[t] + C[t] \n",
      "    \n",
      "    # calculate the tax take\n",
      "    T[t] = theta[t] * Y[t]\n",
      "    \n",
      "    # calculate disposable income\n",
      "    Y_d[t] = Y[t] - T[t]\n",
      "    \n",
      "    # calculate the change in private savings\n",
      "    H_h[t] = H_h[t-1] + (1-alpha)*Y_d[t-1] \n",
      "    \n",
      "    # calculate the change in government debt\n",
      "    H_g[t] = H_g[t-1] + T[t]- G[t]\n",
      "   "
     ],
     "language": "python",
     "metadata": {},
     "outputs": [],
     "prompt_number": 13
    },
    {
     "cell_type": "code",
     "collapsed": false,
     "input": [
      "fig = plt.figure(figsize=(12, 8))\n",
      "\n",
      "consumption_plot = fig.add_subplot(241, xlim=(0, N), ylim=(0, np.max(Y)))\n",
      "consumption_plot.plot(range(N), C, lw=3)\n",
      "consumption_plot.grid()\n",
      "# label axes\n",
      "plt.xlabel('time')\n",
      "plt.ylabel('consumption')\n",
      "\n",
      "gov_plot = fig.add_subplot(242, xlim=(0, N), ylim=(0, np.max(Y)))\n",
      "gov_plot.plot(range(N), G, lw=3)\n",
      "gov_plot.grid()\n",
      "# label axes\n",
      "plt.xlabel('time')\n",
      "plt.ylabel('government spending')\n",
      "\n",
      "income_plot = fig.add_subplot(243, xlim=(0, N), ylim=(0, np.max(Y)))\n",
      "income_plot.plot(range(N), Y, lw=3)\n",
      "income_plot.grid()\n",
      "# label axes\n",
      "plt.xlabel('time')\n",
      "plt.ylabel('income')\n",
      "\n",
      "savings_plot = fig.add_subplot(244, xlim=(0, N), ylim=(0, np.max(H_h)))\n",
      "savings_plot.plot(range(N), H_h, lw=3)\n",
      "savings_plot.grid()\n",
      "# label axes\n",
      "plt.xlabel('time')\n",
      "plt.ylabel('private savings')\n",
      "\n",
      "gov_plot = fig.add_subplot(245, xlim=(0, N), ylim=(0, np.max(G)*1.5))\n",
      "gov_plot.plot(range(N), G, lw=3)\n",
      "gov_plot.grid()\n",
      "# label axes\n",
      "plt.xlabel('time')\n",
      "plt.ylabel('government spending')\n",
      "\n",
      "tax_plot = fig.add_subplot(246, xlim=(0, N), ylim=(0, np.max(G)*1.5))\n",
      "tax_plot.plot(range(N), T, lw=3)\n",
      "tax_plot.grid()\n",
      "# label axes\n",
      "plt.xlabel('time')\n",
      "plt.ylabel('tax revenue')\n",
      "\n",
      "deficit_plot = fig.add_subplot(247, xlim=(0, N), ylim=(np.min(T-G)*1.5,0))\n",
      "deficit_plot.plot(range(N), T-G, lw=3)\n",
      "deficit_plot.grid()\n",
      "# label axes\n",
      "plt.xlabel('time')\n",
      "plt.ylabel('government budget')\n",
      "\n",
      "debt_plot = fig.add_subplot(248, xlim=(0, N), ylim=(np.min(H_g)*1.5,0))\n",
      "debt_plot.plot(range(N), H_g, lw=3)\n",
      "debt_plot.grid()\n",
      "# label axes\n",
      "plt.xlabel('time')\n",
      "plt.ylabel('government debt')\n",
      "\n",
      "# space subplots neatly\n",
      "plt.tight_layout()"
     ],
     "language": "python",
     "metadata": {},
     "outputs": [
      {
       "metadata": {},
       "output_type": "display_data",
       "png": "[encoded data removed]",
       "text": [
        "<matplotlib.figure.Figure at 0x7fc549aa27d0>"
       ]
      }
     ],
     "prompt_number": 14
    },
    {
     "cell_type": "code",
     "collapsed": false,
     "input": [
      "H_g[-1]+H_h[-1]"
     ],
     "language": "python",
     "metadata": {},
     "outputs": [
      {
       "metadata": {},
       "output_type": "pyout",
       "prompt_number": 17,
       "text": [
        "-66.666666666668334"
       ]
      }
     ],
     "prompt_number": 17
    },
    {
     "cell_type": "code",
     "collapsed": false,
     "input": [
      "G-T[-1]\n"
     ],
     "language": "python",
     "metadata": {},
     "outputs": [
      {
       "metadata": {},
       "output_type": "pyout",
       "prompt_number": 5,
       "text": [
        "3.333333333353437"
       ]
      }
     ],
     "prompt_number": 5
    },
    {
     "cell_type": "code",
     "collapsed": false,
     "input": [
      "C[-1]"
     ],
     "language": "python",
     "metadata": {},
     "outputs": [
      {
       "metadata": {},
       "output_type": "pyout",
       "prompt_number": 18,
       "text": [
        "63.333333333333265"
       ]
      }
     ],
     "prompt_number": 18
    },
    {
     "cell_type": "markdown",
     "metadata": {},
     "source": [
      "\n",
      "$$\n",
      "\\begin{array}{lcl}\n",
      "Y^* = C^* + G \\hspace{1cm} & (6) \\\\\n",
      "T^* = \\theta Y^* \\hspace{1cm} & (7) \\\\\n",
      "Y_{d}^* = Y^* - T^* \\hspace{1cm} & (8) \\\\\n",
      "C^* = \\alpha Y_{d}^* \\hspace{1cm} & (9) \\\\\n",
      "\\end{array}\n",
      "$$\n",
      "      \n",
      "By substituting equation 7 into equation 8 we get:\n",
      "\n",
      "$$Y_{d}^* = Y^* - \\theta Y^*$$\n",
      "\n",
      "which we can then substitue into equation 9:\n",
      "\n",
      "$$C^* = \\alpha (Y^* - \\theta Y^*)$$\n",
      "\n",
      "and then back into equation 6:\n",
      "\n",
      "$$Y^* = \\alpha Y^* (1 - \\theta) + G$$\n",
      "\n",
      "Rearranging this gives:\n",
      "\n",
      "$$Y^* - \\alpha Y^* (1 - \\theta) = G$$\n",
      "$$Y^* - \\alpha Y^*  + \\alpha Y^* \\theta = G$$\n",
      "$$Y^* (1 - \\alpha + \\alpha \\theta) = G$$\n",
      "\n",
      "Rearranging this gives:\n",
      "$$1 = \\alpha (1 - \\theta) + G/Y^*$$\n",
      "$$1 - \\alpha (1 - \\theta) =  G/Y^*$$\n",
      "\n",
      "$$Y^* (1 - \\alpha (1 - \\theta)) = G$$\n",
      "\n",
      "$$ Y^* = \\frac {G}{(1 - \\alpha + \\alpha \\theta)} \\hspace{1cm} (10)$$\n",
      "\n",
      "$$ \\frac {Y^*}{G} = \\frac {1}{(1 - \\alpha + \\alpha \\theta)} \\hspace{1cm} (11)$$\n"
     ]
    },
    {
     "cell_type": "code",
     "collapsed": false,
     "input": [
      "1/(1- alpha*(1 - theta))"
     ],
     "language": "python",
     "metadata": {},
     "outputs": [
      {
       "metadata": {},
       "output_type": "pyout",
       "prompt_number": 7,
       "text": [
        "4.166666666666667"
       ]
      }
     ],
     "prompt_number": 7
    },
    {
     "cell_type": "code",
     "collapsed": false,
     "input": [
      "Y[-1]/G"
     ],
     "language": "python",
     "metadata": {},
     "outputs": [
      {
       "metadata": {},
       "output_type": "pyout",
       "prompt_number": 8,
       "text": [
        "4.1666666666616408"
       ]
      }
     ],
     "prompt_number": 8
    },
    {
     "cell_type": "code",
     "collapsed": false,
     "input": [
      "alpha"
     ],
     "language": "python",
     "metadata": {},
     "outputs": [
      {
       "metadata": {},
       "output_type": "pyout",
       "prompt_number": 9,
       "text": [
        "0.95"
       ]
      }
     ],
     "prompt_number": 9
    },
    {
     "cell_type": "code",
     "collapsed": false,
     "input": [
      "G*(alpha*(1-theta)-1)"
     ],
     "language": "python",
     "metadata": {},
     "outputs": [
      {
       "metadata": {},
       "output_type": "pyout",
       "prompt_number": 10,
       "text": [
        "-4.8"
       ]
      }
     ],
     "prompt_number": 10
    },
    {
     "cell_type": "markdown",
     "metadata": {},
     "source": [
      "We can solve this for either G or $\\theta$\n",
      "\n",
      "G in terms of nominal GDP and savings and taxation\n",
      "$$ G = Y^* (1 - \\alpha + \\alpha \\theta) \\hspace 1 cm (12)$$\n",
      "\n",
      "G relative to Y\n",
      "$$ \\frac {G}{Y^*} = 1 - \\alpha + \\alpha \\theta \\hspace 1 cm (13)$$\n",
      "\n",
      "Tax rate in terms of nominal GDP\n",
      "$$ \\theta = \\frac {G}{\\alpha Y^*} - \\Big (\\frac {1}{\\alpha} - 1 \\Big ) \\hspace 1 cm (14)$$\n",
      "\n",
      "so ratio of government spend to consumption minus an adjustment factor related to savings\n"
     ]
    },
    {
     "cell_type": "code",
     "collapsed": false,
     "input": [
      "G/(alpha*Y[-1]) - (1/alpha - 1)"
     ],
     "language": "python",
     "metadata": {},
     "outputs": [
      {
       "metadata": {},
       "output_type": "pyout",
       "prompt_number": 12,
       "text": [
        "0.20000000000030477"
       ]
      }
     ],
     "prompt_number": 12
    },
    {
     "cell_type": "code",
     "collapsed": false,
     "input": [
      "-1/alpha + 1"
     ],
     "language": "python",
     "metadata": {},
     "outputs": [
      {
       "metadata": {},
       "output_type": "pyout",
       "prompt_number": 114,
       "text": [
        "-0.05263157894736836"
       ]
      }
     ],
     "prompt_number": 114
    },
    {
     "cell_type": "markdown",
     "metadata": {},
     "source": [
      "$$\n",
      "\\begin{array}{lcl}\n",
      "Y^* = C^* + G \\hspace{1cm} & (6) \\\\\n",
      "T^* = \\theta Y^* \\hspace{1cm} & (7) \\\\\n",
      "Y_{d}^* = Y^* - T^* \\hspace{1cm} & (8) \\\\\n",
      "C^* = \\alpha Y_{d}^* \\hspace{1cm} & (9) \\\\\n",
      "\\end{array}\n",
      "$$\n",
      "\n",
      "$$\\frac {T^* - G}{Y^*} =  \\theta - \\frac {G}{Y^*}$$\n",
      "\n",
      "$$\\frac {T^* - G}{Y^*} =  \\alpha + \\theta - \\alpha \\theta - 1$$\n",
      "\n",
      "$$T^* - G =  \\Big (\\frac {\\alpha + \\theta - \\alpha \\theta - 1}{1 - \\alpha + \\alpha \\theta} \\Big ) G$$\n",
      "$$T^* - G =  \\Big (\\frac {\\alpha - \\alpha \\theta + \\theta - 1}{- \\alpha + \\alpha \\theta + 1} \\Big ) G$$\n",
      "\n",
      "\n",
      "$$T^* - G =   \\Big ( \\frac {\\theta}{1 - \\alpha + \\alpha \\theta} - 1 \\Big ) G$$"
     ]
    },
    {
     "cell_type": "code",
     "collapsed": false,
     "input": [
      "alpha + theta - alpha*theta -1"
     ],
     "language": "python",
     "metadata": {},
     "outputs": [
      {
       "metadata": {},
       "output_type": "pyout",
       "prompt_number": 121,
       "text": [
        "-0.040000000000000036"
       ]
      }
     ],
     "prompt_number": 121
    },
    {
     "cell_type": "code",
     "collapsed": false,
     "input": [
      "(T[-1] - 20)/Y[-]"
     ],
     "language": "python",
     "metadata": {},
     "outputs": [
      {
       "metadata": {},
       "output_type": "pyout",
       "prompt_number": 29,
       "text": [
        "-0.040000000000289491"
       ]
      }
     ],
     "prompt_number": 29
    },
    {
     "cell_type": "code",
     "collapsed": false,
     "input": [
      "theta - G/Y[-1]"
     ],
     "language": "python",
     "metadata": {},
     "outputs": [
      {
       "metadata": {},
       "output_type": "pyout",
       "prompt_number": 25,
       "text": [
        "-0.040000000000289471"
       ]
      }
     ],
     "prompt_number": 25
    },
    {
     "cell_type": "code",
     "collapsed": false,
     "input": [],
     "language": "python",
     "metadata": {},
     "outputs": []
    }
   ],
   "metadata": {}
  }
 ]
}