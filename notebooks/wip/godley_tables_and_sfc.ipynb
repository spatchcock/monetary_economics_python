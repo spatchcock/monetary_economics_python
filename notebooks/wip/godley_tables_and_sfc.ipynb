{
 "metadata": {
  "name": ""
 },
 "nbformat": 3,
 "nbformat_minor": 0,
 "worksheets": [
  {
   "cells": [
    {
     "cell_type": "markdown",
     "metadata": {},
     "source": [
      "||households|business|government|balance|\n",
      "|---|---|---|---|---|\n",
      "|**flows**||||\n",
      "|Government spending||G|-G|0|\n",
      "|Payment of taxes|-T||T|0|\n",
      "|Income (wages)|Y|-Y||0|\n",
      "|Consumption spending|-C|C||0|\n",
      "|||||\n",
      "|**stocks**||||\n",
      "|Change in household wealth|$\\Delta H_h$|||\n",
      "|Change in government balance|||$\\Delta H_g$||\n",
      "|||||\n",
      "|**balance**|0|0|0|0|\n",
      "\n",
      "production equation\n",
      "\n",
      "$$G + C - Y = 0$$\n",
      "$$Y = G + C$$\n",
      "\n",
      "government budget equation\n",
      "\n",
      "$$T - G = \\Delta H_g$$\n",
      "\n",
      "household budget equation\n",
      "\n",
      "$$Y - T - C = \\Delta H_h$$\n",
      "\n",
      "Rearranging household budget equation\n",
      "\n",
      "$$Y = T + C + \\Delta H_h$$\n",
      "\n",
      "Equating $Y$'s\n",
      "\n",
      "$$G + C = T + C + \\Delta H_h$$\n",
      "\n",
      "Canceling $C$'s\n",
      "\n",
      "$$G = T + \\Delta H_h$$\n",
      "\n",
      "$$G - T=   \\Delta H_h$$\n",
      "\n",
      "$$-\\Delta H_g=   \\Delta H_h$$\n",
      "\n",
      "Government budget deficit equation to household savings\n"
     ]
    },
    {
     "cell_type": "code",
     "collapsed": false,
     "input": [],
     "language": "python",
     "metadata": {},
     "outputs": []
    }
   ],
   "metadata": {}
  }
 ]
}