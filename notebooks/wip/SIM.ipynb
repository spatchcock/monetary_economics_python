{
 "metadata": {
  "name": ""
 },
 "nbformat": 3,
 "nbformat_minor": 0,
 "worksheets": [
  {
   "cells": [
    {
     "cell_type": "markdown",
     "metadata": {},
     "source": [
      "$$Y = G + C \\hspace {1cm} (1)$$\n",
      "\n",
      "$$C = \\alpha_Y(1 - \\theta)Y + \\alpha_H H \\hspace {1cm} (2)$$\n",
      "\n",
      "$$H_{t} - H_{t-1} = \\Delta H = (1-\\theta)Y - C \\hspace {1cm} (3)$$\n",
      "\n",
      "\n",
      "\n",
      "$$Y - G = \\alpha_Y(1 - \\theta)Y + \\alpha_H H$$\n",
      "\n",
      "$$Y - \\alpha_Y(1 - \\theta)Y = G + \\alpha_H H$$\n",
      "\n",
      "$$Y(1 - \\alpha_Y(1 - \\theta)) = G + \\alpha_H H$$\n",
      "\n",
      "$$Y = \\frac {G + \\alpha_H H}{1 - \\alpha_Y(1 - \\theta)}$$\n"
     ]
    }
   ],
   "metadata": {}
  }
 ]
}