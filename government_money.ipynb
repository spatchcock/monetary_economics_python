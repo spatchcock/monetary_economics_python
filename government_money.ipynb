{
 "metadata": {
  "name": "",
  "signature": "sha256:945c8acaa7ddbc6b8c486ff1e471a469a3be962ac2fc6c55befe29cb05373401"
 },
 "nbformat": 3,
 "nbformat_minor": 0,
 "worksheets": [
  {
   "cells": [
    {
     "cell_type": "markdown",
     "metadata": {
      "slideshow": {
       "slide_type": "-"
      }
     },
     "source": [
      "In the previous models we postulated a fixed money supply. In this model we'll include a government sector which creates the money that is used in the economy. So this is our first model in which the amount of money in the economy is *dynamic* as opposed to fixed. And the first model to include government. We'll consider the basic ways in which a sovereign currency issuing government interacts with the private sector. We'll take a step back from the inclusion of private sector saving that has been a feature of some earlier models, and assume that our private sector has no saving intention. The reason for this is to make the model as simple as possible. This way, the implications of a government and government issued money can be isolated and identifed more easily. We'll consider how a saving economy interacts with its government later.\n",
      "\n",
      "So, in this model there is a government sector and a non-government (\"private\") sector. The government spends by creating money which is then available to circulate in the economy. The government also collects an *income tax*, that is, it taxes at a fixed rate relative to the income of the non-government sector. The non-government sector pays taxes, and engages in consumer spending using its after-tax, *disposable income*. That is all, mostly.\n",
      "\n",
      "This model also introduces the concept of government debt, which is simply the net quantity of money issued to the non-government sector. It might seem strange to call the money issued by the government \"debt\". And perhaps it is (?). In more complicated models it will hopefully become clear that what we ordinarily think of as \"the government debt\" is quite consistent with what is happening in this model (albeit simplified). There is another sense in which government issued money can be considered akin to a debt, though. Governments impose a legally enforcable tax burden on the private sector which can usually only be neutralised in the government's own sovereign currency. By issuing currency to the private sector, the government effectively becomes indebted to the private sector: each unit of currency represents a claim on tax forgiveness to the same amount which the government must honour. In this sense, government issued money can be considered a liability of the government, or, in other words, a debt. Enough of the digression. "
     ]
    },
    {
     "cell_type": "markdown",
     "metadata": {},
     "source": [
      "In this model we'll choose a level of government spending and a tax rate, and these will remain constant for the duration of the model. This type of variable (not really *variable* at all) is called an *exogenous* variable - it is defined outside of the model system and is not affected by the other variables or otherwise changed during the course of the model (unless *we* change it). We can rationalise this decision in our case by considering the values we choose as representing government (fiscal) policy. On the other hand, there are *endogenous* variables. These are variables that are explicitly calculated *by* the model and may change during the course of the model run according to the dynamics of the model. The values of these variables are therefore unknown at the outset, they are the things we want the model to find out for us.\n",
      "\n",
      "So what we need to model - our endogenous variables - are:\n",
      "\n",
      "* consumer spending\n",
      "* income \n",
      "* government taxation\n",
      "* disposable income\n",
      "* government debt\n",
      "\n",
      "5 unknowns, so we need 5 equations. We'll start by defining income in our economy. In contrast to previous models where income was simply identically equal to consumer spending, we now have an additional source of income for the private sector:\n",
      "\n",
      "$$Y = C + G \\hspace{1cm} (1)$$\n",
      "\n",
      "So at any given point in time, the total income of the economy is equal to the spending which arises from private citizens (and businesses) buying goods and services from one another ($C$), as well as sales of goods and services to the government ($G$). This income is taxed by the government at a rate $\\theta$, which is a decimal fraction between $0$ and $1$. So the tax take ($T$) at any given point in time is defined as:\n",
      "\n",
      "$$T = \\theta Y \\hspace{1cm} (2)$$\n",
      "\n",
      "The amount of income which is actually available for spending is the remainder after tax has been paid. This can be called *disposable income* ($Y_D$) and is defined as:\n",
      "\n",
      "$$Y_{D} = Y - T \\hspace{1cm} (3)$$\n",
      "\n",
      "Since we're assuming no saving in this model, our citizens simply spend all of their disposable income. As such, the consumption function for this economy is:\n",
      "\n",
      "$$C = Y_{d} \\hspace{1cm} (4)$$\n",
      "\n",
      "The last variable we need to calculcate is the government debt. For any given time period, the government debt changes by however much money the government is spending into existence *minus* however much it collects back in tax. The discernable will realise that this difference is called the *government budget deficit* (or surplus). In any case, we'll label the government debt $H_{g}$, and what we can formally say about it is that it *changes* in size according to the government's budget position: \n",
      "\n",
      "$$\\Delta H_{g} = G - T \\hspace{1cm} (5)$$\n",
      "\n",
      "Good. All 5 unknowns are accounted for by our 5 equations."
     ]
    },
    {
     "cell_type": "heading",
     "level": 2,
     "metadata": {},
     "source": [
      "A model in Python"
     ]
    },
    {
     "cell_type": "markdown",
     "metadata": {},
     "source": [
      "We're going to iterate through some number of time steps and solve our equations on each one, then see where these equations take our economy. First we need to discritize the equations so we can solve them incrementally. There are a few more things to calculate and keep track of on each time step compared with the previous models, so we need to consider in what order to solve each equation. We also need to think about what initial conditions this model requires.\n",
      "\n",
      "We'll follow the convention set in previous models whereby income is calculated concurrently with spending, i.e. in the same time step, but that that income is spent in the following time step. This reference across time steps is what drives the circulation of money through time in our model. We could do it the other way around - income based on spending in the *previous* time step, spending based on income in *this* time step - but this way sits well intuitively since spending literally (by accounting identity) *causes* an immediate, equivalent income to be earned in the economy. Income, on the other hand, doesn't itself *cause* spending but simply enables it to occur subsequently. In any case, and in contrast previous models, there are few extra calculations we need to make on each cycle of spending because it is now only the *disposable* income which gets carried forward to be spent. So, on each time step we need to first calculate comsumer spending based on the disposable income of the last time step. Once we've established the spending level we can assign the income for that time step, pay income tax, and determine the disposable income to be propagated into the next time step.\n",
      "\n",
      "So, the difference equation for consumer spending (equation 4) in this model looks like this:\n",
      "\n",
      "$$C_t = Y_{d, t-1}$$\n",
      "\n",
      "All of the variables in the discritized versions of equations 1-3 simply reference the current time step ($t$), so there's no need to write them all out explicitly here. The government debt equation (equation 5), on the other hand, is an adjustment equation - it tells us only the *change* in government debt at any given time. So to calculate the size of the government debt at any given time step we need to add the change to the existing quantity calculated in the previous time step: \n",
      "\n",
      "$$H_{g,t} = H_{g,t-1} + T_t - G$$\n",
      "\n",
      "Good. And what initial conditions do we need? Well, one of the major differences in this model, compared with previous ones, is that money is created in this model. This means that we don't have to specify a stock of money at the outset (which we implicitly did in earlier models by specifying the initial spend). Instead, we can start off with no money in the economy and allow our assumptions to get the economy going. So we'll start off with all variables ($Y$, $C$, $T$, $Y_d$, $H_g$) having initial values of zero. We really are starting from scratch.\n",
      "\n",
      "Okay, let's code it up... As before, we first import our libraries, and define the number of time steps we want."
     ]
    },
    {
     "cell_type": "code",
     "collapsed": false,
     "input": [
      "import matplotlib.pyplot as plt\n",
      "import numpy as np\n",
      "%matplotlib inline  \n",
      "\n",
      "N = 100"
     ],
     "language": "python",
     "metadata": {},
     "outputs": [],
     "prompt_number": 50
    },
    {
     "cell_type": "markdown",
     "metadata": {},
     "source": [
      "Next, we'll define the government's fiscal (taxing and spending) policy, that is the level of government spending ($G$) and the tax rate ($\\theta$). These values are arbitrary, we'll go for 20 pounds and 20% respectively."
     ]
    },
    {
     "cell_type": "code",
     "collapsed": false,
     "input": [
      "G = 20\n",
      "theta = 0.2"
     ],
     "language": "python",
     "metadata": {},
     "outputs": [],
     "prompt_number": 51
    },
    {
     "cell_type": "markdown",
     "metadata": {},
     "source": [
      "Now we need to establish some arrays to hold the values of our unknown variables as we solve the model at each time step. As before, we simply create arrays of length <code>N</code> initially populated by zeros. This conveniently sets the initial value of each of these variables - the value at $t=0$, the first value in each array - to zero, as they should be given that no activity has yet taken place. The subsequent values will be overwritten as we propagate our model."
     ]
    },
    {
     "cell_type": "code",
     "collapsed": false,
     "input": [
      "C   = np.zeros(N) # consumption\n",
      "Y   = np.zeros(N) # income\n",
      "Y_d = np.zeros(N) # disposable income\n",
      "T   = np.zeros(N) # tax revenue\n",
      "H_g = np.zeros(N) # government debt"
     ],
     "language": "python",
     "metadata": {},
     "outputs": [],
     "prompt_number": 52
    },
    {
     "cell_type": "markdown",
     "metadata": {},
     "source": [
      "Now were in a position to iterate through each time step and solve the equations, populating our arrays as we go. As before, since we have difference equations that reference the previous timestep, we cannot start at $t=0$ as there'd be no previous $Y_d$ value to use. So we start at $t=1$ and the zeros in the first cell (index = 0) of each of our variable arrays represent the starting state (the initial condition) of each."
     ]
    },
    {
     "cell_type": "code",
     "collapsed": false,
     "input": [
      "for t in range(1, N):\n",
      "    \n",
      "    # calculate consumer spending\n",
      "    C[t]   = Y_d[t-1] \n",
      "    \n",
      "    # calculate total income (consumer spending plus constant government spending)\n",
      "    Y[t]   = G + C[t] \n",
      "    \n",
      "    # calculate the tax take\n",
      "    T[t] = theta * Y[t]\n",
      "    \n",
      "    # calculate disposable income\n",
      "    Y_d[t] = Y[t] - T[t]\n",
      "    \n",
      "    # calculate the change in government debt\n",
      "    H_g[t] = H_g[t-1] + T[t]- G\n",
      "   "
     ],
     "language": "python",
     "metadata": {},
     "outputs": [],
     "prompt_number": 55
    },
    {
     "cell_type": "markdown",
     "metadata": {},
     "source": [
      "That's it! We've solved the entire history of our economy. Okay, there's a lot to keep track of. Let's make a few plots."
     ]
    },
    {
     "cell_type": "code",
     "collapsed": false,
     "input": [
      "\n",
      "fig = plt.figure()\n",
      "\n",
      "income_plot = fig.add_subplot(111, xlim=(0, N), ylim=(0, np.max(Y)*1.5))\n",
      "income_plot.plot(range(N), Y, lw=3)\n",
      "income_plot.plot(range(N), C, lw=3)\n",
      "income_plot.plot(range(N), np.repeat(G,N), lw=3)\n",
      "income_plot.grid()\n"
     ],
     "language": "python",
     "metadata": {},
     "outputs": [
      {
       "metadata": {},
       "output_type": "display_data",
       "png": "[encoded data removed]",
       "text": [
        "<matplotlib.figure.Figure at 0x7f70e586d9d0>"
       ]
      }
     ],
     "prompt_number": 61
    },
    {
     "cell_type": "markdown",
     "metadata": {},
     "source": [
      "Most of the variables in our economy undergo a significant change in the early phase, after which the economy settles down in to a steady-state phase. So something is causing the incomes in our economy to grow, and something is causing them to settle down at an equilibrium level. Let's try to figure out what happened.\n",
      "\n",
      "In the first time step there was no consumption because there was no previous spending or incomes. How could there be? There was no money to spend. But there was government spending of 20 pounds, and so the income of the economy was 20 pounds in total.  This income was immediately taxed to the tune of 4 pounds (20%) leaving 16 pounds of disposable income to carry over to the next time step. In the second time step this 16 pounds was spent and together with further government spending of 20 pounds became a total income of 36 pounds in our economy. This 36 pounds of income was taxed at 20% (7.20 pounds) leaving 28.80 as disposable income. In the next time step, the 28.80 pounds of disposable income left over from last time was spent providing a total income of 48.80 with the 20 pounds of government spending. 9.76 pounds of tax were paid on this income leaving 39.04 pounds of disposable income. And so on...\n",
      "\n",
      "|time step|consumption|government|income|tax take|disposable income|\n",
      "|:--------|----------:|---------:|-----:|--:|----------------:|\n",
      "|1|0.00|20.00|20.00|4.00|16.00|\n",
      "|2|16.00|20.00|36.00|7.20|28.80|\n",
      "|3|28.80|20.00|48.80|9.76|39.04|\n",
      "|4|39.04|20.00|59.04|11.81|47.23|\n",
      "|...|...|...|...|...|...|\n",
      "|100|80.00|20.00|100.00|20.00|80.00|\n",
      "\n",
      "Eventually,the economy settles down to a constant, steady-state income of 100 pounds per time step. This income is made up of a constant, steady-state consumption spend of 80 pounds per time step, in addition to the constant government spend of 20 pounds. So during the course of our model, consumption spending rose from 0 pounds to a stable 80 pounds. "
     ]
    },
    {
     "cell_type": "code",
     "collapsed": false,
     "input": [
      "\n",
      "fig = plt.figure()\n",
      "\n",
      "gov_plot = fig.add_subplot(111, xlim=(0, N), ylim=(0, np.max(G)*1.5))\n",
      "gov_plot.plot(range(N), G, lw=3)\n",
      "gov_plot.plot(range(N), T, lw=3)\n",
      "gov_plot.grid()\n"
     ],
     "language": "python",
     "metadata": {},
     "outputs": [
      {
       "metadata": {},
       "output_type": "display_data",
       "png": "[encoded data removed]",
       "text": [
        "<matplotlib.figure.Figure at 0x7f70e592aa90>"
       ]
      }
     ],
     "prompt_number": 35
    },
    {
     "cell_type": "code",
     "collapsed": false,
     "input": [
      "fig = plt.figure()\n",
      "\n",
      "cash_plot = fig.add_subplot(111, xlim=(0, N), ylim=(np.min(H_g)*1.5, np.max(H_h)*1.5))\n",
      "cash_plot.plot(range(N), H_g, lw=3)\n",
      "cash_plot.grid()"
     ],
     "language": "python",
     "metadata": {},
     "outputs": [
      {
       "metadata": {},
       "output_type": "display_data",
       "png": "[encoded data removed]",
       "text": [
        "<matplotlib.figure.Figure at 0x7f70e58ee350>"
       ]
      }
     ],
     "prompt_number": 62
    },
    {
     "cell_type": "code",
     "collapsed": false,
     "input": [
      "Multiplier - income greater than money stock"
     ],
     "language": "python",
     "metadata": {},
     "outputs": []
    },
    {
     "cell_type": "code",
     "collapsed": false,
     "input": [
      "Steady state"
     ],
     "language": "python",
     "metadata": {},
     "outputs": []
    },
    {
     "cell_type": "code",
     "collapsed": false,
     "input": [
      "income/wealth ratio"
     ],
     "language": "python",
     "metadata": {},
     "outputs": []
    },
    {
     "cell_type": "code",
     "collapsed": false,
     "input": [
      "government debt/income ratio"
     ],
     "language": "python",
     "metadata": {},
     "outputs": []
    },
    {
     "cell_type": "markdown",
     "metadata": {},
     "source": [
      "Major differences\n",
      "* government\n",
      "* taxation\n",
      "* money creation\n",
      "\n",
      " Without the initial kick of government spending to inject money into the economy there wouldn't be much going on would there? In fact, without the government spending money into existence, there'd be no money to pay taxes! Think about that for a minute."
     ]
    },
    {
     "cell_type": "code",
     "collapsed": false,
     "input": [],
     "language": "python",
     "metadata": {},
     "outputs": []
    }
   ],
   "metadata": {}
  }
 ]
}