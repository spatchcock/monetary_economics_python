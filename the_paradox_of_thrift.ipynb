{
 "metadata": {
  "name": ""
 },
 "nbformat": 3,
 "nbformat_minor": 0,
 "worksheets": [
  {
   "cells": [
    {
     "cell_type": "markdown",
     "metadata": {},
     "source": [
      "In the last model we simply watched money circulate around our economy. Because the same amount of money was spent in each time period, income was constant and there was nothing in the model to change this status quo. In this model, we'll allow our citizens an additional freedom. Instead of spending every pound they earn, they will have two options for how to use their income: they can save some part of it, and spend the rest.\n",
      "\n",
      "We need a new consumption function. In the last model we defined consumption as simply being exactly equal to income ($C = Y$). We can generalise this by stating that consumption spending is equal to some fraction, $\\alpha$, of income:\n",
      "\n",
      "$$C = \\alpha Y \\hspace{1cm} (1)$$\n",
      "\n",
      "where $0 \\gt \\alpha \\lt 1$. Our previous model, which implied complete, 100% spending of income with no savings, can now be seen as a special case in which $\\alpha = 1$. But if, for example, citizens in our economy decide to spend (on average) only 95% of their income (saving 5%), then we'd have $\\alpha = 0.95$ and spending would equal $0.95Y$. \n",
      "\n",
      "Like before, all spending becomes income, simply by the identity which links buyers with sellers. So we continue with the income equation:\n",
      "\n",
      "$$Y = C \\hspace{1cm} (2)$$\n",
      "\n",
      "But we have a third unknown in our economy now. The money that is not spent has to go somewhere. It cannot simply vanish. So we must define a variable to keep track of it. Effectively, we are considering unspent money to represent savings, and so we'll keep track of how much is saved. We'll label the accumulated savings (or \"wealth\") of the economy $H$. We need an equation which describes how $H$ is calculcated. \n",
      "\n",
      "If we know how much of income is being *spent* at any given moment (equation 1), then we can easily work out how much is being *saved* at any moment. It is simply $(1 - \\alpha) Y$. If 95% is being spent then 5% is being saved, for example. But if we know how much is being saved at any moment, what do we know about the size of $H$? Well, we don't know the absolute size of $H$, but we do know how much it has *changed* by. The standard way of notating a *change in a quantity* is to use the Greek \"delta\" character $\\Delta$. So our third equation will be:\n",
      "\n",
      "$$\\Delta H = (1 - \\alpha)Y \\hspace{1cm} (3)$$\n",
      "\n",
      "Equation 3 simply tells us by how much the accumulated wealth of the economy changes in relation to income. Okay, 3 unknowns ($C$, $Y$, $H$) and 3 equations. We can code these up now and see what happens."
     ]
    },
    {
     "cell_type": "heading",
     "level": 2,
     "metadata": {},
     "source": [
      "A model in Python"
     ]
    },
    {
     "cell_type": "markdown",
     "metadata": {},
     "source": [
      "Again, we'll iterate through some number of time steps and solve our equations as we go. Each variable needs to be updated at each time step so that we can understand the path of our economy. As before, we need to *discretize* our equations, that is, convert them into *difference equations* which can be computed across discrete time steps. \n",
      "\n",
      "Calculating $C$ in each time step is straightforward. As before, it is related to the income from the previous time step, but with a twist - only a fraction ($\\alpha) of the income from the previous time step is spent:\n",
      "\n",
      "$$C_t = \\alpha Y_{t-1}$$\n",
      "\n",
      "Spending is still immediately equated with income and to we retain\n",
      "\n",
      "$$Y_t = C_t$$\n",
      "\n",
      "And finally we need to calculate the stock of savings. From equation (3) we know how savings change on each time step. So it is fairly trivial to calculate what the total amount of accumulated savings are at any given time step by simply adding the change in savings to the existing savings from the previous time step\n",
      "\n",
      "$$H_t = H_{t-1} + (1 - \\alpha) Y_{t-1}$$\n",
      "\n",
      "Great, we've discretized our model. Now we can code it.\n",
      "\n",
      "As before, we first import our libraries,"
     ]
    },
    {
     "cell_type": "code",
     "collapsed": false,
     "input": [
      "import matplotlib.pyplot as plt\n",
      "import numpy as np\n",
      "%matplotlib inline  "
     ],
     "language": "python",
     "metadata": {},
     "outputs": [],
     "prompt_number": 92
    },
    {
     "cell_type": "markdown",
     "metadata": {},
     "source": [
      "then set the number of time intervals to simulate:"
     ]
    },
    {
     "cell_type": "code",
     "collapsed": false,
     "input": [
      "N = 100"
     ],
     "language": "python",
     "metadata": {},
     "outputs": [],
     "prompt_number": 93
    },
    {
     "cell_type": "markdown",
     "metadata": {},
     "source": [
      "Next, we create some arrays to hold the values of our unknown variables in each time step. We want 3 arrays for the 3 unknowns we have, and each needs to be the same length as the number of time steps (<code>N</code>)."
     ]
    },
    {
     "cell_type": "code",
     "collapsed": false,
     "input": [
      "C = np.zeros(N) # consumption\n",
      "Y = np.zeros(N) # income\n",
      "H = np.zeros(N) # private wealth"
     ],
     "language": "python",
     "metadata": {},
     "outputs": [],
     "prompt_number": 114
    },
    {
     "cell_type": "markdown",
     "metadata": {},
     "source": [
      "This model has a parameter, $\\alpha$, which describes the *propensity to consume*. This needs to be set. We'll go with a value of 95%, i.e. 95% of income is used for consumption spending. In decimal fraction notation this is <code>0.95</code>."
     ]
    },
    {
     "cell_type": "code",
     "collapsed": false,
     "input": [
      "alpha = 0.95"
     ],
     "language": "python",
     "metadata": {},
     "outputs": [],
     "prompt_number": 115
    },
    {
     "cell_type": "markdown",
     "metadata": {},
     "source": [
      "And as in the last model, we need to set some initial conditions in order to kickstart our economy. We go with the same initial spending spree of 100 pounds. This immediately equates to 100 pounds of income at the outset. So we'll set these initial conditions for <code>C</code> and <code>Y</code>. <code>H</code> does not need an initial condition to be explicitly set. The <code>H</code> array is already filled with zeros and therefore the initial state of accumulated wealth (the first value) is already simply zero, i.e. we start off with no savings. That is fine. We could give it some other starting value but there is not much to be gained by doing so."
     ]
    },
    {
     "cell_type": "code",
     "collapsed": false,
     "input": [
      "C[0] = 100\n",
      "Y[0] = 100"
     ],
     "language": "python",
     "metadata": {},
     "outputs": [],
     "prompt_number": 116
    },
    {
     "cell_type": "markdown",
     "metadata": {},
     "source": [
      "Okay, we can iterate through time using our difference equations."
     ]
    },
    {
     "cell_type": "code",
     "collapsed": false,
     "input": [
      "for t in range(1, N):\n",
      "    C[t] = alpha * Y[t-1]                # calculate spending based on earlier income (with some saving)\n",
      "    Y[t] = C[t]                          # calculcate income earned in this time period\n",
      "    H[t] = H[t-1] + (1 - alpha) * Y[t-1] # calculate increase in wealth from savings\n"
     ],
     "language": "python",
     "metadata": {},
     "outputs": [],
     "prompt_number": 117
    },
    {
     "cell_type": "markdown",
     "metadata": {},
     "source": [
      "Done. As before, we'll just plot the history of our economy and take a look. We create 3 plots this time, to represent our 3 unknown variables ($C$, $Y$, $H$)."
     ]
    },
    {
     "cell_type": "code",
     "collapsed": false,
     "input": [
      "# create a figure\n",
      "fig = plt.figure()\n",
      "\n",
      "# create a subplot for consumption\n",
      "consumption_plot = fig.add_subplot(131)\n",
      "# plot consumption (C) versus time step (N)\n",
      "consumption_plot.plot(range(N), C, lw=3)\n",
      "# add gridlines\n",
      "consumption_plot.grid()\n",
      "# ensure a zero origin for the y axis\n",
      "consumption_plot.set_ylim([0, np.max(C)])\n",
      "# label axes\n",
      "plt.xlabel('time')\n",
      "plt.ylabel('consumption')\n",
      "\n",
      "# create a second subplot for income\n",
      "income_plot = fig.add_subplot(132)\n",
      "# plot income (Y) versus time step (N)\n",
      "income_plot.plot(range(N), Y, lw=3)\n",
      "# add gridlines\n",
      "income_plot.grid()\n",
      "# ensure a zero origin for the y axis\n",
      "income_plot.set_ylim([0, np.max(Y)])\n",
      "# label axes\n",
      "plt.xlabel('time')\n",
      "plt.ylabel('income')\n",
      "\n",
      "# create a third subplot for private wealth\n",
      "savings_plot = fig.add_subplot(133)\n",
      "# plot savings (H) versus time step (N)\n",
      "savings_plot.plot(range(N), H, lw=3)\n",
      "# add gridlines\n",
      "savings_plot.grid()\n",
      "# ensure a zero origin for the y axis\n",
      "savings_plot.set_ylim([0, 100])\n",
      "# label axes\n",
      "plt.xlabel('time')\n",
      "plt.ylabel('savings')\n",
      "\n",
      "# space subplots neatly\n",
      "plt.tight_layout()"
     ],
     "language": "python",
     "metadata": {},
     "outputs": [
      {
       "metadata": {},
       "output_type": "display_data",
       "png": "[encoded data removed]",
       "text": [
        "<matplotlib.figure.Figure at 0x7fc679be6d50>"
       ]
      }
     ],
     "prompt_number": 118
    },
    {
     "cell_type": "markdown",
     "metadata": {},
     "source": [
      "That's a bit more interesting, if a bit mixed, really, in terms of what it means for our economy. Our disciplined citizens have manged to save enough money to have accumulated 100 pounds of savings by the end of the model run. Maybe they should feel very pround of themselves. But hang on a minute... Look what's happened to their incomes! Incomes have dropped from 100 pounds per time step at the start to 0 at the end of the simulation. This is a recession of catastrophic proportions. Let's walk through what happened.\n",
      "\n",
      "In the first time step, 100 pounds was spent and immediately earned as income. In the next time step, 95 pounds were spent - 95% of the earned income from previously - and 5 pounds were added to the savings account. These 95 pounds were immediately earned as income for spending in the next time step. In the 3rd time step, 95% of that 95 pounds of income was spent on and the other 5% saved. That's 90.25 pounds of spending (and, therefore, concurrent income) and 4.75 pounds of saving taking the savings account to 9.75 pounds. In the 4th time step, 85.74 pounds were spent of the 90.25 pounds earned from the previous time step, with 4.51 being added to savings. And so on.\n",
      "\n",
      "Because of the intention to accumulate savings, the income available for spending on each time step is smaller than the time step before. This results in a feedback cycle of less income begeting less future spending which begets yet less income and even lower subsequent spending. As the accumulated savings in the economy grows, the amount of money cycling round the economy - supporting spending and incomes - becomes smaller and smaller. Eventually, the entire money stock is held as savings and there is no money circulating at all. This is a completely unstable economy.\n",
      "\n",
      "The problem highlighted in this model was called *The Paradox of Thrift* by John Maynard Keynes. The paradox refers to the fact that the attempt of private individuals (and/or businesses) to collectively save causes aggregate incomes to drop. The fall in incomes has at least two effects. If it occurs equally across all individuals then it means that living standards decline: everyone has less purchasing power. More likely, however, is that it will not affect all individuals equally and will instead result in some people becoming unemployed. A more subtle effect of the fall in incomes, however, is simply that it means that less can be saved in future. In these ways, the attempt to save *en masse* can be considered self-defeating."
     ]
    },
    {
     "cell_type": "heading",
     "level": 2,
     "metadata": {},
     "source": [
      "Reacting to the recession"
     ]
    },
    {
     "cell_type": "markdown",
     "metadata": {},
     "source": [
      "The model economy simulated above is an extreme scenario and unlikely to occur in practise. The reason is that some amount of spending is utterly necessary, to provide for, well, the necessities in life: food, shelter, energy, etc. It is highly unlikely that individuals would forgo such necessities because of their intention to save. At some point during the decline in incomes it is more likely that folk will start to spend some of the savings that they have accumulated in order to replace some of the lost income. Let's try a new model which reflects this behaviour.\n",
      "\n",
      "What we want is for some spending out of the stock of savings to occur. And what would seem intuitively consistent with the scenario postulated above is that more is spent out of savings when incomes are lower and less when incomes are higher. Put another way, more is spent out of savings when the accumulated savings are larger. A simple way to achieve this is if a ixed proportion of wealth is spent at any given time. This means that when accumulated savings are smaller, the spending out of savings is small. And when accumulated savings are large, the spent savings are large. To put it more directly, 5% of a small amount is a small amount; 5% of a larger amount is a larger amount!\n",
      "\n",
      "So, our consumption function now needs two parameters: the fraction of income that is spent at any given point in time, and the fraction of savings that are spent at the same time. We'll continue to use the $\\alpha$ character, but will distinguish between the propoensity to consume out of income, $\\alpha_Y$, and the propensity to consume out of savings, $\\alpha_H$. So now total consumption is the sum of spending out of income and savings:\n",
      "\n",
      "$$C = \\alpha_Y Y + \\alpha_H H$$\n",
      "\n",
      "\n",
      "\n",
      "\n",
      "\n",
      "$$\\Delta H = (1 - \\alpha_a)Y - \\alpha_b H$$\n",
      "\n"
     ]
    },
    {
     "cell_type": "code",
     "collapsed": false,
     "input": [
      "C = np.zeros(N) # consumption\n",
      "Y = np.zeros(N) # income\n",
      "H = np.zeros(N) # private wealth"
     ],
     "language": "python",
     "metadata": {},
     "outputs": [],
     "prompt_number": 107
    },
    {
     "cell_type": "code",
     "collapsed": false,
     "input": [
      "alpha_a = 0.95\n",
      "alpha_b = 0.10"
     ],
     "language": "python",
     "metadata": {},
     "outputs": [],
     "prompt_number": 108
    },
    {
     "cell_type": "code",
     "collapsed": false,
     "input": [
      "C[0] = 100\n",
      "Y[0] = 100"
     ],
     "language": "python",
     "metadata": {},
     "outputs": [],
     "prompt_number": 109
    },
    {
     "cell_type": "code",
     "collapsed": false,
     "input": [
      "for t in range(1, N):\n",
      "    C[t] = alpha_a * Y[t-1] + alpha_b * H[t-1]                # calculate spending based on earlier income (with some saving)\n",
      "    Y[t] = C[t]                                               # calculcate income earned in this time period\n",
      "    H[t] = H[t-1] + (1 - alpha_a) * Y[t-1] - alpha_b * H[t-1] # calculate change in wealth from saving and spending\n"
     ],
     "language": "python",
     "metadata": {},
     "outputs": [],
     "prompt_number": 110
    },
    {
     "cell_type": "code",
     "collapsed": false,
     "input": [
      "# create a figure\n",
      "fig = plt.figure()\n",
      "\n",
      "# create a subplot for consumption\n",
      "consumption_plot = fig.add_subplot(131)\n",
      "# plot consumption (C) versus time step (N)\n",
      "consumption_plot.plot(range(N), C, lw=3)\n",
      "# add gridlines\n",
      "consumption_plot.grid()\n",
      "# ensure a zero origin for the y axis\n",
      "consumption_plot.set_ylim([0, np.max(C)])\n",
      "# label axes\n",
      "plt.xlabel('time')\n",
      "plt.ylabel('consumption')\n",
      "\n",
      "# create a second subplot for income\n",
      "income_plot = fig.add_subplot(132)\n",
      "# plot income (Y) versus time step (N)\n",
      "income_plot.plot(range(N), Y, lw=3)\n",
      "# add gridlines\n",
      "income_plot.grid()\n",
      "# ensure a zero origin for the y axis\n",
      "income_plot.set_ylim([0, np.max(Y)])\n",
      "# label axes\n",
      "plt.xlabel('time')\n",
      "plt.ylabel('income')\n",
      "\n",
      "# create a third subplot for private wealth\n",
      "wealth_plot = fig.add_subplot(133)\n",
      "# plot wealth (H) versus time step (N)\n",
      "wealth_plot.plot(range(N), H, lw=3)\n",
      "# add gridlines\n",
      "wealth_plot.grid()\n",
      "# ensure a zero origin for the y axis\n",
      "wealth_plot.set_ylim([0, 100])\n",
      "# label axes\n",
      "plt.xlabel('time')\n",
      "plt.ylabel('wealth')\n",
      "\n",
      "# space subplots neatly\n",
      "plt.tight_layout()"
     ],
     "language": "python",
     "metadata": {},
     "outputs": [
      {
       "metadata": {},
       "output_type": "display_data",
       "png": "[encoded data removed]",
       "text": [
        "<matplotlib.figure.Figure at 0x7fc67a075c90>"
       ]
      }
     ],
     "prompt_number": 111
    },
    {
     "cell_type": "markdown",
     "metadata": {},
     "source": [
      "Again we reach a position, like the last model, where spending is constant through time - and therefore so are incomes. This is an equilibrium position which occurs when the money saved out of income is equal to the money spent out of wealth. At this point the wealth doesn't grow and so there is no net drain out of the spending cycle. But this equilibrium has occured at a much lower level of income than in the non-saving model. So although the wealth of the private sector is larger, the incomes are smaller. In other words, saving results less demand and lower incomes.\n",
      "\n",
      "$$\\Delta H = (1 - \\alpha_a)Y - \\alpha_b H$$\n",
      "\n",
      "At steady state:\n",
      "\n",
      "$$0 = (1 - \\alpha_a)Y^* - \\alpha_b H^*$$\n",
      "\n",
      "$$(1 - \\alpha_a)Y^* = \\alpha_b H^*$$\n",
      "\n",
      "$$H^* = \\frac{(1 - \\alpha_a)}{\\alpha_b}Y^*$$\n",
      "\n",
      "\n",
      "\n",
      "https://en.wikipedia.org/wiki/Life-cycle_hypothesis\n"
     ]
    },
    {
     "cell_type": "code",
     "collapsed": false,
     "input": [
      "(1 - alpha_a)/alpha_b"
     ],
     "language": "python",
     "metadata": {},
     "outputs": [
      {
       "metadata": {},
       "output_type": "pyout",
       "prompt_number": 69,
       "text": [
        "1.6666666666666683"
       ]
      }
     ],
     "prompt_number": 69
    },
    {
     "cell_type": "markdown",
     "metadata": {},
     "source": [
      "NOTES\n",
      "\n",
      "\n",
      "The problem highlighted in this model was called *The Paradox of Thrift* by John Maynard Keynes. The paradox refers to the fact that the attempt to save\n",
      "\n",
      "$$$$\n",
      "\n",
      "Exogenous versus endogenous - alpha now first exogenous variable.\n",
      "\n",
      "Differentiation of monetary wealth (static money) and income. Total money stock is split between the two.\n",
      "\n",
      "So the amount of saving is related to income too. Furthermore, since $\\alpha$ is just a numeric fraction between $0$ and $0$ it has no units associated with it. We call such a quantity a *dimensionless* quantity. This means that we can clearly see that saving is a flow quantity\n",
      "\n",
      "$\\alpha$ can be considered to represent the *propensity to consume* and the difference $1 - \\alpha$ the *propensity to save*. \n",
      "\n"
     ]
    },
    {
     "cell_type": "code",
     "collapsed": false,
     "input": [
      "C = np.zeros(N) # consumption\n",
      "Y = np.zeros(N) # income\n",
      "H = np.zeros(N) # private wealth\n",
      "\n"
     ],
     "language": "python",
     "metadata": {},
     "outputs": [],
     "prompt_number": 139
    },
    {
     "cell_type": "code",
     "collapsed": false,
     "input": [
      "alpha_a = np.zeros(N)\n",
      "alpha_b = np.zeros(N)\n",
      "\n",
      "alpha_a[:50] = 0.95\n",
      "alpha_a[50:] = 0.90\n",
      "\n",
      "alpha_b[:] = 0.10\n",
      "\n",
      "alpha_a"
     ],
     "language": "python",
     "metadata": {},
     "outputs": [
      {
       "metadata": {},
       "output_type": "pyout",
       "prompt_number": 140,
       "text": [
        "array([ 0.95,  0.95,  0.95,  0.95,  0.95,  0.95,  0.95,  0.95,  0.95,\n",
        "        0.95,  0.95,  0.95,  0.95,  0.95,  0.95,  0.95,  0.95,  0.95,\n",
        "        0.95,  0.95,  0.95,  0.95,  0.95,  0.95,  0.95,  0.95,  0.95,\n",
        "        0.95,  0.95,  0.95,  0.95,  0.95,  0.95,  0.95,  0.95,  0.95,\n",
        "        0.95,  0.95,  0.95,  0.95,  0.95,  0.95,  0.95,  0.95,  0.95,\n",
        "        0.95,  0.95,  0.95,  0.95,  0.95,  0.9 ,  0.9 ,  0.9 ,  0.9 ,\n",
        "        0.9 ,  0.9 ,  0.9 ,  0.9 ,  0.9 ,  0.9 ,  0.9 ,  0.9 ,  0.9 ,\n",
        "        0.9 ,  0.9 ,  0.9 ,  0.9 ,  0.9 ,  0.9 ,  0.9 ,  0.9 ,  0.9 ,\n",
        "        0.9 ,  0.9 ,  0.9 ,  0.9 ,  0.9 ,  0.9 ,  0.9 ,  0.9 ,  0.9 ,\n",
        "        0.9 ,  0.9 ,  0.9 ,  0.9 ,  0.9 ,  0.9 ,  0.9 ,  0.9 ,  0.9 ,\n",
        "        0.9 ,  0.9 ,  0.9 ,  0.9 ,  0.9 ,  0.9 ,  0.9 ,  0.9 ,  0.9 ,  0.9 ])"
       ]
      }
     ],
     "prompt_number": 140
    },
    {
     "cell_type": "code",
     "collapsed": false,
     "input": [
      "C[0] = 100\n",
      "Y[0] = 100"
     ],
     "language": "python",
     "metadata": {},
     "outputs": [],
     "prompt_number": 141
    },
    {
     "cell_type": "code",
     "collapsed": false,
     "input": [
      "for t in range(1, N):\n",
      "    C[t] = alpha_a[t] * Y[t-1] + alpha_b[t] * H[t-1]                # calculate spending based on earlier income (with some saving)\n",
      "    Y[t] = C[t]                                               # calculcate income earned in this time period\n",
      "    H[t] = H[t-1] + (1 - alpha_a[t]) * Y[t-1] - alpha_b[t] * H[t-1] # calculate change in wealth from saving and spending\n"
     ],
     "language": "python",
     "metadata": {},
     "outputs": [],
     "prompt_number": 142
    },
    {
     "cell_type": "code",
     "collapsed": false,
     "input": [
      "# create a figure\n",
      "fig = plt.figure()\n",
      "\n",
      "# create a subplot for consumption\n",
      "consumption_plot = fig.add_subplot(131)\n",
      "# plot consumption (C) versus time step (N)\n",
      "consumption_plot.plot(range(N), C, lw=3)\n",
      "# add gridlines\n",
      "consumption_plot.grid()\n",
      "# ensure a zero origin for the y axis\n",
      "consumption_plot.set_ylim([0, np.max(C)])\n",
      "# label axes\n",
      "plt.xlabel('time')\n",
      "plt.ylabel('consumption')\n",
      "\n",
      "# create a second subplot for income\n",
      "income_plot = fig.add_subplot(132)\n",
      "# plot income (Y) versus time step (N)\n",
      "income_plot.plot(range(N), Y, lw=3)\n",
      "# add gridlines\n",
      "income_plot.grid()\n",
      "# ensure a zero origin for the y axis\n",
      "income_plot.set_ylim([0, np.max(Y)])\n",
      "# label axes\n",
      "plt.xlabel('time')\n",
      "plt.ylabel('income')\n",
      "\n",
      "# create a third subplot for private wealth\n",
      "wealth_plot = fig.add_subplot(133)\n",
      "# plot wealth (H) versus time step (N)\n",
      "wealth_plot.plot(range(N), H, lw=3)\n",
      "# add gridlines\n",
      "wealth_plot.grid()\n",
      "# ensure a zero origin for the y axis\n",
      "wealth_plot.set_ylim([0, 100])\n",
      "# label axes\n",
      "plt.xlabel('time')\n",
      "plt.ylabel('wealth')\n",
      "\n",
      "# space subplots neatly\n",
      "plt.tight_layout()"
     ],
     "language": "python",
     "metadata": {},
     "outputs": [
      {
       "metadata": {},
       "output_type": "display_data",
       "png": "[encoded data removed]",
       "text": [
        "<matplotlib.figure.Figure at 0x7fc679ede290>"
       ]
      }
     ],
     "prompt_number": 143
    },
    {
     "cell_type": "code",
     "collapsed": false,
     "input": [],
     "language": "python",
     "metadata": {},
     "outputs": []
    },
    {
     "cell_type": "code",
     "collapsed": false,
     "input": [],
     "language": "python",
     "metadata": {},
     "outputs": []
    },
    {
     "cell_type": "markdown",
     "metadata": {},
     "source": [
      "CONCLUSIONS\n",
      "\n",
      "In a fixed money economy, saving causes a build up of wealth but a reduction in incomes.\n",
      "\n",
      "If saving cannot continue indefinitely, would result in entire money supply being held in wealth, with no economic activty.\n",
      "\n",
      "Rather, continued attempts to save likely to result in consumption out of savings (Modigliani function). In other words, attempts to save are self defeating.\n",
      "\n",
      "An increase in savings rate causes a recession (fall in incomes - show this with step change)."
     ]
    },
    {
     "cell_type": "code",
     "collapsed": false,
     "input": [],
     "language": "python",
     "metadata": {},
     "outputs": []
    }
   ],
   "metadata": {}
  }
 ]
}